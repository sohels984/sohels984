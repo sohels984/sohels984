{
  "metadata": {
    "kernelspec": {
      "language": "python",
      "display_name": "Python 3",
      "name": "python3"
    },
    "language_info": {
      "name": "python",
      "version": "3.10.12",
      "mimetype": "text/x-python",
      "codemirror_mode": {
        "name": "ipython",
        "version": 3
      },
      "pygments_lexer": "ipython3",
      "nbconvert_exporter": "python",
      "file_extension": ".py"
    },
    "colab": {
      "provenance": [],
      "include_colab_link": true
    }
  },
  "nbformat_minor": 0,
  "nbformat": 4,
  "cells": [
    {
      "cell_type": "markdown",
      "metadata": {
        "id": "view-in-github",
        "colab_type": "text"
      },
      "source": [
        "<a href=\"https://colab.research.google.com/github/sohels984/sohels984/blob/main/crime_against_women_20012014_india.ipynb\" target=\"_parent\"><img src=\"https://colab.research.google.com/assets/colab-badge.svg\" alt=\"Open In Colab\"/></a>"
      ]
    },
    {
      "cell_type": "code",
      "source": [
        "# This Python 3 environment comes with many helpful analytics libraries installed\n",
        "# It is defined by the kaggle/python Docker image: https://github.com/kaggle/docker-python\n",
        "# For example, here's several helpful packages to load\n",
        "\n",
        "import numpy as np # linear algebra\n",
        "import pandas as pd # data processing, CSV file I/O (e.g. pd.read_csv)\n",
        "\n",
        "# Input data files are available in the read-only \"../input/\" directory\n",
        "# For example, running this (by clicking run or pressing Shift+Enter) will list all files under the input directory\n",
        "\n",
        "import os\n",
        "for dirname, _, filenames in os.walk('/kaggle/input'):\n",
        "    for filename in filenames:\n",
        "        print(os.path.join(dirname, filename))\n",
        "\n",
        "# You can write up to 20GB to the current directory (/kaggle/working/) that gets preserved as output when you create a version using \"Save & Run All\"\n",
        "# You can also write temporary files to /kaggle/temp/, but they won't be saved outside of the current session"
      ],
      "metadata": {
        "_uuid": "8f2839f25d086af736a60e9eeb907d3b93b6e0e5",
        "_cell_guid": "b1076dfc-b9ad-4769-8c92-a6c4dae69d19",
        "execution": {
          "iopub.status.busy": "2023-07-17T18:11:24.742023Z",
          "iopub.execute_input": "2023-07-17T18:11:24.742346Z",
          "iopub.status.idle": "2023-07-17T18:11:24.827590Z",
          "shell.execute_reply.started": "2023-07-17T18:11:24.742316Z",
          "shell.execute_reply": "2023-07-17T18:11:24.826984Z"
        },
        "trusted": true,
        "id": "I_klLpZt7seU",
        "outputId": "81050f42-66cc-42a6-ba66-2999e73772f3"
      },
      "execution_count": null,
      "outputs": [
        {
          "name": "stdout",
          "text": "/kaggle/input/crime-against-women-20012014-india/crimes_against_women_2001-2014.csv\n",
          "output_type": "stream"
        }
      ]
    },
    {
      "cell_type": "code",
      "source": [
        "import pandas as pd"
      ],
      "metadata": {
        "execution": {
          "iopub.status.busy": "2023-07-17T18:11:24.829330Z",
          "iopub.execute_input": "2023-07-17T18:11:24.829643Z",
          "iopub.status.idle": "2023-07-17T18:11:24.834818Z",
          "shell.execute_reply.started": "2023-07-17T18:11:24.829615Z",
          "shell.execute_reply": "2023-07-17T18:11:24.834004Z"
        },
        "trusted": true,
        "id": "AyoDrmU17seX"
      },
      "execution_count": null,
      "outputs": []
    },
    {
      "cell_type": "code",
      "source": [
        "df=pd.read_csv(\"/kaggle/input/crime-against-women-20012014-india/crimes_against_women_2001-2014.csv\")"
      ],
      "metadata": {
        "execution": {
          "iopub.status.busy": "2023-07-17T18:11:24.835636Z",
          "iopub.execute_input": "2023-07-17T18:11:24.835923Z",
          "iopub.status.idle": "2023-07-17T18:11:24.895146Z",
          "shell.execute_reply.started": "2023-07-17T18:11:24.835887Z",
          "shell.execute_reply": "2023-07-17T18:11:24.894343Z"
        },
        "trusted": true,
        "id": "buY1V6QM7seX"
      },
      "execution_count": null,
      "outputs": []
    },
    {
      "cell_type": "code",
      "source": [
        "df.head()"
      ],
      "metadata": {
        "execution": {
          "iopub.status.busy": "2023-07-17T18:11:24.896793Z",
          "iopub.execute_input": "2023-07-17T18:11:24.897129Z",
          "iopub.status.idle": "2023-07-17T18:11:24.918020Z",
          "shell.execute_reply.started": "2023-07-17T18:11:24.897101Z",
          "shell.execute_reply": "2023-07-17T18:11:24.917205Z"
        },
        "trusted": true,
        "id": "x2-KZis-7seY",
        "outputId": "9f8eec2b-1829-47de-94cb-fca26e53a0e0"
      },
      "execution_count": null,
      "outputs": [
        {
          "execution_count": 5,
          "output_type": "execute_result",
          "data": {
            "text/plain": "   Unnamed: 0        STATE/UT       DISTRICT  Year  Rape  \\\n0           0  ANDHRA PRADESH       ADILABAD  2001    50   \n1           1  ANDHRA PRADESH      ANANTAPUR  2001    23   \n2           2  ANDHRA PRADESH       CHITTOOR  2001    27   \n3           3  ANDHRA PRADESH       CUDDAPAH  2001    20   \n4           4  ANDHRA PRADESH  EAST GODAVARI  2001    23   \n\n   Kidnapping and Abduction  Dowry Deaths  \\\n0                        30            16   \n1                        30             7   \n2                        34            14   \n3                        20            17   \n4                        26            12   \n\n   Assault on women with intent to outrage her modesty  \\\n0                                                149     \n1                                                118     \n2                                                112     \n3                                                126     \n4                                                109     \n\n   Insult to modesty of Women  Cruelty by Husband or his Relatives  \\\n0                          34                                  175   \n1                          24                                  154   \n2                          83                                  186   \n3                          38                                   57   \n4                          58                                  247   \n\n   Importation of Girls  \n0                     0  \n1                     0  \n2                     0  \n3                     0  \n4                     0  ",
            "text/html": "<div>\n<style scoped>\n    .dataframe tbody tr th:only-of-type {\n        vertical-align: middle;\n    }\n\n    .dataframe tbody tr th {\n        vertical-align: top;\n    }\n\n    .dataframe thead th {\n        text-align: right;\n    }\n</style>\n<table border=\"1\" class=\"dataframe\">\n  <thead>\n    <tr style=\"text-align: right;\">\n      <th></th>\n      <th>Unnamed: 0</th>\n      <th>STATE/UT</th>\n      <th>DISTRICT</th>\n      <th>Year</th>\n      <th>Rape</th>\n      <th>Kidnapping and Abduction</th>\n      <th>Dowry Deaths</th>\n      <th>Assault on women with intent to outrage her modesty</th>\n      <th>Insult to modesty of Women</th>\n      <th>Cruelty by Husband or his Relatives</th>\n      <th>Importation of Girls</th>\n    </tr>\n  </thead>\n  <tbody>\n    <tr>\n      <th>0</th>\n      <td>0</td>\n      <td>ANDHRA PRADESH</td>\n      <td>ADILABAD</td>\n      <td>2001</td>\n      <td>50</td>\n      <td>30</td>\n      <td>16</td>\n      <td>149</td>\n      <td>34</td>\n      <td>175</td>\n      <td>0</td>\n    </tr>\n    <tr>\n      <th>1</th>\n      <td>1</td>\n      <td>ANDHRA PRADESH</td>\n      <td>ANANTAPUR</td>\n      <td>2001</td>\n      <td>23</td>\n      <td>30</td>\n      <td>7</td>\n      <td>118</td>\n      <td>24</td>\n      <td>154</td>\n      <td>0</td>\n    </tr>\n    <tr>\n      <th>2</th>\n      <td>2</td>\n      <td>ANDHRA PRADESH</td>\n      <td>CHITTOOR</td>\n      <td>2001</td>\n      <td>27</td>\n      <td>34</td>\n      <td>14</td>\n      <td>112</td>\n      <td>83</td>\n      <td>186</td>\n      <td>0</td>\n    </tr>\n    <tr>\n      <th>3</th>\n      <td>3</td>\n      <td>ANDHRA PRADESH</td>\n      <td>CUDDAPAH</td>\n      <td>2001</td>\n      <td>20</td>\n      <td>20</td>\n      <td>17</td>\n      <td>126</td>\n      <td>38</td>\n      <td>57</td>\n      <td>0</td>\n    </tr>\n    <tr>\n      <th>4</th>\n      <td>4</td>\n      <td>ANDHRA PRADESH</td>\n      <td>EAST GODAVARI</td>\n      <td>2001</td>\n      <td>23</td>\n      <td>26</td>\n      <td>12</td>\n      <td>109</td>\n      <td>58</td>\n      <td>247</td>\n      <td>0</td>\n    </tr>\n  </tbody>\n</table>\n</div>"
          },
          "metadata": {}
        }
      ]
    },
    {
      "cell_type": "code",
      "source": [
        "df.info()"
      ],
      "metadata": {
        "execution": {
          "iopub.status.busy": "2023-07-17T18:11:24.920615Z",
          "iopub.execute_input": "2023-07-17T18:11:24.920905Z",
          "iopub.status.idle": "2023-07-17T18:11:24.947012Z",
          "shell.execute_reply.started": "2023-07-17T18:11:24.920873Z",
          "shell.execute_reply": "2023-07-17T18:11:24.946042Z"
        },
        "trusted": true,
        "id": "q279rOXq7seY",
        "outputId": "8793a337-8a91-48fd-a573-fe1c2e956f9d"
      },
      "execution_count": null,
      "outputs": [
        {
          "name": "stdout",
          "text": "<class 'pandas.core.frame.DataFrame'>\nRangeIndex: 10677 entries, 0 to 10676\nData columns (total 11 columns):\n #   Column                                               Non-Null Count  Dtype \n---  ------                                               --------------  ----- \n 0   Unnamed: 0                                           10677 non-null  int64 \n 1   STATE/UT                                             10677 non-null  object\n 2   DISTRICT                                             10677 non-null  object\n 3   Year                                                 10677 non-null  int64 \n 4   Rape                                                 10677 non-null  int64 \n 5   Kidnapping and Abduction                             10677 non-null  int64 \n 6   Dowry Deaths                                         10677 non-null  int64 \n 7   Assault on women with intent to outrage her modesty  10677 non-null  int64 \n 8   Insult to modesty of Women                           10677 non-null  int64 \n 9   Cruelty by Husband or his Relatives                  10677 non-null  int64 \n 10  Importation of Girls                                 10677 non-null  int64 \ndtypes: int64(9), object(2)\nmemory usage: 917.7+ KB\n",
          "output_type": "stream"
        }
      ]
    },
    {
      "cell_type": "code",
      "source": [
        "df.describe()"
      ],
      "metadata": {
        "execution": {
          "iopub.status.busy": "2023-07-17T18:11:24.948343Z",
          "iopub.execute_input": "2023-07-17T18:11:24.949009Z",
          "iopub.status.idle": "2023-07-17T18:11:24.986992Z",
          "shell.execute_reply.started": "2023-07-17T18:11:24.948974Z",
          "shell.execute_reply": "2023-07-17T18:11:24.985952Z"
        },
        "trusted": true,
        "id": "pCDFjrD57seY",
        "outputId": "9cef4a6e-87b9-45c1-bd05-9a10be335c91"
      },
      "execution_count": null,
      "outputs": [
        {
          "execution_count": 7,
          "output_type": "execute_result",
          "data": {
            "text/plain": "         Unnamed: 0          Year          Rape  Kidnapping and Abduction  \\\ncount  10677.000000  10677.000000  10677.000000              10677.000000   \nmean    3871.570198   2007.697949     57.989885                 69.888358   \nstd     2816.369918      4.046874    214.230398                311.623450   \nmin        0.000000   2001.000000      0.000000                  0.000000   \n25%     1009.000000   2004.000000      8.000000                  6.000000   \n50%     3678.000000   2008.000000     22.000000                 20.000000   \n75%     6347.000000   2011.000000     44.000000                 49.000000   \nmax     9016.000000   2014.000000   5076.000000              10626.000000   \n\n       Dowry Deaths  Assault on women with intent to outrage her modesty  \\\ncount  10677.000000                                       10677.000000     \nmean      20.181699                                         113.539196     \nstd       98.276531                                         458.903951     \nmin        0.000000                                           0.000000     \n25%        1.000000                                          10.000000     \n50%        5.000000                                          34.000000     \n75%       16.000000                                          85.000000     \nmax     2469.000000                                       10001.000000     \n\n       Insult to modesty of Women  Cruelty by Husband or his Relatives  \\\ncount                10677.000000                         10677.000000   \nmean                    27.419313                           209.224314   \nstd                    167.806797                           905.664362   \nmin                      0.000000                             0.000000   \n25%                      0.000000                            11.000000   \n50%                      2.000000                            50.000000   \n75%                     12.000000                           144.000000   \nmax                   4970.000000                         23278.000000   \n\n       Importation of Girls  \ncount          10677.000000  \nmean               0.175330  \nstd                2.228637  \nmin                0.000000  \n25%                0.000000  \n50%                0.000000  \n75%                0.000000  \nmax               83.000000  ",
            "text/html": "<div>\n<style scoped>\n    .dataframe tbody tr th:only-of-type {\n        vertical-align: middle;\n    }\n\n    .dataframe tbody tr th {\n        vertical-align: top;\n    }\n\n    .dataframe thead th {\n        text-align: right;\n    }\n</style>\n<table border=\"1\" class=\"dataframe\">\n  <thead>\n    <tr style=\"text-align: right;\">\n      <th></th>\n      <th>Unnamed: 0</th>\n      <th>Year</th>\n      <th>Rape</th>\n      <th>Kidnapping and Abduction</th>\n      <th>Dowry Deaths</th>\n      <th>Assault on women with intent to outrage her modesty</th>\n      <th>Insult to modesty of Women</th>\n      <th>Cruelty by Husband or his Relatives</th>\n      <th>Importation of Girls</th>\n    </tr>\n  </thead>\n  <tbody>\n    <tr>\n      <th>count</th>\n      <td>10677.000000</td>\n      <td>10677.000000</td>\n      <td>10677.000000</td>\n      <td>10677.000000</td>\n      <td>10677.000000</td>\n      <td>10677.000000</td>\n      <td>10677.000000</td>\n      <td>10677.000000</td>\n      <td>10677.000000</td>\n    </tr>\n    <tr>\n      <th>mean</th>\n      <td>3871.570198</td>\n      <td>2007.697949</td>\n      <td>57.989885</td>\n      <td>69.888358</td>\n      <td>20.181699</td>\n      <td>113.539196</td>\n      <td>27.419313</td>\n      <td>209.224314</td>\n      <td>0.175330</td>\n    </tr>\n    <tr>\n      <th>std</th>\n      <td>2816.369918</td>\n      <td>4.046874</td>\n      <td>214.230398</td>\n      <td>311.623450</td>\n      <td>98.276531</td>\n      <td>458.903951</td>\n      <td>167.806797</td>\n      <td>905.664362</td>\n      <td>2.228637</td>\n    </tr>\n    <tr>\n      <th>min</th>\n      <td>0.000000</td>\n      <td>2001.000000</td>\n      <td>0.000000</td>\n      <td>0.000000</td>\n      <td>0.000000</td>\n      <td>0.000000</td>\n      <td>0.000000</td>\n      <td>0.000000</td>\n      <td>0.000000</td>\n    </tr>\n    <tr>\n      <th>25%</th>\n      <td>1009.000000</td>\n      <td>2004.000000</td>\n      <td>8.000000</td>\n      <td>6.000000</td>\n      <td>1.000000</td>\n      <td>10.000000</td>\n      <td>0.000000</td>\n      <td>11.000000</td>\n      <td>0.000000</td>\n    </tr>\n    <tr>\n      <th>50%</th>\n      <td>3678.000000</td>\n      <td>2008.000000</td>\n      <td>22.000000</td>\n      <td>20.000000</td>\n      <td>5.000000</td>\n      <td>34.000000</td>\n      <td>2.000000</td>\n      <td>50.000000</td>\n      <td>0.000000</td>\n    </tr>\n    <tr>\n      <th>75%</th>\n      <td>6347.000000</td>\n      <td>2011.000000</td>\n      <td>44.000000</td>\n      <td>49.000000</td>\n      <td>16.000000</td>\n      <td>85.000000</td>\n      <td>12.000000</td>\n      <td>144.000000</td>\n      <td>0.000000</td>\n    </tr>\n    <tr>\n      <th>max</th>\n      <td>9016.000000</td>\n      <td>2014.000000</td>\n      <td>5076.000000</td>\n      <td>10626.000000</td>\n      <td>2469.000000</td>\n      <td>10001.000000</td>\n      <td>4970.000000</td>\n      <td>23278.000000</td>\n      <td>83.000000</td>\n    </tr>\n  </tbody>\n</table>\n</div>"
          },
          "metadata": {}
        }
      ]
    },
    {
      "cell_type": "code",
      "source": [
        "df.isna().sum()"
      ],
      "metadata": {
        "execution": {
          "iopub.status.busy": "2023-07-17T18:11:24.988124Z",
          "iopub.execute_input": "2023-07-17T18:11:24.988668Z",
          "iopub.status.idle": "2023-07-17T18:11:25.000723Z",
          "shell.execute_reply.started": "2023-07-17T18:11:24.988640Z",
          "shell.execute_reply": "2023-07-17T18:11:24.999789Z"
        },
        "trusted": true,
        "id": "3LOrwy4w7seZ",
        "outputId": "71b22c5f-0a54-447b-a899-6b910a0e07f4"
      },
      "execution_count": null,
      "outputs": [
        {
          "execution_count": 8,
          "output_type": "execute_result",
          "data": {
            "text/plain": "Unnamed: 0                                             0\nSTATE/UT                                               0\nDISTRICT                                               0\nYear                                                   0\nRape                                                   0\nKidnapping and Abduction                               0\nDowry Deaths                                           0\nAssault on women with intent to outrage her modesty    0\nInsult to modesty of Women                             0\nCruelty by Husband or his Relatives                    0\nImportation of Girls                                   0\ndtype: int64"
          },
          "metadata": {}
        }
      ]
    },
    {
      "cell_type": "code",
      "source": [
        "df['STATE/UT'].unique()"
      ],
      "metadata": {
        "execution": {
          "iopub.status.busy": "2023-07-17T18:11:25.002006Z",
          "iopub.execute_input": "2023-07-17T18:11:25.002694Z",
          "iopub.status.idle": "2023-07-17T18:11:25.012038Z",
          "shell.execute_reply.started": "2023-07-17T18:11:25.002664Z",
          "shell.execute_reply": "2023-07-17T18:11:25.010994Z"
        },
        "trusted": true,
        "id": "DCBpj_MS7seZ",
        "outputId": "87a66b46-0cbf-4460-e99b-cd0bef76b4f0"
      },
      "execution_count": null,
      "outputs": [
        {
          "execution_count": 9,
          "output_type": "execute_result",
          "data": {
            "text/plain": "array(['ANDHRA PRADESH', 'ARUNACHAL PRADESH', 'ASSAM', 'BIHAR',\n       'CHHATTISGARH', 'GOA', 'GUJARAT', 'HARYANA', 'HIMACHAL PRADESH',\n       'JAMMU & KASHMIR', 'JHARKHAND', 'KARNATAKA', 'KERALA',\n       'MADHYA PRADESH', 'MAHARASHTRA', 'MANIPUR', 'MEGHALAYA', 'MIZORAM',\n       'NAGALAND', 'ODISHA', 'PUNJAB', 'RAJASTHAN', 'SIKKIM',\n       'TAMIL NADU', 'TRIPURA', 'UTTAR PRADESH', 'UTTARAKHAND',\n       'WEST BENGAL', 'A & N ISLANDS', 'CHANDIGARH', 'D & N HAVELI',\n       'DAMAN & DIU', 'DELHI', 'LAKSHADWEEP', 'PUDUCHERRY',\n       'Andhra Pradesh', 'Arunachal Pradesh', 'Assam', 'Bihar',\n       'Chhattisgarh', 'Goa', 'Gujarat', 'Haryana', 'Himachal Pradesh',\n       'Jammu & Kashmir', 'Jharkhand', 'Karnataka', 'Kerala',\n       'Madhya Pradesh', 'Maharashtra', 'Manipur', 'Meghalaya', 'Mizoram',\n       'Nagaland', 'Odisha', 'Punjab', 'Rajasthan', 'Sikkim',\n       'Tamil Nadu', 'Tripura', 'Uttar Pradesh', 'Uttarakhand',\n       'West Bengal', 'A&N Islands', 'Chandigarh', 'D&N Haveli',\n       'Daman & Diu', 'Delhi UT', 'Lakshadweep', 'Puducherry',\n       'Telangana', 'A & N Islands'], dtype=object)"
          },
          "metadata": {}
        }
      ]
    },
    {
      "cell_type": "code",
      "source": [
        "df[\"STATE/UT\"]=df[\"STATE/UT\"].replace({'A & N ISLANDS':'A&N Islands','A & N Islands':'A&N Islands'})"
      ],
      "metadata": {
        "execution": {
          "iopub.status.busy": "2023-07-17T18:11:25.013362Z",
          "iopub.execute_input": "2023-07-17T18:11:25.013653Z",
          "iopub.status.idle": "2023-07-17T18:11:25.022975Z",
          "shell.execute_reply.started": "2023-07-17T18:11:25.013629Z",
          "shell.execute_reply": "2023-07-17T18:11:25.022096Z"
        },
        "trusted": true,
        "id": "QFNF1Ram7seZ"
      },
      "execution_count": null,
      "outputs": []
    },
    {
      "cell_type": "code",
      "source": [
        "df['STATE/UT'] = df['STATE/UT'].str.upper()"
      ],
      "metadata": {
        "execution": {
          "iopub.status.busy": "2023-07-17T18:11:25.024673Z",
          "iopub.execute_input": "2023-07-17T18:11:25.025206Z",
          "iopub.status.idle": "2023-07-17T18:11:25.037720Z",
          "shell.execute_reply.started": "2023-07-17T18:11:25.025175Z",
          "shell.execute_reply": "2023-07-17T18:11:25.037040Z"
        },
        "trusted": true,
        "id": "P862hHX17seZ"
      },
      "execution_count": null,
      "outputs": []
    },
    {
      "cell_type": "markdown",
      "source": [],
      "metadata": {
        "id": "KVD9kNBl7sea"
      }
    },
    {
      "cell_type": "code",
      "source": [
        "df['STATE/UT'].unique()"
      ],
      "metadata": {
        "execution": {
          "iopub.status.busy": "2023-07-17T18:11:25.039799Z",
          "iopub.execute_input": "2023-07-17T18:11:25.040141Z",
          "iopub.status.idle": "2023-07-17T18:11:25.051926Z",
          "shell.execute_reply.started": "2023-07-17T18:11:25.040110Z",
          "shell.execute_reply": "2023-07-17T18:11:25.051012Z"
        },
        "trusted": true,
        "id": "s69KQc1m7sea",
        "outputId": "5acaa474-555f-4fe4-9f98-756eb3430a1d"
      },
      "execution_count": null,
      "outputs": [
        {
          "execution_count": 12,
          "output_type": "execute_result",
          "data": {
            "text/plain": "array(['ANDHRA PRADESH', 'ARUNACHAL PRADESH', 'ASSAM', 'BIHAR',\n       'CHHATTISGARH', 'GOA', 'GUJARAT', 'HARYANA', 'HIMACHAL PRADESH',\n       'JAMMU & KASHMIR', 'JHARKHAND', 'KARNATAKA', 'KERALA',\n       'MADHYA PRADESH', 'MAHARASHTRA', 'MANIPUR', 'MEGHALAYA', 'MIZORAM',\n       'NAGALAND', 'ODISHA', 'PUNJAB', 'RAJASTHAN', 'SIKKIM',\n       'TAMIL NADU', 'TRIPURA', 'UTTAR PRADESH', 'UTTARAKHAND',\n       'WEST BENGAL', 'A&N ISLANDS', 'CHANDIGARH', 'D & N HAVELI',\n       'DAMAN & DIU', 'DELHI', 'LAKSHADWEEP', 'PUDUCHERRY', 'D&N HAVELI',\n       'DELHI UT', 'TELANGANA'], dtype=object)"
          },
          "metadata": {}
        }
      ]
    },
    {
      "cell_type": "code",
      "source": [
        "df[\"STATE/UT\"]=df[\"STATE/UT\"].replace({'D & N HAVELI':'D&N HAVELI','DELHI UT':'DELHI'})"
      ],
      "metadata": {
        "execution": {
          "iopub.status.busy": "2023-07-17T18:11:25.053457Z",
          "iopub.execute_input": "2023-07-17T18:11:25.053731Z",
          "iopub.status.idle": "2023-07-17T18:11:25.067387Z",
          "shell.execute_reply.started": "2023-07-17T18:11:25.053699Z",
          "shell.execute_reply": "2023-07-17T18:11:25.066177Z"
        },
        "trusted": true,
        "id": "Qyu1aBeh7seb"
      },
      "execution_count": null,
      "outputs": []
    },
    {
      "cell_type": "code",
      "source": [
        "df['STATE/UT'].unique()"
      ],
      "metadata": {
        "execution": {
          "iopub.status.busy": "2023-07-17T18:11:25.072027Z",
          "iopub.execute_input": "2023-07-17T18:11:25.072320Z",
          "iopub.status.idle": "2023-07-17T18:11:25.082053Z",
          "shell.execute_reply.started": "2023-07-17T18:11:25.072297Z",
          "shell.execute_reply": "2023-07-17T18:11:25.080997Z"
        },
        "trusted": true,
        "id": "0fAFtNH97seb",
        "outputId": "a7e6621c-a386-4b4e-a3b1-5f314b0bb1b3"
      },
      "execution_count": null,
      "outputs": [
        {
          "execution_count": 14,
          "output_type": "execute_result",
          "data": {
            "text/plain": "array(['ANDHRA PRADESH', 'ARUNACHAL PRADESH', 'ASSAM', 'BIHAR',\n       'CHHATTISGARH', 'GOA', 'GUJARAT', 'HARYANA', 'HIMACHAL PRADESH',\n       'JAMMU & KASHMIR', 'JHARKHAND', 'KARNATAKA', 'KERALA',\n       'MADHYA PRADESH', 'MAHARASHTRA', 'MANIPUR', 'MEGHALAYA', 'MIZORAM',\n       'NAGALAND', 'ODISHA', 'PUNJAB', 'RAJASTHAN', 'SIKKIM',\n       'TAMIL NADU', 'TRIPURA', 'UTTAR PRADESH', 'UTTARAKHAND',\n       'WEST BENGAL', 'A&N ISLANDS', 'CHANDIGARH', 'D&N HAVELI',\n       'DAMAN & DIU', 'DELHI', 'LAKSHADWEEP', 'PUDUCHERRY', 'TELANGANA'],\n      dtype=object)"
          },
          "metadata": {}
        }
      ]
    },
    {
      "cell_type": "markdown",
      "source": [
        "# Lets start with question:::"
      ],
      "metadata": {
        "id": "DzhwSWie7seb"
      }
    },
    {
      "cell_type": "code",
      "source": [
        "df.columns"
      ],
      "metadata": {
        "execution": {
          "iopub.status.busy": "2023-07-17T18:11:25.083623Z",
          "iopub.execute_input": "2023-07-17T18:11:25.084011Z",
          "iopub.status.idle": "2023-07-17T18:11:25.093458Z",
          "shell.execute_reply.started": "2023-07-17T18:11:25.083983Z",
          "shell.execute_reply": "2023-07-17T18:11:25.092287Z"
        },
        "trusted": true,
        "id": "bN8jhec67seb",
        "outputId": "3842fecb-e23f-4edc-a4a6-6681eeb46290"
      },
      "execution_count": null,
      "outputs": [
        {
          "execution_count": 15,
          "output_type": "execute_result",
          "data": {
            "text/plain": "Index(['Unnamed: 0', 'STATE/UT', 'DISTRICT', 'Year', 'Rape',\n       'Kidnapping and Abduction', 'Dowry Deaths',\n       'Assault on women with intent to outrage her modesty',\n       'Insult to modesty of Women', 'Cruelty by Husband or his Relatives',\n       'Importation of Girls'],\n      dtype='object')"
          },
          "metadata": {}
        }
      ]
    },
    {
      "cell_type": "code",
      "source": [
        "a=df.groupby(\"Year\")['Rape'].sum()\n",
        "a"
      ],
      "metadata": {
        "execution": {
          "iopub.status.busy": "2023-07-17T18:11:25.094683Z",
          "iopub.execute_input": "2023-07-17T18:11:25.094892Z",
          "iopub.status.idle": "2023-07-17T18:11:25.107772Z",
          "shell.execute_reply.started": "2023-07-17T18:11:25.094872Z",
          "shell.execute_reply": "2023-07-17T18:11:25.106770Z"
        },
        "trusted": true,
        "id": "bEqs3vG17seb",
        "outputId": "a8387831-5dbf-43d8-f3df-5dd169a83daf"
      },
      "execution_count": null,
      "outputs": [
        {
          "execution_count": 16,
          "output_type": "execute_result",
          "data": {
            "text/plain": "Year\n2001    32150\n2002    32746\n2003    31694\n2004    36466\n2005    36718\n2006    38696\n2007    41474\n2008    42934\n2009    42794\n2010    44344\n2011    48412\n2012    49846\n2013    67414\n2014    73470\nName: Rape, dtype: int64"
          },
          "metadata": {}
        }
      ]
    },
    {
      "cell_type": "code",
      "source": [
        "a=pd.DataFrame(a)\n",
        "a"
      ],
      "metadata": {
        "execution": {
          "iopub.status.busy": "2023-07-17T18:11:25.108656Z",
          "iopub.execute_input": "2023-07-17T18:11:25.108864Z",
          "iopub.status.idle": "2023-07-17T18:11:25.122513Z",
          "shell.execute_reply.started": "2023-07-17T18:11:25.108844Z",
          "shell.execute_reply": "2023-07-17T18:11:25.121541Z"
        },
        "trusted": true,
        "id": "R7TSbjgq7seb",
        "outputId": "0c126e9b-4e49-4959-94ca-e5986ab25e68"
      },
      "execution_count": null,
      "outputs": [
        {
          "execution_count": 17,
          "output_type": "execute_result",
          "data": {
            "text/plain": "       Rape\nYear       \n2001  32150\n2002  32746\n2003  31694\n2004  36466\n2005  36718\n2006  38696\n2007  41474\n2008  42934\n2009  42794\n2010  44344\n2011  48412\n2012  49846\n2013  67414\n2014  73470",
            "text/html": "<div>\n<style scoped>\n    .dataframe tbody tr th:only-of-type {\n        vertical-align: middle;\n    }\n\n    .dataframe tbody tr th {\n        vertical-align: top;\n    }\n\n    .dataframe thead th {\n        text-align: right;\n    }\n</style>\n<table border=\"1\" class=\"dataframe\">\n  <thead>\n    <tr style=\"text-align: right;\">\n      <th></th>\n      <th>Rape</th>\n    </tr>\n    <tr>\n      <th>Year</th>\n      <th></th>\n    </tr>\n  </thead>\n  <tbody>\n    <tr>\n      <th>2001</th>\n      <td>32150</td>\n    </tr>\n    <tr>\n      <th>2002</th>\n      <td>32746</td>\n    </tr>\n    <tr>\n      <th>2003</th>\n      <td>31694</td>\n    </tr>\n    <tr>\n      <th>2004</th>\n      <td>36466</td>\n    </tr>\n    <tr>\n      <th>2005</th>\n      <td>36718</td>\n    </tr>\n    <tr>\n      <th>2006</th>\n      <td>38696</td>\n    </tr>\n    <tr>\n      <th>2007</th>\n      <td>41474</td>\n    </tr>\n    <tr>\n      <th>2008</th>\n      <td>42934</td>\n    </tr>\n    <tr>\n      <th>2009</th>\n      <td>42794</td>\n    </tr>\n    <tr>\n      <th>2010</th>\n      <td>44344</td>\n    </tr>\n    <tr>\n      <th>2011</th>\n      <td>48412</td>\n    </tr>\n    <tr>\n      <th>2012</th>\n      <td>49846</td>\n    </tr>\n    <tr>\n      <th>2013</th>\n      <td>67414</td>\n    </tr>\n    <tr>\n      <th>2014</th>\n      <td>73470</td>\n    </tr>\n  </tbody>\n</table>\n</div>"
          },
          "metadata": {}
        }
      ]
    },
    {
      "cell_type": "code",
      "source": [
        "hrrc=a[\"Rape\"].nlargest(10)\n",
        "hrrc=pd.DataFrame(hrrc)"
      ],
      "metadata": {
        "execution": {
          "iopub.status.busy": "2023-07-17T18:11:25.123760Z",
          "iopub.execute_input": "2023-07-17T18:11:25.124287Z",
          "iopub.status.idle": "2023-07-17T18:11:25.134238Z",
          "shell.execute_reply.started": "2023-07-17T18:11:25.124259Z",
          "shell.execute_reply": "2023-07-17T18:11:25.133136Z"
        },
        "trusted": true,
        "id": "aT655NQZ7seb"
      },
      "execution_count": null,
      "outputs": []
    },
    {
      "cell_type": "code",
      "source": [
        "## Ans1:- A Dataset containing the 10 highest reported rape cases in India, in the span of years 2001-2014.\n",
        "hrrc.reset_index()\n",
        "hrrc"
      ],
      "metadata": {
        "execution": {
          "iopub.status.busy": "2023-07-17T18:11:25.135676Z",
          "iopub.execute_input": "2023-07-17T18:11:25.136006Z",
          "iopub.status.idle": "2023-07-17T18:11:25.149655Z",
          "shell.execute_reply.started": "2023-07-17T18:11:25.135976Z",
          "shell.execute_reply": "2023-07-17T18:11:25.148651Z"
        },
        "trusted": true,
        "id": "wvj3Dl0b7seb",
        "outputId": "c4aea3d4-e90e-4acb-f787-f3685f9fad14"
      },
      "execution_count": null,
      "outputs": [
        {
          "execution_count": 19,
          "output_type": "execute_result",
          "data": {
            "text/plain": "       Rape\nYear       \n2014  73470\n2013  67414\n2012  49846\n2011  48412\n2010  44344\n2008  42934\n2009  42794\n2007  41474\n2006  38696\n2005  36718",
            "text/html": "<div>\n<style scoped>\n    .dataframe tbody tr th:only-of-type {\n        vertical-align: middle;\n    }\n\n    .dataframe tbody tr th {\n        vertical-align: top;\n    }\n\n    .dataframe thead th {\n        text-align: right;\n    }\n</style>\n<table border=\"1\" class=\"dataframe\">\n  <thead>\n    <tr style=\"text-align: right;\">\n      <th></th>\n      <th>Rape</th>\n    </tr>\n    <tr>\n      <th>Year</th>\n      <th></th>\n    </tr>\n  </thead>\n  <tbody>\n    <tr>\n      <th>2014</th>\n      <td>73470</td>\n    </tr>\n    <tr>\n      <th>2013</th>\n      <td>67414</td>\n    </tr>\n    <tr>\n      <th>2012</th>\n      <td>49846</td>\n    </tr>\n    <tr>\n      <th>2011</th>\n      <td>48412</td>\n    </tr>\n    <tr>\n      <th>2010</th>\n      <td>44344</td>\n    </tr>\n    <tr>\n      <th>2008</th>\n      <td>42934</td>\n    </tr>\n    <tr>\n      <th>2009</th>\n      <td>42794</td>\n    </tr>\n    <tr>\n      <th>2007</th>\n      <td>41474</td>\n    </tr>\n    <tr>\n      <th>2006</th>\n      <td>38696</td>\n    </tr>\n    <tr>\n      <th>2005</th>\n      <td>36718</td>\n    </tr>\n  </tbody>\n</table>\n</div>"
          },
          "metadata": {}
        }
      ]
    },
    {
      "cell_type": "code",
      "source": [
        "b=df.groupby(\"Year\")['Dowry Deaths'].sum()\n",
        "b"
      ],
      "metadata": {
        "execution": {
          "iopub.status.busy": "2023-07-17T18:11:25.150616Z",
          "iopub.execute_input": "2023-07-17T18:11:25.151216Z",
          "iopub.status.idle": "2023-07-17T18:11:25.159763Z",
          "shell.execute_reply.started": "2023-07-17T18:11:25.151189Z",
          "shell.execute_reply": "2023-07-17T18:11:25.158987Z"
        },
        "trusted": true,
        "id": "q03roPZR7sec",
        "outputId": "a6a2dd55-c80a-46d7-9703-5366c2cdeea0"
      },
      "execution_count": null,
      "outputs": [
        {
          "execution_count": 20,
          "output_type": "execute_result",
          "data": {
            "text/plain": "Year\n2001    13702\n2002    13644\n2003    12416\n2004    14052\n2005    13574\n2006    15236\n2007    16186\n2008    16344\n2009    16766\n2010    16782\n2011    17236\n2012    16466\n2013    16166\n2014    16910\nName: Dowry Deaths, dtype: int64"
          },
          "metadata": {}
        }
      ]
    },
    {
      "cell_type": "code",
      "source": [
        "b=pd.DataFrame(b)\n",
        "b"
      ],
      "metadata": {
        "execution": {
          "iopub.status.busy": "2023-07-17T18:11:25.160788Z",
          "iopub.execute_input": "2023-07-17T18:11:25.161106Z",
          "iopub.status.idle": "2023-07-17T18:11:25.173979Z",
          "shell.execute_reply.started": "2023-07-17T18:11:25.161079Z",
          "shell.execute_reply": "2023-07-17T18:11:25.173249Z"
        },
        "trusted": true,
        "id": "B84jK5k-7sec",
        "outputId": "bd6085ac-54bd-43aa-9dd1-cb127cef0160"
      },
      "execution_count": null,
      "outputs": [
        {
          "execution_count": 21,
          "output_type": "execute_result",
          "data": {
            "text/plain": "      Dowry Deaths\nYear              \n2001         13702\n2002         13644\n2003         12416\n2004         14052\n2005         13574\n2006         15236\n2007         16186\n2008         16344\n2009         16766\n2010         16782\n2011         17236\n2012         16466\n2013         16166\n2014         16910",
            "text/html": "<div>\n<style scoped>\n    .dataframe tbody tr th:only-of-type {\n        vertical-align: middle;\n    }\n\n    .dataframe tbody tr th {\n        vertical-align: top;\n    }\n\n    .dataframe thead th {\n        text-align: right;\n    }\n</style>\n<table border=\"1\" class=\"dataframe\">\n  <thead>\n    <tr style=\"text-align: right;\">\n      <th></th>\n      <th>Dowry Deaths</th>\n    </tr>\n    <tr>\n      <th>Year</th>\n      <th></th>\n    </tr>\n  </thead>\n  <tbody>\n    <tr>\n      <th>2001</th>\n      <td>13702</td>\n    </tr>\n    <tr>\n      <th>2002</th>\n      <td>13644</td>\n    </tr>\n    <tr>\n      <th>2003</th>\n      <td>12416</td>\n    </tr>\n    <tr>\n      <th>2004</th>\n      <td>14052</td>\n    </tr>\n    <tr>\n      <th>2005</th>\n      <td>13574</td>\n    </tr>\n    <tr>\n      <th>2006</th>\n      <td>15236</td>\n    </tr>\n    <tr>\n      <th>2007</th>\n      <td>16186</td>\n    </tr>\n    <tr>\n      <th>2008</th>\n      <td>16344</td>\n    </tr>\n    <tr>\n      <th>2009</th>\n      <td>16766</td>\n    </tr>\n    <tr>\n      <th>2010</th>\n      <td>16782</td>\n    </tr>\n    <tr>\n      <th>2011</th>\n      <td>17236</td>\n    </tr>\n    <tr>\n      <th>2012</th>\n      <td>16466</td>\n    </tr>\n    <tr>\n      <th>2013</th>\n      <td>16166</td>\n    </tr>\n    <tr>\n      <th>2014</th>\n      <td>16910</td>\n    </tr>\n  </tbody>\n</table>\n</div>"
          },
          "metadata": {}
        }
      ]
    },
    {
      "cell_type": "code",
      "source": [
        "hrdc=b[\"Dowry Deaths\"].nlargest(10)\n",
        "hrdc"
      ],
      "metadata": {
        "execution": {
          "iopub.status.busy": "2023-07-17T18:11:25.176872Z",
          "iopub.execute_input": "2023-07-17T18:11:25.177370Z",
          "iopub.status.idle": "2023-07-17T18:11:25.187078Z",
          "shell.execute_reply.started": "2023-07-17T18:11:25.177327Z",
          "shell.execute_reply": "2023-07-17T18:11:25.186474Z"
        },
        "trusted": true,
        "id": "LpUQ2xHL7sec",
        "outputId": "9ab1ede1-eaa5-40e1-cf83-60d3e35e2c86"
      },
      "execution_count": null,
      "outputs": [
        {
          "execution_count": 22,
          "output_type": "execute_result",
          "data": {
            "text/plain": "Year\n2011    17236\n2014    16910\n2010    16782\n2009    16766\n2012    16466\n2008    16344\n2007    16186\n2013    16166\n2006    15236\n2004    14052\nName: Dowry Deaths, dtype: int64"
          },
          "metadata": {}
        }
      ]
    },
    {
      "cell_type": "code",
      "source": [
        "## A Dataset containing the 10 highest reported deaths caused by Dowry cases in India, in the span of years 2001-2014.\n",
        "hrdc=pd.DataFrame(hrdc)\n",
        "\n",
        "hrdc"
      ],
      "metadata": {
        "execution": {
          "iopub.status.busy": "2023-07-17T18:11:25.188076Z",
          "iopub.execute_input": "2023-07-17T18:11:25.188425Z",
          "iopub.status.idle": "2023-07-17T18:11:25.198491Z",
          "shell.execute_reply.started": "2023-07-17T18:11:25.188405Z",
          "shell.execute_reply": "2023-07-17T18:11:25.197576Z"
        },
        "trusted": true,
        "id": "RGx31x9Z7sec",
        "outputId": "9baad6cf-7421-4fb8-f55b-2b2ba707370d"
      },
      "execution_count": null,
      "outputs": [
        {
          "execution_count": 23,
          "output_type": "execute_result",
          "data": {
            "text/plain": "      Dowry Deaths\nYear              \n2011         17236\n2014         16910\n2010         16782\n2009         16766\n2012         16466\n2008         16344\n2007         16186\n2013         16166\n2006         15236\n2004         14052",
            "text/html": "<div>\n<style scoped>\n    .dataframe tbody tr th:only-of-type {\n        vertical-align: middle;\n    }\n\n    .dataframe tbody tr th {\n        vertical-align: top;\n    }\n\n    .dataframe thead th {\n        text-align: right;\n    }\n</style>\n<table border=\"1\" class=\"dataframe\">\n  <thead>\n    <tr style=\"text-align: right;\">\n      <th></th>\n      <th>Dowry Deaths</th>\n    </tr>\n    <tr>\n      <th>Year</th>\n      <th></th>\n    </tr>\n  </thead>\n  <tbody>\n    <tr>\n      <th>2011</th>\n      <td>17236</td>\n    </tr>\n    <tr>\n      <th>2014</th>\n      <td>16910</td>\n    </tr>\n    <tr>\n      <th>2010</th>\n      <td>16782</td>\n    </tr>\n    <tr>\n      <th>2009</th>\n      <td>16766</td>\n    </tr>\n    <tr>\n      <th>2012</th>\n      <td>16466</td>\n    </tr>\n    <tr>\n      <th>2008</th>\n      <td>16344</td>\n    </tr>\n    <tr>\n      <th>2007</th>\n      <td>16186</td>\n    </tr>\n    <tr>\n      <th>2013</th>\n      <td>16166</td>\n    </tr>\n    <tr>\n      <th>2006</th>\n      <td>15236</td>\n    </tr>\n    <tr>\n      <th>2004</th>\n      <td>14052</td>\n    </tr>\n  </tbody>\n</table>\n</div>"
          },
          "metadata": {}
        }
      ]
    },
    {
      "cell_type": "code",
      "source": [
        "c=df.groupby(\"Year\")['Cruelty by Husband or his Relatives'].sum()\n",
        "c=pd.DataFrame(c)\n",
        "c"
      ],
      "metadata": {
        "execution": {
          "iopub.status.busy": "2023-07-17T18:11:25.199475Z",
          "iopub.execute_input": "2023-07-17T18:11:25.200231Z",
          "iopub.status.idle": "2023-07-17T18:11:25.211756Z",
          "shell.execute_reply.started": "2023-07-17T18:11:25.200205Z",
          "shell.execute_reply": "2023-07-17T18:11:25.210987Z"
        },
        "trusted": true,
        "id": "eiTZFcEF7sec",
        "outputId": "6e069fc3-8b03-4a40-f260-0ffef7e3837a"
      },
      "execution_count": null,
      "outputs": [
        {
          "execution_count": 24,
          "output_type": "execute_result",
          "data": {
            "text/plain": "      Cruelty by Husband or his Relatives\nYear                                     \n2001                                98340\n2002                                98474\n2003                               101406\n2004                               116242\n2005                               116638\n2006                               126256\n2007                               151860\n2008                               162688\n2009                               179092\n2010                               188082\n2011                               198270\n2012                               213054\n2013                               237732\n2014                               245754",
            "text/html": "<div>\n<style scoped>\n    .dataframe tbody tr th:only-of-type {\n        vertical-align: middle;\n    }\n\n    .dataframe tbody tr th {\n        vertical-align: top;\n    }\n\n    .dataframe thead th {\n        text-align: right;\n    }\n</style>\n<table border=\"1\" class=\"dataframe\">\n  <thead>\n    <tr style=\"text-align: right;\">\n      <th></th>\n      <th>Cruelty by Husband or his Relatives</th>\n    </tr>\n    <tr>\n      <th>Year</th>\n      <th></th>\n    </tr>\n  </thead>\n  <tbody>\n    <tr>\n      <th>2001</th>\n      <td>98340</td>\n    </tr>\n    <tr>\n      <th>2002</th>\n      <td>98474</td>\n    </tr>\n    <tr>\n      <th>2003</th>\n      <td>101406</td>\n    </tr>\n    <tr>\n      <th>2004</th>\n      <td>116242</td>\n    </tr>\n    <tr>\n      <th>2005</th>\n      <td>116638</td>\n    </tr>\n    <tr>\n      <th>2006</th>\n      <td>126256</td>\n    </tr>\n    <tr>\n      <th>2007</th>\n      <td>151860</td>\n    </tr>\n    <tr>\n      <th>2008</th>\n      <td>162688</td>\n    </tr>\n    <tr>\n      <th>2009</th>\n      <td>179092</td>\n    </tr>\n    <tr>\n      <th>2010</th>\n      <td>188082</td>\n    </tr>\n    <tr>\n      <th>2011</th>\n      <td>198270</td>\n    </tr>\n    <tr>\n      <th>2012</th>\n      <td>213054</td>\n    </tr>\n    <tr>\n      <th>2013</th>\n      <td>237732</td>\n    </tr>\n    <tr>\n      <th>2014</th>\n      <td>245754</td>\n    </tr>\n  </tbody>\n</table>\n</div>"
          },
          "metadata": {}
        }
      ]
    },
    {
      "cell_type": "code",
      "source": [
        "hdvc=c[\"Cruelty by Husband or his Relatives\"].nlargest(10)\n",
        "hdvc\n"
      ],
      "metadata": {
        "execution": {
          "iopub.status.busy": "2023-07-17T18:11:25.212732Z",
          "iopub.execute_input": "2023-07-17T18:11:25.213336Z",
          "iopub.status.idle": "2023-07-17T18:11:25.229783Z",
          "shell.execute_reply.started": "2023-07-17T18:11:25.213313Z",
          "shell.execute_reply": "2023-07-17T18:11:25.228677Z"
        },
        "trusted": true,
        "id": "hUVKYH1R7sec",
        "outputId": "e77e9cc3-3572-4249-cf1f-6b4bf624d621"
      },
      "execution_count": null,
      "outputs": [
        {
          "execution_count": 25,
          "output_type": "execute_result",
          "data": {
            "text/plain": "Year\n2014    245754\n2013    237732\n2012    213054\n2011    198270\n2010    188082\n2009    179092\n2008    162688\n2007    151860\n2006    126256\n2005    116638\nName: Cruelty by Husband or his Relatives, dtype: int64"
          },
          "metadata": {}
        }
      ]
    },
    {
      "cell_type": "code",
      "source": [
        "## A Dataset containing the 10 highest reported Importation cases in India, in the span of years 2001-2014.\n",
        "hdvc=pd.DataFrame(hdvc)\n",
        "hdvc"
      ],
      "metadata": {
        "execution": {
          "iopub.status.busy": "2023-07-17T18:11:25.230918Z",
          "iopub.execute_input": "2023-07-17T18:11:25.231204Z",
          "iopub.status.idle": "2023-07-17T18:11:25.245111Z",
          "shell.execute_reply.started": "2023-07-17T18:11:25.231180Z",
          "shell.execute_reply": "2023-07-17T18:11:25.244019Z"
        },
        "trusted": true,
        "id": "6niOT5lI7sec",
        "outputId": "4f4569a6-c14f-4f41-b03d-910d155d9be1"
      },
      "execution_count": null,
      "outputs": [
        {
          "execution_count": 26,
          "output_type": "execute_result",
          "data": {
            "text/plain": "      Cruelty by Husband or his Relatives\nYear                                     \n2014                               245754\n2013                               237732\n2012                               213054\n2011                               198270\n2010                               188082\n2009                               179092\n2008                               162688\n2007                               151860\n2006                               126256\n2005                               116638",
            "text/html": "<div>\n<style scoped>\n    .dataframe tbody tr th:only-of-type {\n        vertical-align: middle;\n    }\n\n    .dataframe tbody tr th {\n        vertical-align: top;\n    }\n\n    .dataframe thead th {\n        text-align: right;\n    }\n</style>\n<table border=\"1\" class=\"dataframe\">\n  <thead>\n    <tr style=\"text-align: right;\">\n      <th></th>\n      <th>Cruelty by Husband or his Relatives</th>\n    </tr>\n    <tr>\n      <th>Year</th>\n      <th></th>\n    </tr>\n  </thead>\n  <tbody>\n    <tr>\n      <th>2014</th>\n      <td>245754</td>\n    </tr>\n    <tr>\n      <th>2013</th>\n      <td>237732</td>\n    </tr>\n    <tr>\n      <th>2012</th>\n      <td>213054</td>\n    </tr>\n    <tr>\n      <th>2011</th>\n      <td>198270</td>\n    </tr>\n    <tr>\n      <th>2010</th>\n      <td>188082</td>\n    </tr>\n    <tr>\n      <th>2009</th>\n      <td>179092</td>\n    </tr>\n    <tr>\n      <th>2008</th>\n      <td>162688</td>\n    </tr>\n    <tr>\n      <th>2007</th>\n      <td>151860</td>\n    </tr>\n    <tr>\n      <th>2006</th>\n      <td>126256</td>\n    </tr>\n    <tr>\n      <th>2005</th>\n      <td>116638</td>\n    </tr>\n  </tbody>\n</table>\n</div>"
          },
          "metadata": {}
        }
      ]
    },
    {
      "cell_type": "code",
      "source": [
        "df.columns"
      ],
      "metadata": {
        "execution": {
          "iopub.status.busy": "2023-07-17T18:11:25.246056Z",
          "iopub.execute_input": "2023-07-17T18:11:25.246689Z",
          "iopub.status.idle": "2023-07-17T18:11:25.256461Z",
          "shell.execute_reply.started": "2023-07-17T18:11:25.246666Z",
          "shell.execute_reply": "2023-07-17T18:11:25.255600Z"
        },
        "trusted": true,
        "id": "_jnKZPv77sec",
        "outputId": "986574bc-096c-4b66-fa2b-a6a08aa2f958"
      },
      "execution_count": null,
      "outputs": [
        {
          "execution_count": 27,
          "output_type": "execute_result",
          "data": {
            "text/plain": "Index(['Unnamed: 0', 'STATE/UT', 'DISTRICT', 'Year', 'Rape',\n       'Kidnapping and Abduction', 'Dowry Deaths',\n       'Assault on women with intent to outrage her modesty',\n       'Insult to modesty of Women', 'Cruelty by Husband or his Relatives',\n       'Importation of Girls'],\n      dtype='object')"
          },
          "metadata": {}
        }
      ]
    },
    {
      "cell_type": "code",
      "source": [
        "df['STATE/UT'].unique()"
      ],
      "metadata": {
        "execution": {
          "iopub.status.busy": "2023-07-17T18:11:25.257399Z",
          "iopub.execute_input": "2023-07-17T18:11:25.257639Z",
          "iopub.status.idle": "2023-07-17T18:11:25.270873Z",
          "shell.execute_reply.started": "2023-07-17T18:11:25.257618Z",
          "shell.execute_reply": "2023-07-17T18:11:25.270268Z"
        },
        "trusted": true,
        "id": "qvuwO4T47sed",
        "outputId": "368f6265-737d-48a5-8ec2-0fad7829876c"
      },
      "execution_count": null,
      "outputs": [
        {
          "execution_count": 28,
          "output_type": "execute_result",
          "data": {
            "text/plain": "array(['ANDHRA PRADESH', 'ARUNACHAL PRADESH', 'ASSAM', 'BIHAR',\n       'CHHATTISGARH', 'GOA', 'GUJARAT', 'HARYANA', 'HIMACHAL PRADESH',\n       'JAMMU & KASHMIR', 'JHARKHAND', 'KARNATAKA', 'KERALA',\n       'MADHYA PRADESH', 'MAHARASHTRA', 'MANIPUR', 'MEGHALAYA', 'MIZORAM',\n       'NAGALAND', 'ODISHA', 'PUNJAB', 'RAJASTHAN', 'SIKKIM',\n       'TAMIL NADU', 'TRIPURA', 'UTTAR PRADESH', 'UTTARAKHAND',\n       'WEST BENGAL', 'A&N ISLANDS', 'CHANDIGARH', 'D&N HAVELI',\n       'DAMAN & DIU', 'DELHI', 'LAKSHADWEEP', 'PUDUCHERRY', 'TELANGANA'],\n      dtype=object)"
          },
          "metadata": {}
        }
      ]
    },
    {
      "cell_type": "code",
      "source": [
        "## The total number of cases, in the span of 2001-2014 under each category, state-wise.\n",
        "df.groupby(\"STATE/UT\").sum()"
      ],
      "metadata": {
        "execution": {
          "iopub.status.busy": "2023-07-17T18:11:25.271742Z",
          "iopub.execute_input": "2023-07-17T18:11:25.272430Z",
          "iopub.status.idle": "2023-07-17T18:11:25.296842Z",
          "shell.execute_reply.started": "2023-07-17T18:11:25.272408Z",
          "shell.execute_reply": "2023-07-17T18:11:25.296009Z"
        },
        "trusted": true,
        "id": "3cKaLLuU7sed",
        "outputId": "447c6047-90a8-40d0-bd14-6d1a65890b44"
      },
      "execution_count": null,
      "outputs": [
        {
          "name": "stderr",
          "text": "/tmp/ipykernel_32/930693849.py:2: FutureWarning: The default value of numeric_only in DataFrameGroupBy.sum is deprecated. In a future version, numeric_only will default to False. Either specify numeric_only or select only columns which should be valid for the function.\n  df.groupby(\"STATE/UT\").sum()\n",
          "output_type": "stream"
        },
        {
          "execution_count": 29,
          "output_type": "execute_result",
          "data": {
            "text/plain": "                   Unnamed: 0     Year   Rape  Kidnapping and Abduction  \\\nSTATE/UT                                                                  \nA&N ISLANDS            181575    88347    336                       212   \nANDHRA PRADESH        1547523   853205  32150                     34504   \nARUNACHAL PRADESH      832793   469844   1316                      1470   \nASSAM                 1531069   851246  40190                     62074   \nBIHAR                 2242174  1268753  30758                     57086   \nCHANDIGARH             117458    56210    770                      1682   \nCHHATTISGARH          1168746   650581  29308                     11808   \nD&N HAVELI             117514    56210    132                       224   \nDAMAN & DIU            176376    84315     60                        44   \nDELHI                  968482   445800  20312                     46586   \nGOA                    151597    86329   1062                       640   \nGUJARAT               1664186   925590  11644                     34670   \nHARYANA               1171953   638456  17110                     20016   \nHIMACHAL PRADESH       778344   417608   4674                      4116   \nJAMMU & KASHMIR       1458729   771023   7038                     21164   \nJHARKHAND             1380975   734793  22826                     14186   \nKARNATAKA             1790959   947638  15056                     16262   \nKERALA                1051866   554128  20030                      4452   \nLAKSHADWEEP            118098    56210     20                         2   \nMADHYA PRADESH        2843330  1483646  90996                     35608   \nMAHARASHTRA           2486797  1294844  48974                     30368   \nMANIPUR                580834   295127   1068                      2606   \nMEGHALAYA              440412   240948   2642                       670   \nMIZORAM                493797   258985   2070                        30   \nNAGALAND               644745   325239    562                       190   \nODISHA                2004922  1011829  30480                     25588   \nPUDUCHERRY             166421    74300    208                       306   \nPUNJAB                1497068   746875  14656                     15096   \nRAJASTHAN             2228864  1086259  45684                     66278   \nSIKKIM                 282531   142539    570                       180   \nTAMIL NADU            2242710  1108202  16660                     30908   \nTELANGANA                9261    28196   1958                      1422   \nTRIPURA                351423   174741   5060                      2202   \nUTTAR PRADESH         4265386  2071847  51150                    135906   \nUTTARAKHAND            814842   393470   3752                      6484   \nWEST BENGAL           1532995   742858  47876                     61158   \n\n                   Dowry Deaths  \\\nSTATE/UT                          \nA&N ISLANDS                  20   \nANDHRA PRADESH            13844   \nARUNACHAL PRADESH             6   \nASSAM                      3268   \nBIHAR                     32206   \nCHANDIGARH                   90   \nCHHATTISGARH               2758   \nD&N HAVELI                    2   \nDAMAN & DIU                   6   \nDELHI                      3758   \nGOA                          38   \nGUJARAT                    1108   \nHARYANA                    7372   \nHIMACHAL PRADESH            112   \nJAMMU & KASHMIR             294   \nJHARKHAND                  7896   \nKARNATAKA                  7016   \nKERALA                      700   \nLAKSHADWEEP                   0   \nMADHYA PRADESH            21090   \nMAHARASHTRA                9696   \nMANIPUR                       6   \nMEGHALAYA                    36   \nMIZORAM                       8   \nNAGALAND                      2   \nODISHA                    10782   \nPUDUCHERRY                   56   \nPUNJAB                     3524   \nRAJASTHAN                 11854   \nSIKKIM                        4   \nTAMIL NADU                 5060   \nTELANGANA                   578   \nTRIPURA                     752   \nUTTAR PRADESH             57256   \nUTTARAKHAND                1974   \nWEST BENGAL               12308   \n\n                   Assault on women with intent to outrage her modesty  \\\nSTATE/UT                                                                 \nA&N ISLANDS                                                      600     \nANDHRA PRADESH                                                126952     \nARUNACHAL PRADESH                                               1996     \nASSAM                                                          38256     \nBIHAR                                                          16958     \nCHANDIGARH                                                      1088     \nCHHATTISGARH                                                   47096     \nD&N HAVELI                                                       106     \nDAMAN & DIU                                                       40     \nDELHI                                                          30742     \nGOA                                                             1384     \nGUJARAT                                                        23186     \nHARYANA                                                        17142     \nHIMACHAL PRADESH                                                9256     \nJAMMU & KASHMIR                                                28638     \nJHARKHAND                                                       9898     \nKARNATAKA                                                      65750     \nKERALA                                                         80438     \nLAKSHADWEEP                                                       14     \nMADHYA PRADESH                                                195478     \nMAHARASHTRA                                                   114704     \nMANIPUR                                                         1322     \nMEGHALAYA                                                       1470     \nMIZORAM                                                         1988     \nNAGALAND                                                         260     \nODISHA                                                         80214     \nPUDUCHERRY                                                      1314     \nPUNJAB                                                         12410     \nRAJASTHAN                                                      83362     \nSIKKIM                                                           586     \nTAMIL NADU                                                     43404     \nTELANGANA                                                       6376     \nTRIPURA                                                         7344     \nUTTAR PRADESH                                                  91212     \nUTTARAKHAND                                                     4366     \nWEST BENGAL                                                    66908     \n\n                   Insult to modesty of Women  \\\nSTATE/UT                                        \nA&N ISLANDS                               112   \nANDHRA PRADESH                          86964   \nARUNACHAL PRADESH                          48   \nASSAM                                     254   \nBIHAR                                     694   \nCHANDIGARH                                342   \nCHHATTISGARH                             3968   \nD&N HAVELI                                 12   \nDAMAN & DIU                                 4   \nDELHI                                    7928   \nGOA                                       468   \nGUJARAT                                  3230   \nHARYANA                                 17866   \nHIMACHAL PRADESH                         1220   \nJAMMU & KASHMIR                          9168   \nJHARKHAND                                 566   \nKARNATAKA                                2276   \nKERALA                                   7930   \nLAKSHADWEEP                                 4   \nMADHYA PRADESH                          20964   \nMAHARASHTRA                             32634   \nMANIPUR                                     6   \nMEGHALAYA                                 124   \nMIZORAM                                    70   \nNAGALAND                                   24   \nODISHA                                   7488   \nPUDUCHERRY                                600   \nPUNJAB                                   1728   \nRAJASTHAN                                 794   \nSIKKIM                                     34   \nTAMIL NADU                              21170   \nTELANGANA                                2284   \nTRIPURA                                   114   \nUTTAR PRADESH                           53130   \nUTTARAKHAND                              3190   \nWEST BENGAL                              5348   \n\n                   Cruelty by Husband or his Relatives  Importation of Girls  \nSTATE/UT                                                                      \nA&N ISLANDS                                        288                     0  \nANDHRA PRADESH                                  280906                    34  \nARUNACHAL PRADESH                                  476                     0  \nASSAM                                           115300                    22  \nBIHAR                                            69770                   904  \nCHANDIGARH                                        2080                     0  \nCHHATTISGARH                                     23436                    12  \nD&N HAVELI                                          90                     0  \nDAMAN & DIU                                         76                     0  \nDELHI                                            42834                     2  \nGOA                                                532                     0  \nGUJARAT                                         146468                     0  \nHARYANA                                          68414                     4  \nHIMACHAL PRADESH                                  7796                     0  \nJAMMU & KASHMIR                                   5390                     0  \nJHARKHAND                                        23910                   298  \nKARNATAKA                                        72706                    94  \nKERALA                                          111626                     0  \nLAKSHADWEEP                                         14                     0  \nMADHYA PRADESH                                  102816                   134  \nMAHARASHTRA                                     193202                     6  \nMANIPUR                                            578                     0  \nMEGHALAYA                                          460                     8  \nMIZORAM                                            134                     6  \nNAGALAND                                            32                     2  \nODISHA                                           49206                    36  \nPUDUCHERRY                                         234                     0  \nPUNJAB                                           30840                     4  \nRAJASTHAN                                       262200                    14  \nSIKKIM                                             108                     0  \nTAMIL NADU                                       45524                    30  \nTELANGANA                                        12738                     0  \nTRIPURA                                          16086                     0  \nUTTAR PRADESH                                   193738                     6  \nUTTARAKHAND                                       9756                     2  \nWEST BENGAL                                     344124                   254  ",
            "text/html": "<div>\n<style scoped>\n    .dataframe tbody tr th:only-of-type {\n        vertical-align: middle;\n    }\n\n    .dataframe tbody tr th {\n        vertical-align: top;\n    }\n\n    .dataframe thead th {\n        text-align: right;\n    }\n</style>\n<table border=\"1\" class=\"dataframe\">\n  <thead>\n    <tr style=\"text-align: right;\">\n      <th></th>\n      <th>Unnamed: 0</th>\n      <th>Year</th>\n      <th>Rape</th>\n      <th>Kidnapping and Abduction</th>\n      <th>Dowry Deaths</th>\n      <th>Assault on women with intent to outrage her modesty</th>\n      <th>Insult to modesty of Women</th>\n      <th>Cruelty by Husband or his Relatives</th>\n      <th>Importation of Girls</th>\n    </tr>\n    <tr>\n      <th>STATE/UT</th>\n      <th></th>\n      <th></th>\n      <th></th>\n      <th></th>\n      <th></th>\n      <th></th>\n      <th></th>\n      <th></th>\n      <th></th>\n    </tr>\n  </thead>\n  <tbody>\n    <tr>\n      <th>A&amp;N ISLANDS</th>\n      <td>181575</td>\n      <td>88347</td>\n      <td>336</td>\n      <td>212</td>\n      <td>20</td>\n      <td>600</td>\n      <td>112</td>\n      <td>288</td>\n      <td>0</td>\n    </tr>\n    <tr>\n      <th>ANDHRA PRADESH</th>\n      <td>1547523</td>\n      <td>853205</td>\n      <td>32150</td>\n      <td>34504</td>\n      <td>13844</td>\n      <td>126952</td>\n      <td>86964</td>\n      <td>280906</td>\n      <td>34</td>\n    </tr>\n    <tr>\n      <th>ARUNACHAL PRADESH</th>\n      <td>832793</td>\n      <td>469844</td>\n      <td>1316</td>\n      <td>1470</td>\n      <td>6</td>\n      <td>1996</td>\n      <td>48</td>\n      <td>476</td>\n      <td>0</td>\n    </tr>\n    <tr>\n      <th>ASSAM</th>\n      <td>1531069</td>\n      <td>851246</td>\n      <td>40190</td>\n      <td>62074</td>\n      <td>3268</td>\n      <td>38256</td>\n      <td>254</td>\n      <td>115300</td>\n      <td>22</td>\n    </tr>\n    <tr>\n      <th>BIHAR</th>\n      <td>2242174</td>\n      <td>1268753</td>\n      <td>30758</td>\n      <td>57086</td>\n      <td>32206</td>\n      <td>16958</td>\n      <td>694</td>\n      <td>69770</td>\n      <td>904</td>\n    </tr>\n    <tr>\n      <th>CHANDIGARH</th>\n      <td>117458</td>\n      <td>56210</td>\n      <td>770</td>\n      <td>1682</td>\n      <td>90</td>\n      <td>1088</td>\n      <td>342</td>\n      <td>2080</td>\n      <td>0</td>\n    </tr>\n    <tr>\n      <th>CHHATTISGARH</th>\n      <td>1168746</td>\n      <td>650581</td>\n      <td>29308</td>\n      <td>11808</td>\n      <td>2758</td>\n      <td>47096</td>\n      <td>3968</td>\n      <td>23436</td>\n      <td>12</td>\n    </tr>\n    <tr>\n      <th>D&amp;N HAVELI</th>\n      <td>117514</td>\n      <td>56210</td>\n      <td>132</td>\n      <td>224</td>\n      <td>2</td>\n      <td>106</td>\n      <td>12</td>\n      <td>90</td>\n      <td>0</td>\n    </tr>\n    <tr>\n      <th>DAMAN &amp; DIU</th>\n      <td>176376</td>\n      <td>84315</td>\n      <td>60</td>\n      <td>44</td>\n      <td>6</td>\n      <td>40</td>\n      <td>4</td>\n      <td>76</td>\n      <td>0</td>\n    </tr>\n    <tr>\n      <th>DELHI</th>\n      <td>968482</td>\n      <td>445800</td>\n      <td>20312</td>\n      <td>46586</td>\n      <td>3758</td>\n      <td>30742</td>\n      <td>7928</td>\n      <td>42834</td>\n      <td>2</td>\n    </tr>\n    <tr>\n      <th>GOA</th>\n      <td>151597</td>\n      <td>86329</td>\n      <td>1062</td>\n      <td>640</td>\n      <td>38</td>\n      <td>1384</td>\n      <td>468</td>\n      <td>532</td>\n      <td>0</td>\n    </tr>\n    <tr>\n      <th>GUJARAT</th>\n      <td>1664186</td>\n      <td>925590</td>\n      <td>11644</td>\n      <td>34670</td>\n      <td>1108</td>\n      <td>23186</td>\n      <td>3230</td>\n      <td>146468</td>\n      <td>0</td>\n    </tr>\n    <tr>\n      <th>HARYANA</th>\n      <td>1171953</td>\n      <td>638456</td>\n      <td>17110</td>\n      <td>20016</td>\n      <td>7372</td>\n      <td>17142</td>\n      <td>17866</td>\n      <td>68414</td>\n      <td>4</td>\n    </tr>\n    <tr>\n      <th>HIMACHAL PRADESH</th>\n      <td>778344</td>\n      <td>417608</td>\n      <td>4674</td>\n      <td>4116</td>\n      <td>112</td>\n      <td>9256</td>\n      <td>1220</td>\n      <td>7796</td>\n      <td>0</td>\n    </tr>\n    <tr>\n      <th>JAMMU &amp; KASHMIR</th>\n      <td>1458729</td>\n      <td>771023</td>\n      <td>7038</td>\n      <td>21164</td>\n      <td>294</td>\n      <td>28638</td>\n      <td>9168</td>\n      <td>5390</td>\n      <td>0</td>\n    </tr>\n    <tr>\n      <th>JHARKHAND</th>\n      <td>1380975</td>\n      <td>734793</td>\n      <td>22826</td>\n      <td>14186</td>\n      <td>7896</td>\n      <td>9898</td>\n      <td>566</td>\n      <td>23910</td>\n      <td>298</td>\n    </tr>\n    <tr>\n      <th>KARNATAKA</th>\n      <td>1790959</td>\n      <td>947638</td>\n      <td>15056</td>\n      <td>16262</td>\n      <td>7016</td>\n      <td>65750</td>\n      <td>2276</td>\n      <td>72706</td>\n      <td>94</td>\n    </tr>\n    <tr>\n      <th>KERALA</th>\n      <td>1051866</td>\n      <td>554128</td>\n      <td>20030</td>\n      <td>4452</td>\n      <td>700</td>\n      <td>80438</td>\n      <td>7930</td>\n      <td>111626</td>\n      <td>0</td>\n    </tr>\n    <tr>\n      <th>LAKSHADWEEP</th>\n      <td>118098</td>\n      <td>56210</td>\n      <td>20</td>\n      <td>2</td>\n      <td>0</td>\n      <td>14</td>\n      <td>4</td>\n      <td>14</td>\n      <td>0</td>\n    </tr>\n    <tr>\n      <th>MADHYA PRADESH</th>\n      <td>2843330</td>\n      <td>1483646</td>\n      <td>90996</td>\n      <td>35608</td>\n      <td>21090</td>\n      <td>195478</td>\n      <td>20964</td>\n      <td>102816</td>\n      <td>134</td>\n    </tr>\n    <tr>\n      <th>MAHARASHTRA</th>\n      <td>2486797</td>\n      <td>1294844</td>\n      <td>48974</td>\n      <td>30368</td>\n      <td>9696</td>\n      <td>114704</td>\n      <td>32634</td>\n      <td>193202</td>\n      <td>6</td>\n    </tr>\n    <tr>\n      <th>MANIPUR</th>\n      <td>580834</td>\n      <td>295127</td>\n      <td>1068</td>\n      <td>2606</td>\n      <td>6</td>\n      <td>1322</td>\n      <td>6</td>\n      <td>578</td>\n      <td>0</td>\n    </tr>\n    <tr>\n      <th>MEGHALAYA</th>\n      <td>440412</td>\n      <td>240948</td>\n      <td>2642</td>\n      <td>670</td>\n      <td>36</td>\n      <td>1470</td>\n      <td>124</td>\n      <td>460</td>\n      <td>8</td>\n    </tr>\n    <tr>\n      <th>MIZORAM</th>\n      <td>493797</td>\n      <td>258985</td>\n      <td>2070</td>\n      <td>30</td>\n      <td>8</td>\n      <td>1988</td>\n      <td>70</td>\n      <td>134</td>\n      <td>6</td>\n    </tr>\n    <tr>\n      <th>NAGALAND</th>\n      <td>644745</td>\n      <td>325239</td>\n      <td>562</td>\n      <td>190</td>\n      <td>2</td>\n      <td>260</td>\n      <td>24</td>\n      <td>32</td>\n      <td>2</td>\n    </tr>\n    <tr>\n      <th>ODISHA</th>\n      <td>2004922</td>\n      <td>1011829</td>\n      <td>30480</td>\n      <td>25588</td>\n      <td>10782</td>\n      <td>80214</td>\n      <td>7488</td>\n      <td>49206</td>\n      <td>36</td>\n    </tr>\n    <tr>\n      <th>PUDUCHERRY</th>\n      <td>166421</td>\n      <td>74300</td>\n      <td>208</td>\n      <td>306</td>\n      <td>56</td>\n      <td>1314</td>\n      <td>600</td>\n      <td>234</td>\n      <td>0</td>\n    </tr>\n    <tr>\n      <th>PUNJAB</th>\n      <td>1497068</td>\n      <td>746875</td>\n      <td>14656</td>\n      <td>15096</td>\n      <td>3524</td>\n      <td>12410</td>\n      <td>1728</td>\n      <td>30840</td>\n      <td>4</td>\n    </tr>\n    <tr>\n      <th>RAJASTHAN</th>\n      <td>2228864</td>\n      <td>1086259</td>\n      <td>45684</td>\n      <td>66278</td>\n      <td>11854</td>\n      <td>83362</td>\n      <td>794</td>\n      <td>262200</td>\n      <td>14</td>\n    </tr>\n    <tr>\n      <th>SIKKIM</th>\n      <td>282531</td>\n      <td>142539</td>\n      <td>570</td>\n      <td>180</td>\n      <td>4</td>\n      <td>586</td>\n      <td>34</td>\n      <td>108</td>\n      <td>0</td>\n    </tr>\n    <tr>\n      <th>TAMIL NADU</th>\n      <td>2242710</td>\n      <td>1108202</td>\n      <td>16660</td>\n      <td>30908</td>\n      <td>5060</td>\n      <td>43404</td>\n      <td>21170</td>\n      <td>45524</td>\n      <td>30</td>\n    </tr>\n    <tr>\n      <th>TELANGANA</th>\n      <td>9261</td>\n      <td>28196</td>\n      <td>1958</td>\n      <td>1422</td>\n      <td>578</td>\n      <td>6376</td>\n      <td>2284</td>\n      <td>12738</td>\n      <td>0</td>\n    </tr>\n    <tr>\n      <th>TRIPURA</th>\n      <td>351423</td>\n      <td>174741</td>\n      <td>5060</td>\n      <td>2202</td>\n      <td>752</td>\n      <td>7344</td>\n      <td>114</td>\n      <td>16086</td>\n      <td>0</td>\n    </tr>\n    <tr>\n      <th>UTTAR PRADESH</th>\n      <td>4265386</td>\n      <td>2071847</td>\n      <td>51150</td>\n      <td>135906</td>\n      <td>57256</td>\n      <td>91212</td>\n      <td>53130</td>\n      <td>193738</td>\n      <td>6</td>\n    </tr>\n    <tr>\n      <th>UTTARAKHAND</th>\n      <td>814842</td>\n      <td>393470</td>\n      <td>3752</td>\n      <td>6484</td>\n      <td>1974</td>\n      <td>4366</td>\n      <td>3190</td>\n      <td>9756</td>\n      <td>2</td>\n    </tr>\n    <tr>\n      <th>WEST BENGAL</th>\n      <td>1532995</td>\n      <td>742858</td>\n      <td>47876</td>\n      <td>61158</td>\n      <td>12308</td>\n      <td>66908</td>\n      <td>5348</td>\n      <td>344124</td>\n      <td>254</td>\n    </tr>\n  </tbody>\n</table>\n</div>"
          },
          "metadata": {}
        }
      ]
    },
    {
      "cell_type": "code",
      "source": [
        "## The top 5 states for the \"Rape\" case.\n",
        "d=df.groupby(\"STATE/UT\")['Rape'].sum()\n",
        "d=pd.DataFrame(d)\n",
        "swr=d['Rape'].nlargest(5)\n",
        "swr"
      ],
      "metadata": {
        "execution": {
          "iopub.status.busy": "2023-07-17T18:11:25.298514Z",
          "iopub.execute_input": "2023-07-17T18:11:25.299234Z",
          "iopub.status.idle": "2023-07-17T18:11:25.309619Z",
          "shell.execute_reply.started": "2023-07-17T18:11:25.299204Z",
          "shell.execute_reply": "2023-07-17T18:11:25.308660Z"
        },
        "trusted": true,
        "id": "3xHxpfwk7sed",
        "outputId": "d0d583d3-6c3e-4809-eb43-fc00ab8d453b"
      },
      "execution_count": null,
      "outputs": [
        {
          "execution_count": 30,
          "output_type": "execute_result",
          "data": {
            "text/plain": "STATE/UT\nMADHYA PRADESH    90996\nUTTAR PRADESH     51150\nMAHARASHTRA       48974\nWEST BENGAL       47876\nRAJASTHAN         45684\nName: Rape, dtype: int64"
          },
          "metadata": {}
        }
      ]
    },
    {
      "cell_type": "code",
      "source": [
        "## The top 5 states for Kidnapping and abduction case.\n",
        "e=df.groupby(\"STATE/UT\")['Kidnapping and Abduction'].sum()\n",
        "e=pd.DataFrame(e)\n",
        "swk=e['Kidnapping and Abduction'].nlargest(5)\n",
        "swk"
      ],
      "metadata": {
        "execution": {
          "iopub.status.busy": "2023-07-17T18:11:25.311632Z",
          "iopub.execute_input": "2023-07-17T18:11:25.312574Z",
          "iopub.status.idle": "2023-07-17T18:11:25.323162Z",
          "shell.execute_reply.started": "2023-07-17T18:11:25.312546Z",
          "shell.execute_reply": "2023-07-17T18:11:25.322382Z"
        },
        "trusted": true,
        "id": "cC7WZBIg7sed",
        "outputId": "f8b13682-9f11-40ed-98f5-ac16e8b1e7ef"
      },
      "execution_count": null,
      "outputs": [
        {
          "execution_count": 31,
          "output_type": "execute_result",
          "data": {
            "text/plain": "STATE/UT\nUTTAR PRADESH    135906\nRAJASTHAN         66278\nASSAM             62074\nWEST BENGAL       61158\nBIHAR             57086\nName: Kidnapping and Abduction, dtype: int64"
          },
          "metadata": {}
        }
      ]
    },
    {
      "cell_type": "code",
      "source": [
        "## The top 5 states for cases of deaths due to dowry.\n",
        "f=df.groupby(\"STATE/UT\")['Dowry Deaths'].sum()\n",
        "f=pd.DataFrame(f)\n",
        "swd=f['Dowry Deaths'].nlargest(5)\n",
        "swd"
      ],
      "metadata": {
        "execution": {
          "iopub.status.busy": "2023-07-17T18:11:25.324174Z",
          "iopub.execute_input": "2023-07-17T18:11:25.324985Z",
          "iopub.status.idle": "2023-07-17T18:11:25.334445Z",
          "shell.execute_reply.started": "2023-07-17T18:11:25.324955Z",
          "shell.execute_reply": "2023-07-17T18:11:25.333579Z"
        },
        "trusted": true,
        "id": "Qfz2fWFg7sed",
        "outputId": "2891f225-9f9a-448e-98f2-87707db9b43d"
      },
      "execution_count": null,
      "outputs": [
        {
          "execution_count": 32,
          "output_type": "execute_result",
          "data": {
            "text/plain": "STATE/UT\nUTTAR PRADESH     57256\nBIHAR             32206\nMADHYA PRADESH    21090\nANDHRA PRADESH    13844\nWEST BENGAL       12308\nName: Dowry Deaths, dtype: int64"
          },
          "metadata": {}
        }
      ]
    },
    {
      "cell_type": "code",
      "source": [
        "## The top 5 states for Domestic Violence case.\n",
        "g=df.groupby(\"STATE/UT\")['Cruelty by Husband or his Relatives'].sum()\n",
        "g=pd.DataFrame(g)\n",
        "swc=g['Cruelty by Husband or his Relatives'].nlargest(5)\n",
        "swc"
      ],
      "metadata": {
        "execution": {
          "iopub.status.busy": "2023-07-17T18:11:25.335409Z",
          "iopub.execute_input": "2023-07-17T18:11:25.336115Z",
          "iopub.status.idle": "2023-07-17T18:11:25.348337Z",
          "shell.execute_reply.started": "2023-07-17T18:11:25.336086Z",
          "shell.execute_reply": "2023-07-17T18:11:25.347178Z"
        },
        "trusted": true,
        "id": "ieN60ytP7sed",
        "outputId": "d46bdd06-34ef-4473-9e7a-c9ace5538f93"
      },
      "execution_count": null,
      "outputs": [
        {
          "execution_count": 33,
          "output_type": "execute_result",
          "data": {
            "text/plain": "STATE/UT\nWEST BENGAL       344124\nANDHRA PRADESH    280906\nRAJASTHAN         262200\nUTTAR PRADESH     193738\nMAHARASHTRA       193202\nName: Cruelty by Husband or his Relatives, dtype: int64"
          },
          "metadata": {}
        }
      ]
    },
    {
      "cell_type": "code",
      "source": [
        "## The top 5 states for the Importation of Girls case.\n",
        "h=df.groupby(\"STATE/UT\")['Importation of Girls'].sum()\n",
        "h=pd.DataFrame(h)\n",
        "swi=h['Importation of Girls'].nlargest(5)\n",
        "swi"
      ],
      "metadata": {
        "execution": {
          "iopub.status.busy": "2023-07-17T18:11:25.349500Z",
          "iopub.execute_input": "2023-07-17T18:11:25.349775Z",
          "iopub.status.idle": "2023-07-17T18:11:25.360125Z",
          "shell.execute_reply.started": "2023-07-17T18:11:25.349751Z",
          "shell.execute_reply": "2023-07-17T18:11:25.359321Z"
        },
        "trusted": true,
        "id": "HQ4sLpCb7sed",
        "outputId": "d479031c-851f-421f-c3b2-f2f67aa207b8"
      },
      "execution_count": null,
      "outputs": [
        {
          "execution_count": 34,
          "output_type": "execute_result",
          "data": {
            "text/plain": "STATE/UT\nBIHAR             904\nJHARKHAND         298\nWEST BENGAL       254\nMADHYA PRADESH    134\nKARNATAKA          94\nName: Importation of Girls, dtype: int64"
          },
          "metadata": {}
        }
      ]
    },
    {
      "cell_type": "code",
      "source": [
        "max_rape_cases = df.loc[df['Rape'] == df['Rape'].max(), 'STATE/UT']\n",
        "max_rape_cases"
      ],
      "metadata": {
        "execution": {
          "iopub.status.busy": "2023-07-17T18:11:25.364355Z",
          "iopub.execute_input": "2023-07-17T18:11:25.364600Z",
          "iopub.status.idle": "2023-07-17T18:11:25.372219Z",
          "shell.execute_reply.started": "2023-07-17T18:11:25.364579Z",
          "shell.execute_reply": "2023-07-17T18:11:25.371230Z"
        },
        "trusted": true,
        "id": "jNIJwkle7sed",
        "outputId": "be3f0356-1699-497b-deb6-d0eeaa41df7e"
      },
      "execution_count": null,
      "outputs": [
        {
          "execution_count": 35,
          "output_type": "execute_result",
          "data": {
            "text/plain": "10244    MADHYA PRADESH\nName: STATE/UT, dtype: object"
          },
          "metadata": {}
        }
      ]
    },
    {
      "cell_type": "code",
      "source": [
        "max_importation_cases = df.loc[df['Importation of Girls'] == df['Importation of Girls'].max(), 'STATE/UT']\n",
        "max_importation_cases"
      ],
      "metadata": {
        "execution": {
          "iopub.status.busy": "2023-07-17T18:22:44.627842Z",
          "iopub.execute_input": "2023-07-17T18:22:44.628172Z",
          "iopub.status.idle": "2023-07-17T18:22:44.636063Z",
          "shell.execute_reply.started": "2023-07-17T18:22:44.628149Z",
          "shell.execute_reply": "2023-07-17T18:22:44.634997Z"
        },
        "trusted": true,
        "id": "EwVmusa97see",
        "outputId": "287fbfa4-e5ee-430e-8d26-d5b645c00b42"
      },
      "execution_count": null,
      "outputs": [
        {
          "execution_count": 38,
          "output_type": "execute_result",
          "data": {
            "text/plain": "115    BIHAR\nName: STATE/UT, dtype: object"
          },
          "metadata": {}
        }
      ]
    },
    {
      "cell_type": "markdown",
      "source": [
        "# Which state has featured in both the lists of \"Maximum number of rape cases\" and \"Maximum number of Importation cases\".\n",
        "# Answer:- There is no state that appears in both the lists of \"Maximum number of rape cases\" and \"Maximum number of Importation cases\" in our dataframe."
      ],
      "metadata": {
        "id": "4BqNONwA7see"
      }
    },
    {
      "cell_type": "code",
      "source": [
        "max_Dowry_Deaths = df.loc[df['Dowry Deaths'] == df['Dowry Deaths'].max(), 'STATE/UT']\n",
        "max_Dowry_Deaths"
      ],
      "metadata": {
        "execution": {
          "iopub.status.busy": "2023-07-17T18:23:16.707828Z",
          "iopub.execute_input": "2023-07-17T18:23:16.708154Z",
          "iopub.status.idle": "2023-07-17T18:23:16.716548Z",
          "shell.execute_reply.started": "2023-07-17T18:23:16.708129Z",
          "shell.execute_reply": "2023-07-17T18:23:16.715270Z"
        },
        "trusted": true,
        "id": "UojfGZXa7see",
        "outputId": "6464b120-7fac-4342-8af9-4cecfa0b33e8"
      },
      "execution_count": null,
      "outputs": [
        {
          "execution_count": 39,
          "output_type": "execute_result",
          "data": {
            "text/plain": "10595    UTTAR PRADESH\nName: STATE/UT, dtype: object"
          },
          "metadata": {}
        }
      ]
    },
    {
      "cell_type": "markdown",
      "source": [
        "# Which state has featured in both the lists of \"Maximum number of rape cases\" and \"Maximum number of Deaths due to Dowry cases\".\n",
        "# Answer:- There is no state that appears in both the lists of \"Maximum number of rape cases\" and \"Maximum number of Deaths due to Dowry\" in our dataframe."
      ],
      "metadata": {
        "id": "_QhPfmmV7sef"
      }
    }
  ]
}