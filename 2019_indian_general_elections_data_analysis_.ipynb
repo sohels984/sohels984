{
  "metadata": {
    "kernelspec": {
      "language": "python",
      "display_name": "Python 3",
      "name": "python3"
    },
    "language_info": {
      "name": "python",
      "version": "3.10.12",
      "mimetype": "text/x-python",
      "codemirror_mode": {
        "name": "ipython",
        "version": 3
      },
      "pygments_lexer": "ipython3",
      "nbconvert_exporter": "python",
      "file_extension": ".py"
    },
    "colab": {
      "provenance": [],
      "include_colab_link": true
    }
  },
  "nbformat_minor": 0,
  "nbformat": 4,
  "cells": [
    {
      "cell_type": "markdown",
      "metadata": {
        "id": "view-in-github",
        "colab_type": "text"
      },
      "source": [
        "<a href=\"https://colab.research.google.com/github/sohels984/sohels984/blob/main/2019_indian_general_elections_data_analysis_.ipynb\" target=\"_parent\"><img src=\"https://colab.research.google.com/assets/colab-badge.svg\" alt=\"Open In Colab\"/></a>"
      ]
    },
    {
      "cell_type": "code",
      "source": [
        "# This Python 3 environment comes with many helpful analytics libraries installed\n",
        "# It is defined by the kaggle/python Docker image: https://github.com/kaggle/docker-python\n",
        "# For example, here's several helpful packages to load\n",
        "\n",
        "import numpy as np # linear algebra\n",
        "import pandas as pd # data processing, CSV file I/O (e.g. pd.read_csv)\n",
        "\n",
        "# Input data files are available in the read-only \"../input/\" directory\n",
        "# For example, running this (by clicking run or pressing Shift+Enter) will list all files under the input directory\n",
        "\n",
        "import os\n",
        "for dirname, _, filenames in os.walk('/kaggle/input'):\n",
        "    for filename in filenames:\n",
        "        print(os.path.join(dirname, filename))\n",
        "\n",
        "# You can write up to 20GB to the current directory (/kaggle/working/) that gets preserved as output when you create a version using \"Save & Run All\"\n",
        "# You can also write temporary files to /kaggle/temp/, but they won't be saved outside of the current session"
      ],
      "metadata": {
        "_uuid": "8f2839f25d086af736a60e9eeb907d3b93b6e0e5",
        "_cell_guid": "b1076dfc-b9ad-4769-8c92-a6c4dae69d19",
        "execution": {
          "iopub.status.busy": "2023-08-16T13:36:59.253606Z",
          "iopub.execute_input": "2023-08-16T13:36:59.254212Z",
          "iopub.status.idle": "2023-08-16T13:36:59.264008Z",
          "shell.execute_reply.started": "2023-08-16T13:36:59.254163Z",
          "shell.execute_reply": "2023-08-16T13:36:59.262900Z"
        },
        "trusted": true,
        "id": "KNHr_6jS7eTD",
        "outputId": "e4cbbd4d-e6e3-4951-87f6-a33e3a7b4903"
      },
      "execution_count": null,
      "outputs": [
        {
          "name": "stdout",
          "text": "/kaggle/input/indian-candidates-for-general-election-2019/LS_2.0.csv\n",
          "output_type": "stream"
        }
      ]
    },
    {
      "cell_type": "code",
      "source": [
        "df=pd.read_csv(\"/kaggle/input/indian-candidates-for-general-election-2019/LS_2.0.csv\")"
      ],
      "metadata": {
        "execution": {
          "iopub.status.busy": "2023-08-16T13:36:59.266287Z",
          "iopub.execute_input": "2023-08-16T13:36:59.267150Z",
          "iopub.status.idle": "2023-08-16T13:36:59.330472Z",
          "shell.execute_reply.started": "2023-08-16T13:36:59.267098Z",
          "shell.execute_reply": "2023-08-16T13:36:59.329339Z"
        },
        "trusted": true,
        "id": "z31bdpG37eTG"
      },
      "execution_count": null,
      "outputs": []
    },
    {
      "cell_type": "code",
      "source": [
        "df.head()"
      ],
      "metadata": {
        "execution": {
          "iopub.status.busy": "2023-08-16T13:36:59.331987Z",
          "iopub.execute_input": "2023-08-16T13:36:59.332607Z",
          "iopub.status.idle": "2023-08-16T13:36:59.371991Z",
          "shell.execute_reply.started": "2023-08-16T13:36:59.332566Z",
          "shell.execute_reply": "2023-08-16T13:36:59.370663Z"
        },
        "trusted": true,
        "id": "sWhD5xlm7eTH",
        "outputId": "a5c44808-b143-44d8-f523-d33a7a99184b"
      },
      "execution_count": null,
      "outputs": [
        {
          "execution_count": 4,
          "output_type": "execute_result",
          "data": {
            "text/plain": "           STATE CONSTITUENCY                   NAME  WINNER PARTY SYMBOL  \\\n0      Telangana     ADILABAD         SOYAM BAPU RAO       1   BJP  Lotus   \n1      Telangana     ADILABAD           Godam Nagesh       0   TRS    Car   \n2      Telangana     ADILABAD          RATHOD RAMESH       0   INC   Hand   \n3      Telangana     ADILABAD                   NOTA       0  NOTA    NaN   \n4  Uttar Pradesh         AGRA  Satyapal Singh Baghel       1   BJP  Lotus   \n\n  GENDER CRIMINAL\\nCASES   AGE CATEGORY      EDUCATION  \\\n0   MALE              52  52.0       ST      12th Pass   \n1   MALE               0  54.0       ST  Post Graduate   \n2   MALE               3  52.0       ST      12th Pass   \n3    NaN             NaN   NaN      NaN            NaN   \n4   MALE               5  58.0       SC      Doctorate   \n\n                        ASSETS                  LIABILITIES  GENERAL\\nVOTES  \\\n0    Rs 30,99,414\\n ~ 30 Lacs+      Rs 2,31,450\\n ~ 2 Lacs+          376892   \n1  Rs 1,84,77,888\\n ~ 1 Crore+      Rs 8,47,000\\n ~ 8 Lacs+          318665   \n2  Rs 3,64,91,000\\n ~ 3 Crore+  Rs 1,53,00,000\\n ~ 1 Crore+          314057   \n3                          NaN                          NaN           13030   \n4  Rs 7,42,74,036\\n ~ 7 Crore+    Rs 86,06,522\\n ~ 86 Lacs+          644459   \n\n   POSTAL\\nVOTES  TOTAL\\nVOTES  OVER TOTAL ELECTORS \\nIN CONSTITUENCY  \\\n0            482        377374                              25.330684   \n1            149        318814                              21.399929   \n2            181        314238                              21.092771   \n3              6         13036                               0.875023   \n4           2416        646875                              33.383823   \n\n   OVER TOTAL VOTES POLLED \\nIN CONSTITUENCY  TOTAL ELECTORS  \n0                                  35.468248         1489790  \n1                                  29.964370         1489790  \n2                                  29.534285         1489790  \n3                                   1.225214         1489790  \n4                                  56.464615         1937690  ",
            "text/html": "<div>\n<style scoped>\n    .dataframe tbody tr th:only-of-type {\n        vertical-align: middle;\n    }\n\n    .dataframe tbody tr th {\n        vertical-align: top;\n    }\n\n    .dataframe thead th {\n        text-align: right;\n    }\n</style>\n<table border=\"1\" class=\"dataframe\">\n  <thead>\n    <tr style=\"text-align: right;\">\n      <th></th>\n      <th>STATE</th>\n      <th>CONSTITUENCY</th>\n      <th>NAME</th>\n      <th>WINNER</th>\n      <th>PARTY</th>\n      <th>SYMBOL</th>\n      <th>GENDER</th>\n      <th>CRIMINAL\\nCASES</th>\n      <th>AGE</th>\n      <th>CATEGORY</th>\n      <th>EDUCATION</th>\n      <th>ASSETS</th>\n      <th>LIABILITIES</th>\n      <th>GENERAL\\nVOTES</th>\n      <th>POSTAL\\nVOTES</th>\n      <th>TOTAL\\nVOTES</th>\n      <th>OVER TOTAL ELECTORS \\nIN CONSTITUENCY</th>\n      <th>OVER TOTAL VOTES POLLED \\nIN CONSTITUENCY</th>\n      <th>TOTAL ELECTORS</th>\n    </tr>\n  </thead>\n  <tbody>\n    <tr>\n      <th>0</th>\n      <td>Telangana</td>\n      <td>ADILABAD</td>\n      <td>SOYAM BAPU RAO</td>\n      <td>1</td>\n      <td>BJP</td>\n      <td>Lotus</td>\n      <td>MALE</td>\n      <td>52</td>\n      <td>52.0</td>\n      <td>ST</td>\n      <td>12th Pass</td>\n      <td>Rs 30,99,414\\n ~ 30 Lacs+</td>\n      <td>Rs 2,31,450\\n ~ 2 Lacs+</td>\n      <td>376892</td>\n      <td>482</td>\n      <td>377374</td>\n      <td>25.330684</td>\n      <td>35.468248</td>\n      <td>1489790</td>\n    </tr>\n    <tr>\n      <th>1</th>\n      <td>Telangana</td>\n      <td>ADILABAD</td>\n      <td>Godam Nagesh</td>\n      <td>0</td>\n      <td>TRS</td>\n      <td>Car</td>\n      <td>MALE</td>\n      <td>0</td>\n      <td>54.0</td>\n      <td>ST</td>\n      <td>Post Graduate</td>\n      <td>Rs 1,84,77,888\\n ~ 1 Crore+</td>\n      <td>Rs 8,47,000\\n ~ 8 Lacs+</td>\n      <td>318665</td>\n      <td>149</td>\n      <td>318814</td>\n      <td>21.399929</td>\n      <td>29.964370</td>\n      <td>1489790</td>\n    </tr>\n    <tr>\n      <th>2</th>\n      <td>Telangana</td>\n      <td>ADILABAD</td>\n      <td>RATHOD RAMESH</td>\n      <td>0</td>\n      <td>INC</td>\n      <td>Hand</td>\n      <td>MALE</td>\n      <td>3</td>\n      <td>52.0</td>\n      <td>ST</td>\n      <td>12th Pass</td>\n      <td>Rs 3,64,91,000\\n ~ 3 Crore+</td>\n      <td>Rs 1,53,00,000\\n ~ 1 Crore+</td>\n      <td>314057</td>\n      <td>181</td>\n      <td>314238</td>\n      <td>21.092771</td>\n      <td>29.534285</td>\n      <td>1489790</td>\n    </tr>\n    <tr>\n      <th>3</th>\n      <td>Telangana</td>\n      <td>ADILABAD</td>\n      <td>NOTA</td>\n      <td>0</td>\n      <td>NOTA</td>\n      <td>NaN</td>\n      <td>NaN</td>\n      <td>NaN</td>\n      <td>NaN</td>\n      <td>NaN</td>\n      <td>NaN</td>\n      <td>NaN</td>\n      <td>NaN</td>\n      <td>13030</td>\n      <td>6</td>\n      <td>13036</td>\n      <td>0.875023</td>\n      <td>1.225214</td>\n      <td>1489790</td>\n    </tr>\n    <tr>\n      <th>4</th>\n      <td>Uttar Pradesh</td>\n      <td>AGRA</td>\n      <td>Satyapal Singh Baghel</td>\n      <td>1</td>\n      <td>BJP</td>\n      <td>Lotus</td>\n      <td>MALE</td>\n      <td>5</td>\n      <td>58.0</td>\n      <td>SC</td>\n      <td>Doctorate</td>\n      <td>Rs 7,42,74,036\\n ~ 7 Crore+</td>\n      <td>Rs 86,06,522\\n ~ 86 Lacs+</td>\n      <td>644459</td>\n      <td>2416</td>\n      <td>646875</td>\n      <td>33.383823</td>\n      <td>56.464615</td>\n      <td>1937690</td>\n    </tr>\n  </tbody>\n</table>\n</div>"
          },
          "metadata": {}
        }
      ]
    },
    {
      "cell_type": "code",
      "source": [
        "df.info()"
      ],
      "metadata": {
        "execution": {
          "iopub.status.busy": "2023-08-16T13:36:59.375183Z",
          "iopub.execute_input": "2023-08-16T13:36:59.377191Z",
          "iopub.status.idle": "2023-08-16T13:36:59.417460Z",
          "shell.execute_reply.started": "2023-08-16T13:36:59.377148Z",
          "shell.execute_reply": "2023-08-16T13:36:59.416329Z"
        },
        "trusted": true,
        "id": "RYLbudGI7eTH",
        "outputId": "d9eb9464-dc4e-47d5-ddad-1405535dfc6b"
      },
      "execution_count": null,
      "outputs": [
        {
          "name": "stdout",
          "text": "<class 'pandas.core.frame.DataFrame'>\nRangeIndex: 2263 entries, 0 to 2262\nData columns (total 19 columns):\n #   Column                                    Non-Null Count  Dtype  \n---  ------                                    --------------  -----  \n 0   STATE                                     2263 non-null   object \n 1   CONSTITUENCY                              2263 non-null   object \n 2   NAME                                      2263 non-null   object \n 3   WINNER                                    2263 non-null   int64  \n 4   PARTY                                     2263 non-null   object \n 5   SYMBOL                                    2018 non-null   object \n 6   GENDER                                    2018 non-null   object \n 7   CRIMINAL\nCASES                            2018 non-null   object \n 8   AGE                                       2018 non-null   float64\n 9   CATEGORY                                  2018 non-null   object \n 10  EDUCATION                                 2018 non-null   object \n 11  ASSETS                                    2018 non-null   object \n 12  LIABILITIES                               2018 non-null   object \n 13  GENERAL\nVOTES                             2263 non-null   int64  \n 14  POSTAL\nVOTES                              2263 non-null   int64  \n 15  TOTAL\nVOTES                               2263 non-null   int64  \n 16  OVER TOTAL ELECTORS \nIN CONSTITUENCY      2263 non-null   float64\n 17  OVER TOTAL VOTES POLLED \nIN CONSTITUENCY  2263 non-null   float64\n 18  TOTAL ELECTORS                            2263 non-null   int64  \ndtypes: float64(3), int64(5), object(11)\nmemory usage: 336.0+ KB\n",
          "output_type": "stream"
        }
      ]
    },
    {
      "cell_type": "code",
      "source": [
        "df.describe()"
      ],
      "metadata": {
        "execution": {
          "iopub.status.busy": "2023-08-16T13:36:59.419092Z",
          "iopub.execute_input": "2023-08-16T13:36:59.419508Z",
          "iopub.status.idle": "2023-08-16T13:36:59.464072Z",
          "shell.execute_reply.started": "2023-08-16T13:36:59.419450Z",
          "shell.execute_reply": "2023-08-16T13:36:59.462954Z"
        },
        "trusted": true,
        "id": "3gsv20Zt7eTI",
        "outputId": "e5abc2fd-b570-4011-b473-00d97393e1a0"
      },
      "execution_count": null,
      "outputs": [
        {
          "execution_count": 6,
          "output_type": "execute_result",
          "data": {
            "text/plain": "            WINNER          AGE  GENERAL\\nVOTES  POSTAL\\nVOTES  TOTAL\\nVOTES  \\\ncount  2263.000000  2018.000000    2.263000e+03    2263.000000  2.263000e+03   \nmean      0.238179    52.273538    2.615991e+05     990.710561  2.625898e+05   \nstd       0.426064    11.869373    2.549906e+05    1602.839174  2.559822e+05   \nmin       0.000000    25.000000    1.339000e+03       0.000000  1.342000e+03   \n25%       0.000000    43.250000    2.103450e+04      57.000000  2.116250e+04   \n50%       0.000000    52.000000    1.539340e+05     316.000000  1.544890e+05   \n75%       0.000000    61.000000    4.858040e+05    1385.000000  4.872315e+05   \nmax       1.000000    86.000000    1.066824e+06   19367.000000  1.068569e+06   \n\n       OVER TOTAL ELECTORS \\nIN CONSTITUENCY  \\\ncount                            2263.000000   \nmean                               15.811412   \nstd                                14.962861   \nmin                                 0.097941   \n25%                                 1.296518   \n50%                                10.510553   \n75%                                29.468185   \nmax                                51.951012   \n\n       OVER TOTAL VOTES POLLED \\nIN CONSTITUENCY  TOTAL ELECTORS  \ncount                                2263.000000    2.263000e+03  \nmean                                   23.190525    1.658016e+06  \nstd                                    21.564758    3.145187e+05  \nmin                                     1.000039    5.518900e+04  \n25%                                     1.899502    1.530014e+06  \n50%                                    16.221721    1.679030e+06  \n75%                                    42.590233    1.816857e+06  \nmax                                    74.411856    3.150313e+06  ",
            "text/html": "<div>\n<style scoped>\n    .dataframe tbody tr th:only-of-type {\n        vertical-align: middle;\n    }\n\n    .dataframe tbody tr th {\n        vertical-align: top;\n    }\n\n    .dataframe thead th {\n        text-align: right;\n    }\n</style>\n<table border=\"1\" class=\"dataframe\">\n  <thead>\n    <tr style=\"text-align: right;\">\n      <th></th>\n      <th>WINNER</th>\n      <th>AGE</th>\n      <th>GENERAL\\nVOTES</th>\n      <th>POSTAL\\nVOTES</th>\n      <th>TOTAL\\nVOTES</th>\n      <th>OVER TOTAL ELECTORS \\nIN CONSTITUENCY</th>\n      <th>OVER TOTAL VOTES POLLED \\nIN CONSTITUENCY</th>\n      <th>TOTAL ELECTORS</th>\n    </tr>\n  </thead>\n  <tbody>\n    <tr>\n      <th>count</th>\n      <td>2263.000000</td>\n      <td>2018.000000</td>\n      <td>2.263000e+03</td>\n      <td>2263.000000</td>\n      <td>2.263000e+03</td>\n      <td>2263.000000</td>\n      <td>2263.000000</td>\n      <td>2.263000e+03</td>\n    </tr>\n    <tr>\n      <th>mean</th>\n      <td>0.238179</td>\n      <td>52.273538</td>\n      <td>2.615991e+05</td>\n      <td>990.710561</td>\n      <td>2.625898e+05</td>\n      <td>15.811412</td>\n      <td>23.190525</td>\n      <td>1.658016e+06</td>\n    </tr>\n    <tr>\n      <th>std</th>\n      <td>0.426064</td>\n      <td>11.869373</td>\n      <td>2.549906e+05</td>\n      <td>1602.839174</td>\n      <td>2.559822e+05</td>\n      <td>14.962861</td>\n      <td>21.564758</td>\n      <td>3.145187e+05</td>\n    </tr>\n    <tr>\n      <th>min</th>\n      <td>0.000000</td>\n      <td>25.000000</td>\n      <td>1.339000e+03</td>\n      <td>0.000000</td>\n      <td>1.342000e+03</td>\n      <td>0.097941</td>\n      <td>1.000039</td>\n      <td>5.518900e+04</td>\n    </tr>\n    <tr>\n      <th>25%</th>\n      <td>0.000000</td>\n      <td>43.250000</td>\n      <td>2.103450e+04</td>\n      <td>57.000000</td>\n      <td>2.116250e+04</td>\n      <td>1.296518</td>\n      <td>1.899502</td>\n      <td>1.530014e+06</td>\n    </tr>\n    <tr>\n      <th>50%</th>\n      <td>0.000000</td>\n      <td>52.000000</td>\n      <td>1.539340e+05</td>\n      <td>316.000000</td>\n      <td>1.544890e+05</td>\n      <td>10.510553</td>\n      <td>16.221721</td>\n      <td>1.679030e+06</td>\n    </tr>\n    <tr>\n      <th>75%</th>\n      <td>0.000000</td>\n      <td>61.000000</td>\n      <td>4.858040e+05</td>\n      <td>1385.000000</td>\n      <td>4.872315e+05</td>\n      <td>29.468185</td>\n      <td>42.590233</td>\n      <td>1.816857e+06</td>\n    </tr>\n    <tr>\n      <th>max</th>\n      <td>1.000000</td>\n      <td>86.000000</td>\n      <td>1.066824e+06</td>\n      <td>19367.000000</td>\n      <td>1.068569e+06</td>\n      <td>51.951012</td>\n      <td>74.411856</td>\n      <td>3.150313e+06</td>\n    </tr>\n  </tbody>\n</table>\n</div>"
          },
          "metadata": {}
        }
      ]
    },
    {
      "cell_type": "code",
      "source": [
        "df.isna().any(axis=0)"
      ],
      "metadata": {
        "execution": {
          "iopub.status.busy": "2023-08-16T13:36:59.466068Z",
          "iopub.execute_input": "2023-08-16T13:36:59.466808Z",
          "iopub.status.idle": "2023-08-16T13:36:59.489989Z",
          "shell.execute_reply.started": "2023-08-16T13:36:59.466777Z",
          "shell.execute_reply": "2023-08-16T13:36:59.488651Z"
        },
        "trusted": true,
        "id": "4P48tlkq7eTI",
        "outputId": "9288cba7-6eb7-4e38-a81e-fb8fcc4f35a0"
      },
      "execution_count": null,
      "outputs": [
        {
          "execution_count": 7,
          "output_type": "execute_result",
          "data": {
            "text/plain": "STATE                                        False\nCONSTITUENCY                                 False\nNAME                                         False\nWINNER                                       False\nPARTY                                        False\nSYMBOL                                        True\nGENDER                                        True\nCRIMINAL\\nCASES                               True\nAGE                                           True\nCATEGORY                                      True\nEDUCATION                                     True\nASSETS                                        True\nLIABILITIES                                   True\nGENERAL\\nVOTES                               False\nPOSTAL\\nVOTES                                False\nTOTAL\\nVOTES                                 False\nOVER TOTAL ELECTORS \\nIN CONSTITUENCY        False\nOVER TOTAL VOTES POLLED \\nIN CONSTITUENCY    False\nTOTAL ELECTORS                               False\ndtype: bool"
          },
          "metadata": {}
        }
      ]
    },
    {
      "cell_type": "code",
      "source": [
        "df.isna().sum()"
      ],
      "metadata": {
        "execution": {
          "iopub.status.busy": "2023-08-16T13:36:59.491285Z",
          "iopub.execute_input": "2023-08-16T13:36:59.491709Z",
          "iopub.status.idle": "2023-08-16T13:36:59.515216Z",
          "shell.execute_reply.started": "2023-08-16T13:36:59.491668Z",
          "shell.execute_reply": "2023-08-16T13:36:59.513915Z"
        },
        "trusted": true,
        "id": "3BEbZ3xK7eTI",
        "outputId": "8be8722f-754c-4392-a914-eae2aca495fe"
      },
      "execution_count": null,
      "outputs": [
        {
          "execution_count": 8,
          "output_type": "execute_result",
          "data": {
            "text/plain": "STATE                                          0\nCONSTITUENCY                                   0\nNAME                                           0\nWINNER                                         0\nPARTY                                          0\nSYMBOL                                       245\nGENDER                                       245\nCRIMINAL\\nCASES                              245\nAGE                                          245\nCATEGORY                                     245\nEDUCATION                                    245\nASSETS                                       245\nLIABILITIES                                  245\nGENERAL\\nVOTES                                 0\nPOSTAL\\nVOTES                                  0\nTOTAL\\nVOTES                                   0\nOVER TOTAL ELECTORS \\nIN CONSTITUENCY          0\nOVER TOTAL VOTES POLLED \\nIN CONSTITUENCY      0\nTOTAL ELECTORS                                 0\ndtype: int64"
          },
          "metadata": {}
        }
      ]
    },
    {
      "cell_type": "code",
      "source": [
        "df.shape\n"
      ],
      "metadata": {
        "execution": {
          "iopub.status.busy": "2023-08-16T13:36:59.516669Z",
          "iopub.execute_input": "2023-08-16T13:36:59.518040Z",
          "iopub.status.idle": "2023-08-16T13:36:59.536177Z",
          "shell.execute_reply.started": "2023-08-16T13:36:59.517997Z",
          "shell.execute_reply": "2023-08-16T13:36:59.535063Z"
        },
        "trusted": true,
        "id": "Ck8DbIrC7eTJ",
        "outputId": "75a36cb6-18cc-4b9c-bcbf-ab79a2eb4a2b"
      },
      "execution_count": null,
      "outputs": [
        {
          "execution_count": 9,
          "output_type": "execute_result",
          "data": {
            "text/plain": "(2263, 19)"
          },
          "metadata": {}
        }
      ]
    },
    {
      "cell_type": "code",
      "source": [
        "df.fillna(0,inplace=True)"
      ],
      "metadata": {
        "execution": {
          "iopub.status.busy": "2023-08-16T13:36:59.537745Z",
          "iopub.execute_input": "2023-08-16T13:36:59.538185Z",
          "iopub.status.idle": "2023-08-16T13:36:59.565617Z",
          "shell.execute_reply.started": "2023-08-16T13:36:59.538147Z",
          "shell.execute_reply": "2023-08-16T13:36:59.564607Z"
        },
        "trusted": true,
        "id": "PVu7dHF07eTJ"
      },
      "execution_count": null,
      "outputs": []
    },
    {
      "cell_type": "code",
      "source": [
        "df.isna().sum()"
      ],
      "metadata": {
        "execution": {
          "iopub.status.busy": "2023-08-16T13:36:59.572117Z",
          "iopub.execute_input": "2023-08-16T13:36:59.572551Z",
          "iopub.status.idle": "2023-08-16T13:36:59.598318Z",
          "shell.execute_reply.started": "2023-08-16T13:36:59.572504Z",
          "shell.execute_reply": "2023-08-16T13:36:59.597030Z"
        },
        "trusted": true,
        "id": "qhGRHIkX7eTJ",
        "outputId": "bb7b8902-9c66-49dd-a56e-0e43236b43e1"
      },
      "execution_count": null,
      "outputs": [
        {
          "execution_count": 11,
          "output_type": "execute_result",
          "data": {
            "text/plain": "STATE                                        0\nCONSTITUENCY                                 0\nNAME                                         0\nWINNER                                       0\nPARTY                                        0\nSYMBOL                                       0\nGENDER                                       0\nCRIMINAL\\nCASES                              0\nAGE                                          0\nCATEGORY                                     0\nEDUCATION                                    0\nASSETS                                       0\nLIABILITIES                                  0\nGENERAL\\nVOTES                               0\nPOSTAL\\nVOTES                                0\nTOTAL\\nVOTES                                 0\nOVER TOTAL ELECTORS \\nIN CONSTITUENCY        0\nOVER TOTAL VOTES POLLED \\nIN CONSTITUENCY    0\nTOTAL ELECTORS                               0\ndtype: int64"
          },
          "metadata": {}
        }
      ]
    },
    {
      "cell_type": "code",
      "source": [
        "df.head()"
      ],
      "metadata": {
        "execution": {
          "iopub.status.busy": "2023-08-16T13:36:59.600970Z",
          "iopub.execute_input": "2023-08-16T13:36:59.601306Z",
          "iopub.status.idle": "2023-08-16T13:36:59.630098Z",
          "shell.execute_reply.started": "2023-08-16T13:36:59.601278Z",
          "shell.execute_reply": "2023-08-16T13:36:59.628776Z"
        },
        "trusted": true,
        "id": "SdXFYFWr7eTK",
        "outputId": "dd9d0d59-1f64-4d43-bc03-07bb6948b56c"
      },
      "execution_count": null,
      "outputs": [
        {
          "execution_count": 12,
          "output_type": "execute_result",
          "data": {
            "text/plain": "           STATE CONSTITUENCY                   NAME  WINNER PARTY SYMBOL  \\\n0      Telangana     ADILABAD         SOYAM BAPU RAO       1   BJP  Lotus   \n1      Telangana     ADILABAD           Godam Nagesh       0   TRS    Car   \n2      Telangana     ADILABAD          RATHOD RAMESH       0   INC   Hand   \n3      Telangana     ADILABAD                   NOTA       0  NOTA      0   \n4  Uttar Pradesh         AGRA  Satyapal Singh Baghel       1   BJP  Lotus   \n\n  GENDER CRIMINAL\\nCASES   AGE CATEGORY      EDUCATION  \\\n0   MALE              52  52.0       ST      12th Pass   \n1   MALE               0  54.0       ST  Post Graduate   \n2   MALE               3  52.0       ST      12th Pass   \n3      0               0   0.0        0              0   \n4   MALE               5  58.0       SC      Doctorate   \n\n                        ASSETS                  LIABILITIES  GENERAL\\nVOTES  \\\n0    Rs 30,99,414\\n ~ 30 Lacs+      Rs 2,31,450\\n ~ 2 Lacs+          376892   \n1  Rs 1,84,77,888\\n ~ 1 Crore+      Rs 8,47,000\\n ~ 8 Lacs+          318665   \n2  Rs 3,64,91,000\\n ~ 3 Crore+  Rs 1,53,00,000\\n ~ 1 Crore+          314057   \n3                            0                            0           13030   \n4  Rs 7,42,74,036\\n ~ 7 Crore+    Rs 86,06,522\\n ~ 86 Lacs+          644459   \n\n   POSTAL\\nVOTES  TOTAL\\nVOTES  OVER TOTAL ELECTORS \\nIN CONSTITUENCY  \\\n0            482        377374                              25.330684   \n1            149        318814                              21.399929   \n2            181        314238                              21.092771   \n3              6         13036                               0.875023   \n4           2416        646875                              33.383823   \n\n   OVER TOTAL VOTES POLLED \\nIN CONSTITUENCY  TOTAL ELECTORS  \n0                                  35.468248         1489790  \n1                                  29.964370         1489790  \n2                                  29.534285         1489790  \n3                                   1.225214         1489790  \n4                                  56.464615         1937690  ",
            "text/html": "<div>\n<style scoped>\n    .dataframe tbody tr th:only-of-type {\n        vertical-align: middle;\n    }\n\n    .dataframe tbody tr th {\n        vertical-align: top;\n    }\n\n    .dataframe thead th {\n        text-align: right;\n    }\n</style>\n<table border=\"1\" class=\"dataframe\">\n  <thead>\n    <tr style=\"text-align: right;\">\n      <th></th>\n      <th>STATE</th>\n      <th>CONSTITUENCY</th>\n      <th>NAME</th>\n      <th>WINNER</th>\n      <th>PARTY</th>\n      <th>SYMBOL</th>\n      <th>GENDER</th>\n      <th>CRIMINAL\\nCASES</th>\n      <th>AGE</th>\n      <th>CATEGORY</th>\n      <th>EDUCATION</th>\n      <th>ASSETS</th>\n      <th>LIABILITIES</th>\n      <th>GENERAL\\nVOTES</th>\n      <th>POSTAL\\nVOTES</th>\n      <th>TOTAL\\nVOTES</th>\n      <th>OVER TOTAL ELECTORS \\nIN CONSTITUENCY</th>\n      <th>OVER TOTAL VOTES POLLED \\nIN CONSTITUENCY</th>\n      <th>TOTAL ELECTORS</th>\n    </tr>\n  </thead>\n  <tbody>\n    <tr>\n      <th>0</th>\n      <td>Telangana</td>\n      <td>ADILABAD</td>\n      <td>SOYAM BAPU RAO</td>\n      <td>1</td>\n      <td>BJP</td>\n      <td>Lotus</td>\n      <td>MALE</td>\n      <td>52</td>\n      <td>52.0</td>\n      <td>ST</td>\n      <td>12th Pass</td>\n      <td>Rs 30,99,414\\n ~ 30 Lacs+</td>\n      <td>Rs 2,31,450\\n ~ 2 Lacs+</td>\n      <td>376892</td>\n      <td>482</td>\n      <td>377374</td>\n      <td>25.330684</td>\n      <td>35.468248</td>\n      <td>1489790</td>\n    </tr>\n    <tr>\n      <th>1</th>\n      <td>Telangana</td>\n      <td>ADILABAD</td>\n      <td>Godam Nagesh</td>\n      <td>0</td>\n      <td>TRS</td>\n      <td>Car</td>\n      <td>MALE</td>\n      <td>0</td>\n      <td>54.0</td>\n      <td>ST</td>\n      <td>Post Graduate</td>\n      <td>Rs 1,84,77,888\\n ~ 1 Crore+</td>\n      <td>Rs 8,47,000\\n ~ 8 Lacs+</td>\n      <td>318665</td>\n      <td>149</td>\n      <td>318814</td>\n      <td>21.399929</td>\n      <td>29.964370</td>\n      <td>1489790</td>\n    </tr>\n    <tr>\n      <th>2</th>\n      <td>Telangana</td>\n      <td>ADILABAD</td>\n      <td>RATHOD RAMESH</td>\n      <td>0</td>\n      <td>INC</td>\n      <td>Hand</td>\n      <td>MALE</td>\n      <td>3</td>\n      <td>52.0</td>\n      <td>ST</td>\n      <td>12th Pass</td>\n      <td>Rs 3,64,91,000\\n ~ 3 Crore+</td>\n      <td>Rs 1,53,00,000\\n ~ 1 Crore+</td>\n      <td>314057</td>\n      <td>181</td>\n      <td>314238</td>\n      <td>21.092771</td>\n      <td>29.534285</td>\n      <td>1489790</td>\n    </tr>\n    <tr>\n      <th>3</th>\n      <td>Telangana</td>\n      <td>ADILABAD</td>\n      <td>NOTA</td>\n      <td>0</td>\n      <td>NOTA</td>\n      <td>0</td>\n      <td>0</td>\n      <td>0</td>\n      <td>0.0</td>\n      <td>0</td>\n      <td>0</td>\n      <td>0</td>\n      <td>0</td>\n      <td>13030</td>\n      <td>6</td>\n      <td>13036</td>\n      <td>0.875023</td>\n      <td>1.225214</td>\n      <td>1489790</td>\n    </tr>\n    <tr>\n      <th>4</th>\n      <td>Uttar Pradesh</td>\n      <td>AGRA</td>\n      <td>Satyapal Singh Baghel</td>\n      <td>1</td>\n      <td>BJP</td>\n      <td>Lotus</td>\n      <td>MALE</td>\n      <td>5</td>\n      <td>58.0</td>\n      <td>SC</td>\n      <td>Doctorate</td>\n      <td>Rs 7,42,74,036\\n ~ 7 Crore+</td>\n      <td>Rs 86,06,522\\n ~ 86 Lacs+</td>\n      <td>644459</td>\n      <td>2416</td>\n      <td>646875</td>\n      <td>33.383823</td>\n      <td>56.464615</td>\n      <td>1937690</td>\n    </tr>\n  </tbody>\n</table>\n</div>"
          },
          "metadata": {}
        }
      ]
    },
    {
      "cell_type": "code",
      "source": [
        "df.columns"
      ],
      "metadata": {
        "execution": {
          "iopub.status.busy": "2023-08-16T13:36:59.632074Z",
          "iopub.execute_input": "2023-08-16T13:36:59.632524Z",
          "iopub.status.idle": "2023-08-16T13:36:59.643433Z",
          "shell.execute_reply.started": "2023-08-16T13:36:59.632482Z",
          "shell.execute_reply": "2023-08-16T13:36:59.642177Z"
        },
        "trusted": true,
        "id": "dRwiqMDf7eTK",
        "outputId": "85e97b20-9535-43d4-c227-48f791e069b9"
      },
      "execution_count": null,
      "outputs": [
        {
          "execution_count": 13,
          "output_type": "execute_result",
          "data": {
            "text/plain": "Index(['STATE', 'CONSTITUENCY', 'NAME', 'WINNER', 'PARTY', 'SYMBOL', 'GENDER',\n       'CRIMINAL\\nCASES', 'AGE', 'CATEGORY', 'EDUCATION', 'ASSETS',\n       'LIABILITIES', 'GENERAL\\nVOTES', 'POSTAL\\nVOTES', 'TOTAL\\nVOTES',\n       'OVER TOTAL ELECTORS \\nIN CONSTITUENCY',\n       'OVER TOTAL VOTES POLLED \\nIN CONSTITUENCY', 'TOTAL ELECTORS'],\n      dtype='object')"
          },
          "metadata": {}
        }
      ]
    },
    {
      "cell_type": "code",
      "source": [
        "df1=df[df[\"WINNER\"]==1]\n",
        "df1"
      ],
      "metadata": {
        "execution": {
          "iopub.status.busy": "2023-08-16T13:36:59.645443Z",
          "iopub.execute_input": "2023-08-16T13:36:59.645940Z",
          "iopub.status.idle": "2023-08-16T13:36:59.695787Z",
          "shell.execute_reply.started": "2023-08-16T13:36:59.645896Z",
          "shell.execute_reply": "2023-08-16T13:36:59.694662Z"
        },
        "trusted": true,
        "id": "T70S7_j67eTK",
        "outputId": "dd38c76f-ce35-434b-c70c-3f629ed8ea12"
      },
      "execution_count": null,
      "outputs": [
        {
          "execution_count": 14,
          "output_type": "execute_result",
          "data": {
            "text/plain": "              STATE     CONSTITUENCY                               NAME  \\\n0         Telangana         ADILABAD                     SOYAM BAPU RAO   \n4     Uttar Pradesh             AGRA              Satyapal Singh Baghel   \n7       Maharashtra       AHMADNAGAR  Dr. SUJAY RADHAKRISHNA VIKHEPATIL   \n10          Gujarat   AHMEDABAD EAST         Patel Hasmukhbhai Somabhai   \n12          Gujarat   AHMEDABAD WEST               DR. KIRIT P. SOLANKI   \n...             ...              ...                                ...   \n2243    Maharashtra           WARDHA         Ramdas Chandrabhanji Tadas   \n2247         Kerala          WAYANAD                       Rahul Gandhi   \n2250   NCT OF Delhi       WEST DELHI          PARVESH SAHIB SINGH VERMA   \n2253    Maharashtra  YAVATMAL-WASHIM          Bhavana Pundlikrao Gawali   \n2259      Telangana        ZAHIRABAD                          B.B.PATIL   \n\n      WINNER PARTY         SYMBOL  GENDER CRIMINAL\\nCASES   AGE CATEGORY  \\\n0          1   BJP          Lotus    MALE              52  52.0       ST   \n4          1   BJP          Lotus    MALE               5  58.0       SC   \n7          1   BJP          Lotus    MALE               0  37.0  GENERAL   \n10         1   BJP          Lotus    MALE               0  58.0  GENERAL   \n12         1   BJP          Lotus    MALE               0  69.0       SC   \n...      ...   ...            ...     ...             ...   ...      ...   \n2243       1   BJP          Lotus    MALE               0  65.0  GENERAL   \n2247       1   INC           Hand    MALE               5  48.0  GENERAL   \n2250       1   BJP          Lotus    MALE               0  41.0  GENERAL   \n2253       1   SHS  Bow and Arrow  FEMALE               3  46.0  GENERAL   \n2259       1   TRS            Car    MALE              18  63.0  GENERAL   \n\n          EDUCATION                            ASSETS  \\\n0         12th Pass         Rs 30,99,414\\n ~ 30 Lacs+   \n4         Doctorate       Rs 7,42,74,036\\n ~ 7 Crore+   \n7         Doctorate     Rs 16,86,64,576\\n ~ 16 Crore+   \n10           Others       Rs 7,46,99,690\\n ~ 7 Crore+   \n12    Post Graduate       Rs 8,94,74,039\\n ~ 8 Crore+   \n...             ...                               ...   \n2243      10th Pass       Rs 6,58,07,822\\n ~ 6 Crore+   \n2247  Post Graduate     Rs 15,88,77,063\\n ~ 15 Crore+   \n2250  Post Graduate     Rs 15,51,95,014\\n ~ 15 Crore+   \n2253       Graduate       Rs 9,68,73,189\\n ~ 9 Crore+   \n2259       Graduate  Rs 1,28,78,51,556\\n ~ 128 Crore+   \n\n                      LIABILITIES  GENERAL\\nVOTES  POSTAL\\nVOTES  \\\n0         Rs 2,31,450\\n ~ 2 Lacs+          376892            482   \n4       Rs 86,06,522\\n ~ 86 Lacs+          644459           2416   \n7       Rs 26,23,964\\n ~ 26 Lacs+          696961           7699   \n10      Rs 62,52,577\\n ~ 62 Lacs+          745810           4024   \n12                       Rs 0\\n ~          638241           3381   \n...                           ...             ...            ...   \n2243    Rs 89,61,387\\n ~ 89 Lacs+          575488           2876   \n2247    Rs 72,01,904\\n ~ 72 Lacs+          705034           1333   \n2250  Rs 4,00,97,329\\n ~ 4 Crore+          862058           3590   \n2253    Rs 73,96,250\\n ~ 73 Lacs+          540104           1994   \n2259  Rs 1,15,35,000\\n ~ 1 Crore+          434066            178   \n\n      TOTAL\\nVOTES  OVER TOTAL ELECTORS \\nIN CONSTITUENCY  \\\n0           377374                              25.330684   \n4           646875                              33.383823   \n7           704660                              37.856533   \n10          749834                              41.384970   \n12          641622                              39.044323   \n...            ...                                    ...   \n2243        578364                              33.176713   \n2247        706367                              51.951012   \n2250        865648                              36.499913   \n2253        542098                              28.290483   \n2259        434244                              28.975369   \n\n      OVER TOTAL VOTES POLLED \\nIN CONSTITUENCY  TOTAL ELECTORS  \n0                                     35.468248         1489790  \n4                                     56.464615         1937690  \n7                                     58.425159         1861396  \n10                                    67.005462         1811851  \n12                                    64.211450         1643317  \n...                                         ...             ...  \n2243                                  53.918820         1743283  \n2247                                  64.640694         1359679  \n2250                                  60.010593         2371644  \n2253                                  46.142912         1916185  \n2259                                  41.574183         1498666  \n\n[539 rows x 19 columns]",
            "text/html": "<div>\n<style scoped>\n    .dataframe tbody tr th:only-of-type {\n        vertical-align: middle;\n    }\n\n    .dataframe tbody tr th {\n        vertical-align: top;\n    }\n\n    .dataframe thead th {\n        text-align: right;\n    }\n</style>\n<table border=\"1\" class=\"dataframe\">\n  <thead>\n    <tr style=\"text-align: right;\">\n      <th></th>\n      <th>STATE</th>\n      <th>CONSTITUENCY</th>\n      <th>NAME</th>\n      <th>WINNER</th>\n      <th>PARTY</th>\n      <th>SYMBOL</th>\n      <th>GENDER</th>\n      <th>CRIMINAL\\nCASES</th>\n      <th>AGE</th>\n      <th>CATEGORY</th>\n      <th>EDUCATION</th>\n      <th>ASSETS</th>\n      <th>LIABILITIES</th>\n      <th>GENERAL\\nVOTES</th>\n      <th>POSTAL\\nVOTES</th>\n      <th>TOTAL\\nVOTES</th>\n      <th>OVER TOTAL ELECTORS \\nIN CONSTITUENCY</th>\n      <th>OVER TOTAL VOTES POLLED \\nIN CONSTITUENCY</th>\n      <th>TOTAL ELECTORS</th>\n    </tr>\n  </thead>\n  <tbody>\n    <tr>\n      <th>0</th>\n      <td>Telangana</td>\n      <td>ADILABAD</td>\n      <td>SOYAM BAPU RAO</td>\n      <td>1</td>\n      <td>BJP</td>\n      <td>Lotus</td>\n      <td>MALE</td>\n      <td>52</td>\n      <td>52.0</td>\n      <td>ST</td>\n      <td>12th Pass</td>\n      <td>Rs 30,99,414\\n ~ 30 Lacs+</td>\n      <td>Rs 2,31,450\\n ~ 2 Lacs+</td>\n      <td>376892</td>\n      <td>482</td>\n      <td>377374</td>\n      <td>25.330684</td>\n      <td>35.468248</td>\n      <td>1489790</td>\n    </tr>\n    <tr>\n      <th>4</th>\n      <td>Uttar Pradesh</td>\n      <td>AGRA</td>\n      <td>Satyapal Singh Baghel</td>\n      <td>1</td>\n      <td>BJP</td>\n      <td>Lotus</td>\n      <td>MALE</td>\n      <td>5</td>\n      <td>58.0</td>\n      <td>SC</td>\n      <td>Doctorate</td>\n      <td>Rs 7,42,74,036\\n ~ 7 Crore+</td>\n      <td>Rs 86,06,522\\n ~ 86 Lacs+</td>\n      <td>644459</td>\n      <td>2416</td>\n      <td>646875</td>\n      <td>33.383823</td>\n      <td>56.464615</td>\n      <td>1937690</td>\n    </tr>\n    <tr>\n      <th>7</th>\n      <td>Maharashtra</td>\n      <td>AHMADNAGAR</td>\n      <td>Dr. SUJAY RADHAKRISHNA VIKHEPATIL</td>\n      <td>1</td>\n      <td>BJP</td>\n      <td>Lotus</td>\n      <td>MALE</td>\n      <td>0</td>\n      <td>37.0</td>\n      <td>GENERAL</td>\n      <td>Doctorate</td>\n      <td>Rs 16,86,64,576\\n ~ 16 Crore+</td>\n      <td>Rs 26,23,964\\n ~ 26 Lacs+</td>\n      <td>696961</td>\n      <td>7699</td>\n      <td>704660</td>\n      <td>37.856533</td>\n      <td>58.425159</td>\n      <td>1861396</td>\n    </tr>\n    <tr>\n      <th>10</th>\n      <td>Gujarat</td>\n      <td>AHMEDABAD EAST</td>\n      <td>Patel Hasmukhbhai Somabhai</td>\n      <td>1</td>\n      <td>BJP</td>\n      <td>Lotus</td>\n      <td>MALE</td>\n      <td>0</td>\n      <td>58.0</td>\n      <td>GENERAL</td>\n      <td>Others</td>\n      <td>Rs 7,46,99,690\\n ~ 7 Crore+</td>\n      <td>Rs 62,52,577\\n ~ 62 Lacs+</td>\n      <td>745810</td>\n      <td>4024</td>\n      <td>749834</td>\n      <td>41.384970</td>\n      <td>67.005462</td>\n      <td>1811851</td>\n    </tr>\n    <tr>\n      <th>12</th>\n      <td>Gujarat</td>\n      <td>AHMEDABAD WEST</td>\n      <td>DR. KIRIT P. SOLANKI</td>\n      <td>1</td>\n      <td>BJP</td>\n      <td>Lotus</td>\n      <td>MALE</td>\n      <td>0</td>\n      <td>69.0</td>\n      <td>SC</td>\n      <td>Post Graduate</td>\n      <td>Rs 8,94,74,039\\n ~ 8 Crore+</td>\n      <td>Rs 0\\n ~</td>\n      <td>638241</td>\n      <td>3381</td>\n      <td>641622</td>\n      <td>39.044323</td>\n      <td>64.211450</td>\n      <td>1643317</td>\n    </tr>\n    <tr>\n      <th>...</th>\n      <td>...</td>\n      <td>...</td>\n      <td>...</td>\n      <td>...</td>\n      <td>...</td>\n      <td>...</td>\n      <td>...</td>\n      <td>...</td>\n      <td>...</td>\n      <td>...</td>\n      <td>...</td>\n      <td>...</td>\n      <td>...</td>\n      <td>...</td>\n      <td>...</td>\n      <td>...</td>\n      <td>...</td>\n      <td>...</td>\n      <td>...</td>\n    </tr>\n    <tr>\n      <th>2243</th>\n      <td>Maharashtra</td>\n      <td>WARDHA</td>\n      <td>Ramdas Chandrabhanji Tadas</td>\n      <td>1</td>\n      <td>BJP</td>\n      <td>Lotus</td>\n      <td>MALE</td>\n      <td>0</td>\n      <td>65.0</td>\n      <td>GENERAL</td>\n      <td>10th Pass</td>\n      <td>Rs 6,58,07,822\\n ~ 6 Crore+</td>\n      <td>Rs 89,61,387\\n ~ 89 Lacs+</td>\n      <td>575488</td>\n      <td>2876</td>\n      <td>578364</td>\n      <td>33.176713</td>\n      <td>53.918820</td>\n      <td>1743283</td>\n    </tr>\n    <tr>\n      <th>2247</th>\n      <td>Kerala</td>\n      <td>WAYANAD</td>\n      <td>Rahul Gandhi</td>\n      <td>1</td>\n      <td>INC</td>\n      <td>Hand</td>\n      <td>MALE</td>\n      <td>5</td>\n      <td>48.0</td>\n      <td>GENERAL</td>\n      <td>Post Graduate</td>\n      <td>Rs 15,88,77,063\\n ~ 15 Crore+</td>\n      <td>Rs 72,01,904\\n ~ 72 Lacs+</td>\n      <td>705034</td>\n      <td>1333</td>\n      <td>706367</td>\n      <td>51.951012</td>\n      <td>64.640694</td>\n      <td>1359679</td>\n    </tr>\n    <tr>\n      <th>2250</th>\n      <td>NCT OF Delhi</td>\n      <td>WEST DELHI</td>\n      <td>PARVESH SAHIB SINGH VERMA</td>\n      <td>1</td>\n      <td>BJP</td>\n      <td>Lotus</td>\n      <td>MALE</td>\n      <td>0</td>\n      <td>41.0</td>\n      <td>GENERAL</td>\n      <td>Post Graduate</td>\n      <td>Rs 15,51,95,014\\n ~ 15 Crore+</td>\n      <td>Rs 4,00,97,329\\n ~ 4 Crore+</td>\n      <td>862058</td>\n      <td>3590</td>\n      <td>865648</td>\n      <td>36.499913</td>\n      <td>60.010593</td>\n      <td>2371644</td>\n    </tr>\n    <tr>\n      <th>2253</th>\n      <td>Maharashtra</td>\n      <td>YAVATMAL-WASHIM</td>\n      <td>Bhavana Pundlikrao Gawali</td>\n      <td>1</td>\n      <td>SHS</td>\n      <td>Bow and Arrow</td>\n      <td>FEMALE</td>\n      <td>3</td>\n      <td>46.0</td>\n      <td>GENERAL</td>\n      <td>Graduate</td>\n      <td>Rs 9,68,73,189\\n ~ 9 Crore+</td>\n      <td>Rs 73,96,250\\n ~ 73 Lacs+</td>\n      <td>540104</td>\n      <td>1994</td>\n      <td>542098</td>\n      <td>28.290483</td>\n      <td>46.142912</td>\n      <td>1916185</td>\n    </tr>\n    <tr>\n      <th>2259</th>\n      <td>Telangana</td>\n      <td>ZAHIRABAD</td>\n      <td>B.B.PATIL</td>\n      <td>1</td>\n      <td>TRS</td>\n      <td>Car</td>\n      <td>MALE</td>\n      <td>18</td>\n      <td>63.0</td>\n      <td>GENERAL</td>\n      <td>Graduate</td>\n      <td>Rs 1,28,78,51,556\\n ~ 128 Crore+</td>\n      <td>Rs 1,15,35,000\\n ~ 1 Crore+</td>\n      <td>434066</td>\n      <td>178</td>\n      <td>434244</td>\n      <td>28.975369</td>\n      <td>41.574183</td>\n      <td>1498666</td>\n    </tr>\n  </tbody>\n</table>\n<p>539 rows × 19 columns</p>\n</div>"
          },
          "metadata": {}
        }
      ]
    },
    {
      "cell_type": "code",
      "source": [
        "a=df1.groupby([\"STATE\",\"PARTY\"])['WINNER'].count()"
      ],
      "metadata": {
        "execution": {
          "iopub.status.busy": "2023-08-16T13:36:59.697517Z",
          "iopub.execute_input": "2023-08-16T13:36:59.697989Z",
          "iopub.status.idle": "2023-08-16T13:36:59.708242Z",
          "shell.execute_reply.started": "2023-08-16T13:36:59.697948Z",
          "shell.execute_reply": "2023-08-16T13:36:59.707112Z"
        },
        "trusted": true,
        "id": "pbZ69Xco7eTK"
      },
      "execution_count": null,
      "outputs": []
    },
    {
      "cell_type": "code",
      "source": [
        "# Seat Share by state & party.\n",
        "a=pd.DataFrame(a)\n",
        "a"
      ],
      "metadata": {
        "execution": {
          "iopub.status.busy": "2023-08-16T13:36:59.709626Z",
          "iopub.execute_input": "2023-08-16T13:36:59.710073Z",
          "iopub.status.idle": "2023-08-16T13:36:59.740906Z",
          "shell.execute_reply.started": "2023-08-16T13:36:59.710034Z",
          "shell.execute_reply": "2023-08-16T13:36:59.739578Z"
        },
        "trusted": true,
        "id": "gR4q9_-A7eTK",
        "outputId": "9b92735b-8212-41e1-dc7a-bd7ba945666c"
      },
      "execution_count": null,
      "outputs": [
        {
          "execution_count": 16,
          "output_type": "execute_result",
          "data": {
            "text/plain": "                                 WINNER\nSTATE                     PARTY        \nAndaman & Nicobar Islands INC         1\nAndhra Pradesh            TDP         3\n                          YSRCP      22\nArunachal Pradesh         BJP         2\nAssam                     AIUDF       1\n...                                 ...\nUttar Pradesh             SP          5\nUttarakhand               BJP         5\nWest Bengal               AITC       22\n                          BJP        18\n                          INC         2\n\n[85 rows x 1 columns]",
            "text/html": "<div>\n<style scoped>\n    .dataframe tbody tr th:only-of-type {\n        vertical-align: middle;\n    }\n\n    .dataframe tbody tr th {\n        vertical-align: top;\n    }\n\n    .dataframe thead th {\n        text-align: right;\n    }\n</style>\n<table border=\"1\" class=\"dataframe\">\n  <thead>\n    <tr style=\"text-align: right;\">\n      <th></th>\n      <th></th>\n      <th>WINNER</th>\n    </tr>\n    <tr>\n      <th>STATE</th>\n      <th>PARTY</th>\n      <th></th>\n    </tr>\n  </thead>\n  <tbody>\n    <tr>\n      <th>Andaman &amp; Nicobar Islands</th>\n      <th>INC</th>\n      <td>1</td>\n    </tr>\n    <tr>\n      <th rowspan=\"2\" valign=\"top\">Andhra Pradesh</th>\n      <th>TDP</th>\n      <td>3</td>\n    </tr>\n    <tr>\n      <th>YSRCP</th>\n      <td>22</td>\n    </tr>\n    <tr>\n      <th>Arunachal Pradesh</th>\n      <th>BJP</th>\n      <td>2</td>\n    </tr>\n    <tr>\n      <th>Assam</th>\n      <th>AIUDF</th>\n      <td>1</td>\n    </tr>\n    <tr>\n      <th>...</th>\n      <th>...</th>\n      <td>...</td>\n    </tr>\n    <tr>\n      <th>Uttar Pradesh</th>\n      <th>SP</th>\n      <td>5</td>\n    </tr>\n    <tr>\n      <th>Uttarakhand</th>\n      <th>BJP</th>\n      <td>5</td>\n    </tr>\n    <tr>\n      <th rowspan=\"3\" valign=\"top\">West Bengal</th>\n      <th>AITC</th>\n      <td>22</td>\n    </tr>\n    <tr>\n      <th>BJP</th>\n      <td>18</td>\n    </tr>\n    <tr>\n      <th>INC</th>\n      <td>2</td>\n    </tr>\n  </tbody>\n</table>\n<p>85 rows × 1 columns</p>\n</div>"
          },
          "metadata": {}
        }
      ]
    },
    {
      "cell_type": "code",
      "source": [
        "a=df.groupby([\"AGE\",\"WINNER\"])['WINNER'].size().unstack(fill_value=0) #size()method that calculates the number of occurrences of each group when used with the groupby method.\n",
        "a.reset_index(inplace=True)\n",
        "a"
      ],
      "metadata": {
        "execution": {
          "iopub.status.busy": "2023-08-16T13:36:59.742641Z",
          "iopub.execute_input": "2023-08-16T13:36:59.743818Z",
          "iopub.status.idle": "2023-08-16T13:36:59.768753Z",
          "shell.execute_reply.started": "2023-08-16T13:36:59.743776Z",
          "shell.execute_reply": "2023-08-16T13:36:59.767606Z"
        },
        "trusted": true,
        "id": "2PP2g80b7eTK",
        "outputId": "598210b5-d30a-45da-b73f-520be37e4702"
      },
      "execution_count": null,
      "outputs": [
        {
          "execution_count": 17,
          "output_type": "execute_result",
          "data": {
            "text/plain": "WINNER   AGE    0  1\n0        0.0  245  0\n1       25.0    6  0\n2       26.0    9  1\n3       27.0   10  0\n4       28.0   11  3\n..       ...  ... ..\n56      80.0    0  1\n57      81.0    2  0\n58      82.0    2  0\n59      83.0    0  1\n60      86.0    1  1\n\n[61 rows x 3 columns]",
            "text/html": "<div>\n<style scoped>\n    .dataframe tbody tr th:only-of-type {\n        vertical-align: middle;\n    }\n\n    .dataframe tbody tr th {\n        vertical-align: top;\n    }\n\n    .dataframe thead th {\n        text-align: right;\n    }\n</style>\n<table border=\"1\" class=\"dataframe\">\n  <thead>\n    <tr style=\"text-align: right;\">\n      <th>WINNER</th>\n      <th>AGE</th>\n      <th>0</th>\n      <th>1</th>\n    </tr>\n  </thead>\n  <tbody>\n    <tr>\n      <th>0</th>\n      <td>0.0</td>\n      <td>245</td>\n      <td>0</td>\n    </tr>\n    <tr>\n      <th>1</th>\n      <td>25.0</td>\n      <td>6</td>\n      <td>0</td>\n    </tr>\n    <tr>\n      <th>2</th>\n      <td>26.0</td>\n      <td>9</td>\n      <td>1</td>\n    </tr>\n    <tr>\n      <th>3</th>\n      <td>27.0</td>\n      <td>10</td>\n      <td>0</td>\n    </tr>\n    <tr>\n      <th>4</th>\n      <td>28.0</td>\n      <td>11</td>\n      <td>3</td>\n    </tr>\n    <tr>\n      <th>...</th>\n      <td>...</td>\n      <td>...</td>\n      <td>...</td>\n    </tr>\n    <tr>\n      <th>56</th>\n      <td>80.0</td>\n      <td>0</td>\n      <td>1</td>\n    </tr>\n    <tr>\n      <th>57</th>\n      <td>81.0</td>\n      <td>2</td>\n      <td>0</td>\n    </tr>\n    <tr>\n      <th>58</th>\n      <td>82.0</td>\n      <td>2</td>\n      <td>0</td>\n    </tr>\n    <tr>\n      <th>59</th>\n      <td>83.0</td>\n      <td>0</td>\n      <td>1</td>\n    </tr>\n    <tr>\n      <th>60</th>\n      <td>86.0</td>\n      <td>1</td>\n      <td>1</td>\n    </tr>\n  </tbody>\n</table>\n<p>61 rows × 3 columns</p>\n</div>"
          },
          "metadata": {}
        }
      ]
    },
    {
      "cell_type": "code",
      "source": [
        "bin=[25,35,45,55,65,75,86]\n",
        "a[\"AGE\"]=pd.cut(a[\"AGE\"],bins=bin)\n",
        "a"
      ],
      "metadata": {
        "execution": {
          "iopub.status.busy": "2023-08-16T13:36:59.770498Z",
          "iopub.execute_input": "2023-08-16T13:36:59.771205Z",
          "iopub.status.idle": "2023-08-16T13:36:59.797098Z",
          "shell.execute_reply.started": "2023-08-16T13:36:59.771162Z",
          "shell.execute_reply": "2023-08-16T13:36:59.795822Z"
        },
        "trusted": true,
        "id": "FOwmRJO37eTK",
        "outputId": "8394d738-9743-4a8e-a5c9-18eeb0d3b9bc"
      },
      "execution_count": null,
      "outputs": [
        {
          "execution_count": 18,
          "output_type": "execute_result",
          "data": {
            "text/plain": "WINNER           AGE    0  1\n0                NaN  245  0\n1                NaN    6  0\n2       (25.0, 35.0]    9  1\n3       (25.0, 35.0]   10  0\n4       (25.0, 35.0]   11  3\n..               ...  ... ..\n56      (75.0, 86.0]    0  1\n57      (75.0, 86.0]    2  0\n58      (75.0, 86.0]    2  0\n59      (75.0, 86.0]    0  1\n60      (75.0, 86.0]    1  1\n\n[61 rows x 3 columns]",
            "text/html": "<div>\n<style scoped>\n    .dataframe tbody tr th:only-of-type {\n        vertical-align: middle;\n    }\n\n    .dataframe tbody tr th {\n        vertical-align: top;\n    }\n\n    .dataframe thead th {\n        text-align: right;\n    }\n</style>\n<table border=\"1\" class=\"dataframe\">\n  <thead>\n    <tr style=\"text-align: right;\">\n      <th>WINNER</th>\n      <th>AGE</th>\n      <th>0</th>\n      <th>1</th>\n    </tr>\n  </thead>\n  <tbody>\n    <tr>\n      <th>0</th>\n      <td>NaN</td>\n      <td>245</td>\n      <td>0</td>\n    </tr>\n    <tr>\n      <th>1</th>\n      <td>NaN</td>\n      <td>6</td>\n      <td>0</td>\n    </tr>\n    <tr>\n      <th>2</th>\n      <td>(25.0, 35.0]</td>\n      <td>9</td>\n      <td>1</td>\n    </tr>\n    <tr>\n      <th>3</th>\n      <td>(25.0, 35.0]</td>\n      <td>10</td>\n      <td>0</td>\n    </tr>\n    <tr>\n      <th>4</th>\n      <td>(25.0, 35.0]</td>\n      <td>11</td>\n      <td>3</td>\n    </tr>\n    <tr>\n      <th>...</th>\n      <td>...</td>\n      <td>...</td>\n      <td>...</td>\n    </tr>\n    <tr>\n      <th>56</th>\n      <td>(75.0, 86.0]</td>\n      <td>0</td>\n      <td>1</td>\n    </tr>\n    <tr>\n      <th>57</th>\n      <td>(75.0, 86.0]</td>\n      <td>2</td>\n      <td>0</td>\n    </tr>\n    <tr>\n      <th>58</th>\n      <td>(75.0, 86.0]</td>\n      <td>2</td>\n      <td>0</td>\n    </tr>\n    <tr>\n      <th>59</th>\n      <td>(75.0, 86.0]</td>\n      <td>0</td>\n      <td>1</td>\n    </tr>\n    <tr>\n      <th>60</th>\n      <td>(75.0, 86.0]</td>\n      <td>1</td>\n      <td>1</td>\n    </tr>\n  </tbody>\n</table>\n<p>61 rows × 3 columns</p>\n</div>"
          },
          "metadata": {}
        }
      ]
    },
    {
      "cell_type": "code",
      "source": [
        "# Age wise election result.\n",
        "b=a.groupby(\"AGE\")[0,1].sum()\n",
        "b.sort_values(by=1)\n",
        "b"
      ],
      "metadata": {
        "execution": {
          "iopub.status.busy": "2023-08-16T13:36:59.799673Z",
          "iopub.execute_input": "2023-08-16T13:36:59.800560Z",
          "iopub.status.idle": "2023-08-16T13:36:59.828533Z",
          "shell.execute_reply.started": "2023-08-16T13:36:59.800516Z",
          "shell.execute_reply": "2023-08-16T13:36:59.826844Z"
        },
        "trusted": true,
        "id": "y2RCQn8g7eTK",
        "outputId": "4b87044c-bad2-4197-fba6-8654a2c09db4"
      },
      "execution_count": null,
      "outputs": [
        {
          "name": "stderr",
          "text": "/tmp/ipykernel_32/4218718354.py:2: FutureWarning: Indexing with multiple keys (implicitly converted to a tuple of keys) will be deprecated, use a list instead.\n  b=a.groupby(\"AGE\")[0,1].sum()\n",
          "output_type": "stream"
        },
        {
          "execution_count": 19,
          "output_type": "execute_result",
          "data": {
            "text/plain": "WINNER      0    1\nAGE               \n(25, 35]  142   29\n(35, 45]  343   89\n(45, 55]  410  165\n(55, 65]  384  161\n(65, 75]  168   85\n(75, 86]   26   10",
            "text/html": "<div>\n<style scoped>\n    .dataframe tbody tr th:only-of-type {\n        vertical-align: middle;\n    }\n\n    .dataframe tbody tr th {\n        vertical-align: top;\n    }\n\n    .dataframe thead th {\n        text-align: right;\n    }\n</style>\n<table border=\"1\" class=\"dataframe\">\n  <thead>\n    <tr style=\"text-align: right;\">\n      <th>WINNER</th>\n      <th>0</th>\n      <th>1</th>\n    </tr>\n    <tr>\n      <th>AGE</th>\n      <th></th>\n      <th></th>\n    </tr>\n  </thead>\n  <tbody>\n    <tr>\n      <th>(25, 35]</th>\n      <td>142</td>\n      <td>29</td>\n    </tr>\n    <tr>\n      <th>(35, 45]</th>\n      <td>343</td>\n      <td>89</td>\n    </tr>\n    <tr>\n      <th>(45, 55]</th>\n      <td>410</td>\n      <td>165</td>\n    </tr>\n    <tr>\n      <th>(55, 65]</th>\n      <td>384</td>\n      <td>161</td>\n    </tr>\n    <tr>\n      <th>(65, 75]</th>\n      <td>168</td>\n      <td>85</td>\n    </tr>\n    <tr>\n      <th>(75, 86]</th>\n      <td>26</td>\n      <td>10</td>\n    </tr>\n  </tbody>\n</table>\n</div>"
          },
          "metadata": {}
        }
      ]
    },
    {
      "cell_type": "code",
      "source": [
        "# Category wise election result.\n",
        "c=df.groupby([\"CATEGORY\",\"WINNER\"])['WINNER'].size().unstack(fill_value=0)\n",
        "c.reset_index(inplace=True)\n",
        "c"
      ],
      "metadata": {
        "execution": {
          "iopub.status.busy": "2023-08-16T13:36:59.830244Z",
          "iopub.execute_input": "2023-08-16T13:36:59.830952Z",
          "iopub.status.idle": "2023-08-16T13:36:59.861425Z",
          "shell.execute_reply.started": "2023-08-16T13:36:59.830901Z",
          "shell.execute_reply": "2023-08-16T13:36:59.860300Z"
        },
        "trusted": true,
        "id": "meuj_FAX7eTL",
        "outputId": "e00904b3-cc17-4652-fbea-d7c7b039f1a7"
      },
      "execution_count": null,
      "outputs": [
        {
          "execution_count": 20,
          "output_type": "execute_result",
          "data": {
            "text/plain": "WINNER CATEGORY    0    1\n0             0  245    0\n1       GENERAL  993  399\n2            SC  298   85\n3            ST  188   55",
            "text/html": "<div>\n<style scoped>\n    .dataframe tbody tr th:only-of-type {\n        vertical-align: middle;\n    }\n\n    .dataframe tbody tr th {\n        vertical-align: top;\n    }\n\n    .dataframe thead th {\n        text-align: right;\n    }\n</style>\n<table border=\"1\" class=\"dataframe\">\n  <thead>\n    <tr style=\"text-align: right;\">\n      <th>WINNER</th>\n      <th>CATEGORY</th>\n      <th>0</th>\n      <th>1</th>\n    </tr>\n  </thead>\n  <tbody>\n    <tr>\n      <th>0</th>\n      <td>0</td>\n      <td>245</td>\n      <td>0</td>\n    </tr>\n    <tr>\n      <th>1</th>\n      <td>GENERAL</td>\n      <td>993</td>\n      <td>399</td>\n    </tr>\n    <tr>\n      <th>2</th>\n      <td>SC</td>\n      <td>298</td>\n      <td>85</td>\n    </tr>\n    <tr>\n      <th>3</th>\n      <td>ST</td>\n      <td>188</td>\n      <td>55</td>\n    </tr>\n  </tbody>\n</table>\n</div>"
          },
          "metadata": {}
        }
      ]
    },
    {
      "cell_type": "code",
      "source": [
        "# Gender wise election result.\n",
        "d=df.groupby([\"GENDER\",\"WINNER\"])['WINNER'].size().unstack(fill_value=0)\n",
        "d.reset_index(inplace=True)\n",
        "d"
      ],
      "metadata": {
        "execution": {
          "iopub.status.busy": "2023-08-16T13:36:59.862997Z",
          "iopub.execute_input": "2023-08-16T13:36:59.863660Z",
          "iopub.status.idle": "2023-08-16T13:36:59.879189Z",
          "shell.execute_reply.started": "2023-08-16T13:36:59.863620Z",
          "shell.execute_reply": "2023-08-16T13:36:59.877968Z"
        },
        "trusted": true,
        "id": "C37txvAz7eTL",
        "outputId": "958a519d-aa26-4d0d-d8c8-d52901745359"
      },
      "execution_count": null,
      "outputs": [
        {
          "execution_count": 21,
          "output_type": "execute_result",
          "data": {
            "text/plain": "WINNER  GENDER     0    1\n0            0   245    0\n1       FEMALE   182   76\n2         MALE  1297  463",
            "text/html": "<div>\n<style scoped>\n    .dataframe tbody tr th:only-of-type {\n        vertical-align: middle;\n    }\n\n    .dataframe tbody tr th {\n        vertical-align: top;\n    }\n\n    .dataframe thead th {\n        text-align: right;\n    }\n</style>\n<table border=\"1\" class=\"dataframe\">\n  <thead>\n    <tr style=\"text-align: right;\">\n      <th>WINNER</th>\n      <th>GENDER</th>\n      <th>0</th>\n      <th>1</th>\n    </tr>\n  </thead>\n  <tbody>\n    <tr>\n      <th>0</th>\n      <td>0</td>\n      <td>245</td>\n      <td>0</td>\n    </tr>\n    <tr>\n      <th>1</th>\n      <td>FEMALE</td>\n      <td>182</td>\n      <td>76</td>\n    </tr>\n    <tr>\n      <th>2</th>\n      <td>MALE</td>\n      <td>1297</td>\n      <td>463</td>\n    </tr>\n  </tbody>\n</table>\n</div>"
          },
          "metadata": {}
        }
      ]
    },
    {
      "cell_type": "code",
      "source": [
        "# Educational Qualifications wise election result.\n",
        "e=df.groupby([\"EDUCATION\",\"WINNER\"])['WINNER'].size().unstack(fill_value=0)\n",
        "e.reset_index(inplace=True)\n",
        "e"
      ],
      "metadata": {
        "execution": {
          "iopub.status.busy": "2023-08-16T13:36:59.880349Z",
          "iopub.execute_input": "2023-08-16T13:36:59.881123Z",
          "iopub.status.idle": "2023-08-16T13:36:59.903081Z",
          "shell.execute_reply.started": "2023-08-16T13:36:59.881091Z",
          "shell.execute_reply": "2023-08-16T13:36:59.901949Z"
        },
        "trusted": true,
        "id": "yEOw_lzT7eTL",
        "outputId": "9ad96998-3635-4516-89c6-412d6290bb09"
      },
      "execution_count": null,
      "outputs": [
        {
          "execution_count": 22,
          "output_type": "execute_result",
          "data": {
            "text/plain": "WINNER              EDUCATION    0    1\n0                           0  245    0\n1                   10th Pass  151   45\n2                   12th Pass  187   69\n3                    5th Pass   24    4\n4                    8th Pass   66   12\n5                   Doctorate   50   23\n6                    Graduate  309  132\n7       Graduate Professional  237   99\n8                  Illiterate    4    1\n9                    Literate   28    2\n10              Not Available   22    0\n11                     Others   33   17\n12              Post Graduate  368  134\n13            Post Graduate\\n    0    1",
            "text/html": "<div>\n<style scoped>\n    .dataframe tbody tr th:only-of-type {\n        vertical-align: middle;\n    }\n\n    .dataframe tbody tr th {\n        vertical-align: top;\n    }\n\n    .dataframe thead th {\n        text-align: right;\n    }\n</style>\n<table border=\"1\" class=\"dataframe\">\n  <thead>\n    <tr style=\"text-align: right;\">\n      <th>WINNER</th>\n      <th>EDUCATION</th>\n      <th>0</th>\n      <th>1</th>\n    </tr>\n  </thead>\n  <tbody>\n    <tr>\n      <th>0</th>\n      <td>0</td>\n      <td>245</td>\n      <td>0</td>\n    </tr>\n    <tr>\n      <th>1</th>\n      <td>10th Pass</td>\n      <td>151</td>\n      <td>45</td>\n    </tr>\n    <tr>\n      <th>2</th>\n      <td>12th Pass</td>\n      <td>187</td>\n      <td>69</td>\n    </tr>\n    <tr>\n      <th>3</th>\n      <td>5th Pass</td>\n      <td>24</td>\n      <td>4</td>\n    </tr>\n    <tr>\n      <th>4</th>\n      <td>8th Pass</td>\n      <td>66</td>\n      <td>12</td>\n    </tr>\n    <tr>\n      <th>5</th>\n      <td>Doctorate</td>\n      <td>50</td>\n      <td>23</td>\n    </tr>\n    <tr>\n      <th>6</th>\n      <td>Graduate</td>\n      <td>309</td>\n      <td>132</td>\n    </tr>\n    <tr>\n      <th>7</th>\n      <td>Graduate Professional</td>\n      <td>237</td>\n      <td>99</td>\n    </tr>\n    <tr>\n      <th>8</th>\n      <td>Illiterate</td>\n      <td>4</td>\n      <td>1</td>\n    </tr>\n    <tr>\n      <th>9</th>\n      <td>Literate</td>\n      <td>28</td>\n      <td>2</td>\n    </tr>\n    <tr>\n      <th>10</th>\n      <td>Not Available</td>\n      <td>22</td>\n      <td>0</td>\n    </tr>\n    <tr>\n      <th>11</th>\n      <td>Others</td>\n      <td>33</td>\n      <td>17</td>\n    </tr>\n    <tr>\n      <th>12</th>\n      <td>Post Graduate</td>\n      <td>368</td>\n      <td>134</td>\n    </tr>\n    <tr>\n      <th>13</th>\n      <td>Post Graduate\\n</td>\n      <td>0</td>\n      <td>1</td>\n    </tr>\n  </tbody>\n</table>\n</div>"
          },
          "metadata": {}
        }
      ]
    },
    {
      "cell_type": "code",
      "source": [
        "df.columns"
      ],
      "metadata": {
        "execution": {
          "iopub.status.busy": "2023-08-16T13:36:59.906352Z",
          "iopub.execute_input": "2023-08-16T13:36:59.906685Z",
          "iopub.status.idle": "2023-08-16T13:36:59.916301Z",
          "shell.execute_reply.started": "2023-08-16T13:36:59.906657Z",
          "shell.execute_reply": "2023-08-16T13:36:59.915064Z"
        },
        "trusted": true,
        "id": "WWqEGWrD7eTL",
        "outputId": "17752224-7a2e-49b8-f074-76629d7c264a"
      },
      "execution_count": null,
      "outputs": [
        {
          "execution_count": 23,
          "output_type": "execute_result",
          "data": {
            "text/plain": "Index(['STATE', 'CONSTITUENCY', 'NAME', 'WINNER', 'PARTY', 'SYMBOL', 'GENDER',\n       'CRIMINAL\\nCASES', 'AGE', 'CATEGORY', 'EDUCATION', 'ASSETS',\n       'LIABILITIES', 'GENERAL\\nVOTES', 'POSTAL\\nVOTES', 'TOTAL\\nVOTES',\n       'OVER TOTAL ELECTORS \\nIN CONSTITUENCY',\n       'OVER TOTAL VOTES POLLED \\nIN CONSTITUENCY', 'TOTAL ELECTORS'],\n      dtype='object')"
          },
          "metadata": {}
        }
      ]
    },
    {
      "cell_type": "code",
      "source": [
        "# Q1 :- Which States/UTs and Constituencies had the highest and the lowest Voter Turnout?\n",
        "voters_turnoutst=df.groupby(\"STATE\")['TOTAL\\nVOTES'].sum()\n",
        "voters_turnoutst.sort_values(ascending=False)"
      ],
      "metadata": {
        "execution": {
          "iopub.status.busy": "2023-08-16T13:36:59.917539Z",
          "iopub.execute_input": "2023-08-16T13:36:59.918516Z",
          "iopub.status.idle": "2023-08-16T13:36:59.936875Z",
          "shell.execute_reply.started": "2023-08-16T13:36:59.918484Z",
          "shell.execute_reply": "2023-08-16T13:36:59.936092Z"
        },
        "trusted": true,
        "id": "W8jZzDFR7eTL",
        "outputId": "bfc98e2f-c48f-45f1-9dcc-88103bb2488a"
      },
      "execution_count": null,
      "outputs": [
        {
          "execution_count": 24,
          "output_type": "execute_result",
          "data": {
            "text/plain": "STATE\nUttar Pradesh                84046966\nWest Bengal                  55738817\nMaharashtra                  52287234\nTamil Nadu                   41080470\nBihar                        38755595\nMadhya Pradesh               35580595\nKarnataka                    33859226\nRajasthan                    31698131\nAndhra Pradesh               30968703\nGujarat                      28158684\nOdisha                       23250248\nKerala                       20010727\nTelangana                    17956633\nAssam                        17441534\nJharkhand                    14253127\nPunjab                       13278930\nChhattisgarh                 13092035\nHaryana                      12295211\nNCT OF Delhi                  8505810\nUttarakhand                   4726240\nHimachal Pradesh              3738559\nJammu & Kashmir               3432240\nTripura                       2086829\nManipur                       1598685\nMeghalaya                     1346669\nNagaland                       999673\nGoa                            840954\nPuducherry                     766061\nArunachal Pradesh              646335\nMizoram                        495137\nChandigarh                     436583\nSikkim                         341973\nAndaman & Nicobar Islands      199875\nDadra & Nagar Haveli           193316\nDaman & Diu                     86677\nLakshadweep                     46221\nName: TOTAL\\nVOTES, dtype: int64"
          },
          "metadata": {}
        }
      ]
    },
    {
      "cell_type": "code",
      "source": [
        "voters_turnoutct=df.groupby(\"CONSTITUENCY\")['TOTAL\\nVOTES'].sum()\n",
        "voters_turnoutct.sort_values(ascending=False)"
      ],
      "metadata": {
        "execution": {
          "iopub.status.busy": "2023-08-16T13:36:59.938151Z",
          "iopub.execute_input": "2023-08-16T13:36:59.940558Z",
          "iopub.status.idle": "2023-08-16T13:36:59.961606Z",
          "shell.execute_reply.started": "2023-08-16T13:36:59.940525Z",
          "shell.execute_reply": "2023-08-16T13:36:59.960792Z"
        },
        "trusted": true,
        "id": "H4BhyroI7eTL",
        "outputId": "f0128934-21a4-443f-e804-1b061fdea2f1"
      },
      "execution_count": null,
      "outputs": [
        {
          "execution_count": 25,
          "output_type": "execute_result",
          "data": {
            "text/plain": "CONSTITUENCY\nMAHARAJGANJ    2127563\nAURANGABAD     2084080\nHAMIRPUR       2021894\nGAUHATI        1693459\nDHUBRI         1611003\n                ...   \nSRINAGAR        176854\nLADAKH          125504\nANANTNAG        117448\nDAMAN & DIU      86677\nLAKSHADWEEP      46221\nName: TOTAL\\nVOTES, Length: 539, dtype: int64"
          },
          "metadata": {}
        }
      ]
    },
    {
      "cell_type": "markdown",
      "source": [
        "# ANS1 :- State wise Uttar Pradesh had the heighest & Lakshadweep had a lowest Voter turnout. As per Constituency Maharajganj of Uttar Pradesh had a heigst & Lakshadweep had a lowest voter turnout."
      ],
      "metadata": {
        "id": "MoMUConq7eTL"
      }
    },
    {
      "cell_type": "code",
      "source": [
        "df.head()"
      ],
      "metadata": {
        "execution": {
          "iopub.status.busy": "2023-08-16T13:36:59.962980Z",
          "iopub.execute_input": "2023-08-16T13:36:59.963859Z",
          "iopub.status.idle": "2023-08-16T13:36:59.987598Z",
          "shell.execute_reply.started": "2023-08-16T13:36:59.963827Z",
          "shell.execute_reply": "2023-08-16T13:36:59.986786Z"
        },
        "trusted": true,
        "id": "dYcDK5A57eTN",
        "outputId": "48e86466-e911-4901-b62e-a9ab5116893e"
      },
      "execution_count": null,
      "outputs": [
        {
          "execution_count": 26,
          "output_type": "execute_result",
          "data": {
            "text/plain": "           STATE CONSTITUENCY                   NAME  WINNER PARTY SYMBOL  \\\n0      Telangana     ADILABAD         SOYAM BAPU RAO       1   BJP  Lotus   \n1      Telangana     ADILABAD           Godam Nagesh       0   TRS    Car   \n2      Telangana     ADILABAD          RATHOD RAMESH       0   INC   Hand   \n3      Telangana     ADILABAD                   NOTA       0  NOTA      0   \n4  Uttar Pradesh         AGRA  Satyapal Singh Baghel       1   BJP  Lotus   \n\n  GENDER CRIMINAL\\nCASES   AGE CATEGORY      EDUCATION  \\\n0   MALE              52  52.0       ST      12th Pass   \n1   MALE               0  54.0       ST  Post Graduate   \n2   MALE               3  52.0       ST      12th Pass   \n3      0               0   0.0        0              0   \n4   MALE               5  58.0       SC      Doctorate   \n\n                        ASSETS                  LIABILITIES  GENERAL\\nVOTES  \\\n0    Rs 30,99,414\\n ~ 30 Lacs+      Rs 2,31,450\\n ~ 2 Lacs+          376892   \n1  Rs 1,84,77,888\\n ~ 1 Crore+      Rs 8,47,000\\n ~ 8 Lacs+          318665   \n2  Rs 3,64,91,000\\n ~ 3 Crore+  Rs 1,53,00,000\\n ~ 1 Crore+          314057   \n3                            0                            0           13030   \n4  Rs 7,42,74,036\\n ~ 7 Crore+    Rs 86,06,522\\n ~ 86 Lacs+          644459   \n\n   POSTAL\\nVOTES  TOTAL\\nVOTES  OVER TOTAL ELECTORS \\nIN CONSTITUENCY  \\\n0            482        377374                              25.330684   \n1            149        318814                              21.399929   \n2            181        314238                              21.092771   \n3              6         13036                               0.875023   \n4           2416        646875                              33.383823   \n\n   OVER TOTAL VOTES POLLED \\nIN CONSTITUENCY  TOTAL ELECTORS  \n0                                  35.468248         1489790  \n1                                  29.964370         1489790  \n2                                  29.534285         1489790  \n3                                   1.225214         1489790  \n4                                  56.464615         1937690  ",
            "text/html": "<div>\n<style scoped>\n    .dataframe tbody tr th:only-of-type {\n        vertical-align: middle;\n    }\n\n    .dataframe tbody tr th {\n        vertical-align: top;\n    }\n\n    .dataframe thead th {\n        text-align: right;\n    }\n</style>\n<table border=\"1\" class=\"dataframe\">\n  <thead>\n    <tr style=\"text-align: right;\">\n      <th></th>\n      <th>STATE</th>\n      <th>CONSTITUENCY</th>\n      <th>NAME</th>\n      <th>WINNER</th>\n      <th>PARTY</th>\n      <th>SYMBOL</th>\n      <th>GENDER</th>\n      <th>CRIMINAL\\nCASES</th>\n      <th>AGE</th>\n      <th>CATEGORY</th>\n      <th>EDUCATION</th>\n      <th>ASSETS</th>\n      <th>LIABILITIES</th>\n      <th>GENERAL\\nVOTES</th>\n      <th>POSTAL\\nVOTES</th>\n      <th>TOTAL\\nVOTES</th>\n      <th>OVER TOTAL ELECTORS \\nIN CONSTITUENCY</th>\n      <th>OVER TOTAL VOTES POLLED \\nIN CONSTITUENCY</th>\n      <th>TOTAL ELECTORS</th>\n    </tr>\n  </thead>\n  <tbody>\n    <tr>\n      <th>0</th>\n      <td>Telangana</td>\n      <td>ADILABAD</td>\n      <td>SOYAM BAPU RAO</td>\n      <td>1</td>\n      <td>BJP</td>\n      <td>Lotus</td>\n      <td>MALE</td>\n      <td>52</td>\n      <td>52.0</td>\n      <td>ST</td>\n      <td>12th Pass</td>\n      <td>Rs 30,99,414\\n ~ 30 Lacs+</td>\n      <td>Rs 2,31,450\\n ~ 2 Lacs+</td>\n      <td>376892</td>\n      <td>482</td>\n      <td>377374</td>\n      <td>25.330684</td>\n      <td>35.468248</td>\n      <td>1489790</td>\n    </tr>\n    <tr>\n      <th>1</th>\n      <td>Telangana</td>\n      <td>ADILABAD</td>\n      <td>Godam Nagesh</td>\n      <td>0</td>\n      <td>TRS</td>\n      <td>Car</td>\n      <td>MALE</td>\n      <td>0</td>\n      <td>54.0</td>\n      <td>ST</td>\n      <td>Post Graduate</td>\n      <td>Rs 1,84,77,888\\n ~ 1 Crore+</td>\n      <td>Rs 8,47,000\\n ~ 8 Lacs+</td>\n      <td>318665</td>\n      <td>149</td>\n      <td>318814</td>\n      <td>21.399929</td>\n      <td>29.964370</td>\n      <td>1489790</td>\n    </tr>\n    <tr>\n      <th>2</th>\n      <td>Telangana</td>\n      <td>ADILABAD</td>\n      <td>RATHOD RAMESH</td>\n      <td>0</td>\n      <td>INC</td>\n      <td>Hand</td>\n      <td>MALE</td>\n      <td>3</td>\n      <td>52.0</td>\n      <td>ST</td>\n      <td>12th Pass</td>\n      <td>Rs 3,64,91,000\\n ~ 3 Crore+</td>\n      <td>Rs 1,53,00,000\\n ~ 1 Crore+</td>\n      <td>314057</td>\n      <td>181</td>\n      <td>314238</td>\n      <td>21.092771</td>\n      <td>29.534285</td>\n      <td>1489790</td>\n    </tr>\n    <tr>\n      <th>3</th>\n      <td>Telangana</td>\n      <td>ADILABAD</td>\n      <td>NOTA</td>\n      <td>0</td>\n      <td>NOTA</td>\n      <td>0</td>\n      <td>0</td>\n      <td>0</td>\n      <td>0.0</td>\n      <td>0</td>\n      <td>0</td>\n      <td>0</td>\n      <td>0</td>\n      <td>13030</td>\n      <td>6</td>\n      <td>13036</td>\n      <td>0.875023</td>\n      <td>1.225214</td>\n      <td>1489790</td>\n    </tr>\n    <tr>\n      <th>4</th>\n      <td>Uttar Pradesh</td>\n      <td>AGRA</td>\n      <td>Satyapal Singh Baghel</td>\n      <td>1</td>\n      <td>BJP</td>\n      <td>Lotus</td>\n      <td>MALE</td>\n      <td>5</td>\n      <td>58.0</td>\n      <td>SC</td>\n      <td>Doctorate</td>\n      <td>Rs 7,42,74,036\\n ~ 7 Crore+</td>\n      <td>Rs 86,06,522\\n ~ 86 Lacs+</td>\n      <td>644459</td>\n      <td>2416</td>\n      <td>646875</td>\n      <td>33.383823</td>\n      <td>56.464615</td>\n      <td>1937690</td>\n    </tr>\n  </tbody>\n</table>\n</div>"
          },
          "metadata": {}
        }
      ]
    },
    {
      "cell_type": "code",
      "source": [
        "df['CRIMINAL\\nCASES'] = pd.to_numeric(df['CRIMINAL\\nCASES'], errors='coerce')\n",
        "c1=df[\"CRIMINAL\\nCASES\"]>0\n",
        "c2=df[\"WINNER\"]==1\n",
        "df1=df[c1 & c2]\n",
        "df1"
      ],
      "metadata": {
        "execution": {
          "iopub.status.busy": "2023-08-16T13:36:59.988797Z",
          "iopub.execute_input": "2023-08-16T13:36:59.989757Z",
          "iopub.status.idle": "2023-08-16T13:37:00.027821Z",
          "shell.execute_reply.started": "2023-08-16T13:36:59.989725Z",
          "shell.execute_reply": "2023-08-16T13:37:00.026705Z"
        },
        "trusted": true,
        "id": "yBZfKG7l7eTN",
        "outputId": "8c25196b-4450-48fe-9283-279b751394a1"
      },
      "execution_count": null,
      "outputs": [
        {
          "execution_count": 27,
          "output_type": "execute_result",
          "data": {
            "text/plain": "               STATE     CONSTITUENCY                       NAME  WINNER  \\\n0          Telangana         ADILABAD             SOYAM BAPU RAO       1   \n4      Uttar Pradesh             AGRA      Satyapal Singh Baghel       1   \n23       Maharashtra            AKOLA      Dhotre Sanjay Shamrao       1   \n26            Kerala        ALAPPUZHA             Adv. A M ARIFF       1   \n29            Kerala          ALATHUR              RAMYA HARIDAS       1   \n...              ...              ...                        ...     ...   \n2226  Andhra Pradesh    VISAKHAPATNAM        M V V SATYANARAYANA       1   \n2232  Andhra Pradesh     VIZIANAGARAM     Bellana Chandra Sekhar       1   \n2247          Kerala          WAYANAD               Rahul Gandhi       1   \n2253     Maharashtra  YAVATMAL-WASHIM  Bhavana Pundlikrao Gawali       1   \n2259       Telangana        ZAHIRABAD                  B.B.PATIL       1   \n\n       PARTY                   SYMBOL  GENDER  CRIMINAL\\nCASES   AGE CATEGORY  \\\n0        BJP                    Lotus    MALE             52.0  52.0       ST   \n4        BJP                    Lotus    MALE              5.0  58.0       SC   \n23       BJP                    Lotus    MALE              1.0  60.0  GENERAL   \n26    CPI(M)  Hammer, Sickle and Star    MALE              2.0  54.0  GENERAL   \n29       INC                     Hand  FEMALE              3.0  32.0       SC   \n...      ...                      ...     ...              ...   ...      ...   \n2226   YSRCP              Ceiling Fan    MALE              1.0  52.0  GENERAL   \n2232   YSRCP              Ceiling Fan    MALE              4.0  57.0  GENERAL   \n2247     INC                     Hand    MALE              5.0  48.0  GENERAL   \n2253     SHS            Bow and Arrow  FEMALE              3.0  46.0  GENERAL   \n2259     TRS                      Car    MALE             18.0  63.0  GENERAL   \n\n                  EDUCATION                            ASSETS  \\\n0                 12th Pass         Rs 30,99,414\\n ~ 30 Lacs+   \n4                 Doctorate       Rs 7,42,74,036\\n ~ 7 Crore+   \n23    Graduate Professional       Rs 7,71,53,230\\n ~ 7 Crore+   \n26    Graduate Professional       Rs 1,52,68,906\\n ~ 1 Crore+   \n29                10th Pass         Rs 11,52,816\\n ~ 11 Lacs+   \n...                     ...                               ...   \n2226              10th Pass  Rs 2,02,39,05,124\\n ~ 202 Crore+   \n2232  Graduate Professional       Rs 2,10,35,766\\n ~ 2 Crore+   \n2247          Post Graduate     Rs 15,88,77,063\\n ~ 15 Crore+   \n2253               Graduate       Rs 9,68,73,189\\n ~ 9 Crore+   \n2259               Graduate  Rs 1,28,78,51,556\\n ~ 128 Crore+   \n\n                        LIABILITIES  GENERAL\\nVOTES  POSTAL\\nVOTES  \\\n0           Rs 2,31,450\\n ~ 2 Lacs+          376892            482   \n4         Rs 86,06,522\\n ~ 86 Lacs+          644459           2416   \n23      Rs 1,49,85,774\\n ~ 1 Crore+          552898           1546   \n26        Rs 22,20,700\\n ~ 22 Lacs+          443003           2967   \n29                         Rs 0\\n ~          532493           1322   \n...                             ...             ...            ...   \n2226  Rs 16,00,30,959\\n ~ 16 Crore+          433968           2938   \n2232    Rs 1,11,30,148\\n ~ 1 Crore+          573466           4952   \n2247      Rs 72,01,904\\n ~ 72 Lacs+          705034           1333   \n2253      Rs 73,96,250\\n ~ 73 Lacs+          540104           1994   \n2259    Rs 1,15,35,000\\n ~ 1 Crore+          434066            178   \n\n      TOTAL\\nVOTES  OVER TOTAL ELECTORS \\nIN CONSTITUENCY  \\\n0           377374                              25.330684   \n4           646875                              33.383823   \n23          554444                              29.726207   \n26          445970                              32.871650   \n29          533815                              42.139053   \n...            ...                                    ...   \n2226        436906                              23.883781   \n2232        578418                              38.459155   \n2247        706367                              51.951012   \n2253        542098                              28.290483   \n2259        434244                              28.975369   \n\n      OVER TOTAL VOTES POLLED \\nIN CONSTITUENCY  TOTAL ELECTORS  \n0                                     35.468248         1489790  \n4                                     56.464615         1937690  \n23                                    49.495753         1865169  \n26                                    40.910475         1356701  \n29                                    52.366840         1266794  \n...                                         ...             ...  \n2226                                  35.236600         1829300  \n2232                                  47.316949         1503980  \n2247                                  64.640694         1359679  \n2253                                  46.142912         1916185  \n2259                                  41.574183         1498666  \n\n[233 rows x 19 columns]",
            "text/html": "<div>\n<style scoped>\n    .dataframe tbody tr th:only-of-type {\n        vertical-align: middle;\n    }\n\n    .dataframe tbody tr th {\n        vertical-align: top;\n    }\n\n    .dataframe thead th {\n        text-align: right;\n    }\n</style>\n<table border=\"1\" class=\"dataframe\">\n  <thead>\n    <tr style=\"text-align: right;\">\n      <th></th>\n      <th>STATE</th>\n      <th>CONSTITUENCY</th>\n      <th>NAME</th>\n      <th>WINNER</th>\n      <th>PARTY</th>\n      <th>SYMBOL</th>\n      <th>GENDER</th>\n      <th>CRIMINAL\\nCASES</th>\n      <th>AGE</th>\n      <th>CATEGORY</th>\n      <th>EDUCATION</th>\n      <th>ASSETS</th>\n      <th>LIABILITIES</th>\n      <th>GENERAL\\nVOTES</th>\n      <th>POSTAL\\nVOTES</th>\n      <th>TOTAL\\nVOTES</th>\n      <th>OVER TOTAL ELECTORS \\nIN CONSTITUENCY</th>\n      <th>OVER TOTAL VOTES POLLED \\nIN CONSTITUENCY</th>\n      <th>TOTAL ELECTORS</th>\n    </tr>\n  </thead>\n  <tbody>\n    <tr>\n      <th>0</th>\n      <td>Telangana</td>\n      <td>ADILABAD</td>\n      <td>SOYAM BAPU RAO</td>\n      <td>1</td>\n      <td>BJP</td>\n      <td>Lotus</td>\n      <td>MALE</td>\n      <td>52.0</td>\n      <td>52.0</td>\n      <td>ST</td>\n      <td>12th Pass</td>\n      <td>Rs 30,99,414\\n ~ 30 Lacs+</td>\n      <td>Rs 2,31,450\\n ~ 2 Lacs+</td>\n      <td>376892</td>\n      <td>482</td>\n      <td>377374</td>\n      <td>25.330684</td>\n      <td>35.468248</td>\n      <td>1489790</td>\n    </tr>\n    <tr>\n      <th>4</th>\n      <td>Uttar Pradesh</td>\n      <td>AGRA</td>\n      <td>Satyapal Singh Baghel</td>\n      <td>1</td>\n      <td>BJP</td>\n      <td>Lotus</td>\n      <td>MALE</td>\n      <td>5.0</td>\n      <td>58.0</td>\n      <td>SC</td>\n      <td>Doctorate</td>\n      <td>Rs 7,42,74,036\\n ~ 7 Crore+</td>\n      <td>Rs 86,06,522\\n ~ 86 Lacs+</td>\n      <td>644459</td>\n      <td>2416</td>\n      <td>646875</td>\n      <td>33.383823</td>\n      <td>56.464615</td>\n      <td>1937690</td>\n    </tr>\n    <tr>\n      <th>23</th>\n      <td>Maharashtra</td>\n      <td>AKOLA</td>\n      <td>Dhotre Sanjay Shamrao</td>\n      <td>1</td>\n      <td>BJP</td>\n      <td>Lotus</td>\n      <td>MALE</td>\n      <td>1.0</td>\n      <td>60.0</td>\n      <td>GENERAL</td>\n      <td>Graduate Professional</td>\n      <td>Rs 7,71,53,230\\n ~ 7 Crore+</td>\n      <td>Rs 1,49,85,774\\n ~ 1 Crore+</td>\n      <td>552898</td>\n      <td>1546</td>\n      <td>554444</td>\n      <td>29.726207</td>\n      <td>49.495753</td>\n      <td>1865169</td>\n    </tr>\n    <tr>\n      <th>26</th>\n      <td>Kerala</td>\n      <td>ALAPPUZHA</td>\n      <td>Adv. A M ARIFF</td>\n      <td>1</td>\n      <td>CPI(M)</td>\n      <td>Hammer, Sickle and Star</td>\n      <td>MALE</td>\n      <td>2.0</td>\n      <td>54.0</td>\n      <td>GENERAL</td>\n      <td>Graduate Professional</td>\n      <td>Rs 1,52,68,906\\n ~ 1 Crore+</td>\n      <td>Rs 22,20,700\\n ~ 22 Lacs+</td>\n      <td>443003</td>\n      <td>2967</td>\n      <td>445970</td>\n      <td>32.871650</td>\n      <td>40.910475</td>\n      <td>1356701</td>\n    </tr>\n    <tr>\n      <th>29</th>\n      <td>Kerala</td>\n      <td>ALATHUR</td>\n      <td>RAMYA HARIDAS</td>\n      <td>1</td>\n      <td>INC</td>\n      <td>Hand</td>\n      <td>FEMALE</td>\n      <td>3.0</td>\n      <td>32.0</td>\n      <td>SC</td>\n      <td>10th Pass</td>\n      <td>Rs 11,52,816\\n ~ 11 Lacs+</td>\n      <td>Rs 0\\n ~</td>\n      <td>532493</td>\n      <td>1322</td>\n      <td>533815</td>\n      <td>42.139053</td>\n      <td>52.366840</td>\n      <td>1266794</td>\n    </tr>\n    <tr>\n      <th>...</th>\n      <td>...</td>\n      <td>...</td>\n      <td>...</td>\n      <td>...</td>\n      <td>...</td>\n      <td>...</td>\n      <td>...</td>\n      <td>...</td>\n      <td>...</td>\n      <td>...</td>\n      <td>...</td>\n      <td>...</td>\n      <td>...</td>\n      <td>...</td>\n      <td>...</td>\n      <td>...</td>\n      <td>...</td>\n      <td>...</td>\n      <td>...</td>\n    </tr>\n    <tr>\n      <th>2226</th>\n      <td>Andhra Pradesh</td>\n      <td>VISAKHAPATNAM</td>\n      <td>M V V SATYANARAYANA</td>\n      <td>1</td>\n      <td>YSRCP</td>\n      <td>Ceiling Fan</td>\n      <td>MALE</td>\n      <td>1.0</td>\n      <td>52.0</td>\n      <td>GENERAL</td>\n      <td>10th Pass</td>\n      <td>Rs 2,02,39,05,124\\n ~ 202 Crore+</td>\n      <td>Rs 16,00,30,959\\n ~ 16 Crore+</td>\n      <td>433968</td>\n      <td>2938</td>\n      <td>436906</td>\n      <td>23.883781</td>\n      <td>35.236600</td>\n      <td>1829300</td>\n    </tr>\n    <tr>\n      <th>2232</th>\n      <td>Andhra Pradesh</td>\n      <td>VIZIANAGARAM</td>\n      <td>Bellana Chandra Sekhar</td>\n      <td>1</td>\n      <td>YSRCP</td>\n      <td>Ceiling Fan</td>\n      <td>MALE</td>\n      <td>4.0</td>\n      <td>57.0</td>\n      <td>GENERAL</td>\n      <td>Graduate Professional</td>\n      <td>Rs 2,10,35,766\\n ~ 2 Crore+</td>\n      <td>Rs 1,11,30,148\\n ~ 1 Crore+</td>\n      <td>573466</td>\n      <td>4952</td>\n      <td>578418</td>\n      <td>38.459155</td>\n      <td>47.316949</td>\n      <td>1503980</td>\n    </tr>\n    <tr>\n      <th>2247</th>\n      <td>Kerala</td>\n      <td>WAYANAD</td>\n      <td>Rahul Gandhi</td>\n      <td>1</td>\n      <td>INC</td>\n      <td>Hand</td>\n      <td>MALE</td>\n      <td>5.0</td>\n      <td>48.0</td>\n      <td>GENERAL</td>\n      <td>Post Graduate</td>\n      <td>Rs 15,88,77,063\\n ~ 15 Crore+</td>\n      <td>Rs 72,01,904\\n ~ 72 Lacs+</td>\n      <td>705034</td>\n      <td>1333</td>\n      <td>706367</td>\n      <td>51.951012</td>\n      <td>64.640694</td>\n      <td>1359679</td>\n    </tr>\n    <tr>\n      <th>2253</th>\n      <td>Maharashtra</td>\n      <td>YAVATMAL-WASHIM</td>\n      <td>Bhavana Pundlikrao Gawali</td>\n      <td>1</td>\n      <td>SHS</td>\n      <td>Bow and Arrow</td>\n      <td>FEMALE</td>\n      <td>3.0</td>\n      <td>46.0</td>\n      <td>GENERAL</td>\n      <td>Graduate</td>\n      <td>Rs 9,68,73,189\\n ~ 9 Crore+</td>\n      <td>Rs 73,96,250\\n ~ 73 Lacs+</td>\n      <td>540104</td>\n      <td>1994</td>\n      <td>542098</td>\n      <td>28.290483</td>\n      <td>46.142912</td>\n      <td>1916185</td>\n    </tr>\n    <tr>\n      <th>2259</th>\n      <td>Telangana</td>\n      <td>ZAHIRABAD</td>\n      <td>B.B.PATIL</td>\n      <td>1</td>\n      <td>TRS</td>\n      <td>Car</td>\n      <td>MALE</td>\n      <td>18.0</td>\n      <td>63.0</td>\n      <td>GENERAL</td>\n      <td>Graduate</td>\n      <td>Rs 1,28,78,51,556\\n ~ 128 Crore+</td>\n      <td>Rs 1,15,35,000\\n ~ 1 Crore+</td>\n      <td>434066</td>\n      <td>178</td>\n      <td>434244</td>\n      <td>28.975369</td>\n      <td>41.574183</td>\n      <td>1498666</td>\n    </tr>\n  </tbody>\n</table>\n<p>233 rows × 19 columns</p>\n</div>"
          },
          "metadata": {}
        }
      ]
    },
    {
      "cell_type": "code",
      "source": [
        "# Q2A:-How many elected MPs have a criminal record ??\n",
        "unique_counts = df1['NAME'].value_counts()\n",
        "unique_counts"
      ],
      "metadata": {
        "execution": {
          "iopub.status.busy": "2023-08-16T13:37:00.029289Z",
          "iopub.execute_input": "2023-08-16T13:37:00.029618Z",
          "iopub.status.idle": "2023-08-16T13:37:00.043960Z",
          "shell.execute_reply.started": "2023-08-16T13:37:00.029590Z",
          "shell.execute_reply": "2023-08-16T13:37:00.039773Z"
        },
        "trusted": true,
        "id": "Qy-GajYG7eTN",
        "outputId": "527d01bd-17ba-4407-bde5-c5440cb7e815"
      },
      "execution_count": null,
      "outputs": [
        {
          "execution_count": 28,
          "output_type": "execute_result",
          "data": {
            "text/plain": "SOYAM BAPU RAO            1\nGIRISH CHANDRA            1\nAnupriya Singh Patel      1\nKaushal Kishore           1\nNARENDRA SINGH TOMAR      1\n                         ..\nKURUVA GORANTLA MADHAV    1\nLOCKET CHATTERJEE         1\nUDAY PRATAP SINGH         1\nPrasun Banerjee           1\nB.B.PATIL                 1\nName: NAME, Length: 233, dtype: int64"
          },
          "metadata": {}
        }
      ]
    },
    {
      "cell_type": "code",
      "source": [
        "df1[\"NAME\"].nunique()"
      ],
      "metadata": {
        "execution": {
          "iopub.status.busy": "2023-08-16T13:37:00.053694Z",
          "iopub.execute_input": "2023-08-16T13:37:00.054830Z",
          "iopub.status.idle": "2023-08-16T13:37:00.063159Z",
          "shell.execute_reply.started": "2023-08-16T13:37:00.054781Z",
          "shell.execute_reply": "2023-08-16T13:37:00.061674Z"
        },
        "trusted": true,
        "id": "bAsrGhfq7eTN",
        "outputId": "564b4270-bd7f-466f-aead-ee593f849d84"
      },
      "execution_count": null,
      "outputs": [
        {
          "execution_count": 29,
          "output_type": "execute_result",
          "data": {
            "text/plain": "233"
          },
          "metadata": {}
        }
      ]
    },
    {
      "cell_type": "markdown",
      "source": [
        "# ANS 2A:- There are 233 elected MPs having a criminal record."
      ],
      "metadata": {
        "id": "bvezshrs7eTN"
      }
    },
    {
      "cell_type": "code",
      "source": [
        "df1.columns"
      ],
      "metadata": {
        "execution": {
          "iopub.status.busy": "2023-08-16T13:37:00.064998Z",
          "iopub.execute_input": "2023-08-16T13:37:00.065851Z",
          "iopub.status.idle": "2023-08-16T13:37:00.077825Z",
          "shell.execute_reply.started": "2023-08-16T13:37:00.065803Z",
          "shell.execute_reply": "2023-08-16T13:37:00.076707Z"
        },
        "trusted": true,
        "id": "xhJIuonI7eTN",
        "outputId": "fae1bfa4-900b-4d76-b1dc-8351afb208d7"
      },
      "execution_count": null,
      "outputs": [
        {
          "execution_count": 30,
          "output_type": "execute_result",
          "data": {
            "text/plain": "Index(['STATE', 'CONSTITUENCY', 'NAME', 'WINNER', 'PARTY', 'SYMBOL', 'GENDER',\n       'CRIMINAL\\nCASES', 'AGE', 'CATEGORY', 'EDUCATION', 'ASSETS',\n       'LIABILITIES', 'GENERAL\\nVOTES', 'POSTAL\\nVOTES', 'TOTAL\\nVOTES',\n       'OVER TOTAL ELECTORS \\nIN CONSTITUENCY',\n       'OVER TOTAL VOTES POLLED \\nIN CONSTITUENCY', 'TOTAL ELECTORS'],\n      dtype='object')"
          },
          "metadata": {}
        }
      ]
    },
    {
      "cell_type": "code",
      "source": [
        "# Q2A:-what is their party-wise distribution??\n",
        "PWMP=df1.groupby(\"PARTY\")['NAME'].count()\n",
        "PWMP.sort_values(ascending=False)"
      ],
      "metadata": {
        "execution": {
          "iopub.status.busy": "2023-08-16T13:37:00.079571Z",
          "iopub.execute_input": "2023-08-16T13:37:00.080600Z",
          "iopub.status.idle": "2023-08-16T13:37:00.093462Z",
          "shell.execute_reply.started": "2023-08-16T13:37:00.080558Z",
          "shell.execute_reply": "2023-08-16T13:37:00.092280Z"
        },
        "trusted": true,
        "id": "lWrxLIo67eTN",
        "outputId": "94102347-ec8d-4d1d-e55e-05d66b0b5fe5"
      },
      "execution_count": null,
      "outputs": [
        {
          "execution_count": 31,
          "output_type": "execute_result",
          "data": {
            "text/plain": "PARTY\nBJP       114\nINC        30\nJD(U)      13\nSHS        11\nYSRCP      10\nDMK        10\nAITC        9\nBSP         6\nLJP         6\nTRS         3\nSP          2\nNCP         2\nIUML        2\nAIMIM       2\nIND         2\nCPI(M)      2\nJKN         1\nRSP         1\nSAD         1\nBJD         1\nAJSUP       1\nTDP         1\nAIUDF       1\nVCK         1\nADAL        1\nName: NAME, dtype: int64"
          },
          "metadata": {}
        }
      ]
    },
    {
      "cell_type": "code",
      "source": [
        "df2=df[df[\"WINNER\"]==1]\n",
        "df2"
      ],
      "metadata": {
        "execution": {
          "iopub.status.busy": "2023-08-16T13:37:00.094731Z",
          "iopub.execute_input": "2023-08-16T13:37:00.095180Z",
          "iopub.status.idle": "2023-08-16T13:37:00.131329Z",
          "shell.execute_reply.started": "2023-08-16T13:37:00.095139Z",
          "shell.execute_reply": "2023-08-16T13:37:00.129954Z"
        },
        "trusted": true,
        "id": "dRX2EKBf7eTN",
        "outputId": "e33ada31-862a-4cde-c93e-fe3db7a38e02"
      },
      "execution_count": null,
      "outputs": [
        {
          "execution_count": 32,
          "output_type": "execute_result",
          "data": {
            "text/plain": "              STATE     CONSTITUENCY                               NAME  \\\n0         Telangana         ADILABAD                     SOYAM BAPU RAO   \n4     Uttar Pradesh             AGRA              Satyapal Singh Baghel   \n7       Maharashtra       AHMADNAGAR  Dr. SUJAY RADHAKRISHNA VIKHEPATIL   \n10          Gujarat   AHMEDABAD EAST         Patel Hasmukhbhai Somabhai   \n12          Gujarat   AHMEDABAD WEST               DR. KIRIT P. SOLANKI   \n...             ...              ...                                ...   \n2243    Maharashtra           WARDHA         Ramdas Chandrabhanji Tadas   \n2247         Kerala          WAYANAD                       Rahul Gandhi   \n2250   NCT OF Delhi       WEST DELHI          PARVESH SAHIB SINGH VERMA   \n2253    Maharashtra  YAVATMAL-WASHIM          Bhavana Pundlikrao Gawali   \n2259      Telangana        ZAHIRABAD                          B.B.PATIL   \n\n      WINNER PARTY         SYMBOL  GENDER  CRIMINAL\\nCASES   AGE CATEGORY  \\\n0          1   BJP          Lotus    MALE             52.0  52.0       ST   \n4          1   BJP          Lotus    MALE              5.0  58.0       SC   \n7          1   BJP          Lotus    MALE              0.0  37.0  GENERAL   \n10         1   BJP          Lotus    MALE              0.0  58.0  GENERAL   \n12         1   BJP          Lotus    MALE              0.0  69.0       SC   \n...      ...   ...            ...     ...              ...   ...      ...   \n2243       1   BJP          Lotus    MALE              0.0  65.0  GENERAL   \n2247       1   INC           Hand    MALE              5.0  48.0  GENERAL   \n2250       1   BJP          Lotus    MALE              0.0  41.0  GENERAL   \n2253       1   SHS  Bow and Arrow  FEMALE              3.0  46.0  GENERAL   \n2259       1   TRS            Car    MALE             18.0  63.0  GENERAL   \n\n          EDUCATION                            ASSETS  \\\n0         12th Pass         Rs 30,99,414\\n ~ 30 Lacs+   \n4         Doctorate       Rs 7,42,74,036\\n ~ 7 Crore+   \n7         Doctorate     Rs 16,86,64,576\\n ~ 16 Crore+   \n10           Others       Rs 7,46,99,690\\n ~ 7 Crore+   \n12    Post Graduate       Rs 8,94,74,039\\n ~ 8 Crore+   \n...             ...                               ...   \n2243      10th Pass       Rs 6,58,07,822\\n ~ 6 Crore+   \n2247  Post Graduate     Rs 15,88,77,063\\n ~ 15 Crore+   \n2250  Post Graduate     Rs 15,51,95,014\\n ~ 15 Crore+   \n2253       Graduate       Rs 9,68,73,189\\n ~ 9 Crore+   \n2259       Graduate  Rs 1,28,78,51,556\\n ~ 128 Crore+   \n\n                      LIABILITIES  GENERAL\\nVOTES  POSTAL\\nVOTES  \\\n0         Rs 2,31,450\\n ~ 2 Lacs+          376892            482   \n4       Rs 86,06,522\\n ~ 86 Lacs+          644459           2416   \n7       Rs 26,23,964\\n ~ 26 Lacs+          696961           7699   \n10      Rs 62,52,577\\n ~ 62 Lacs+          745810           4024   \n12                       Rs 0\\n ~          638241           3381   \n...                           ...             ...            ...   \n2243    Rs 89,61,387\\n ~ 89 Lacs+          575488           2876   \n2247    Rs 72,01,904\\n ~ 72 Lacs+          705034           1333   \n2250  Rs 4,00,97,329\\n ~ 4 Crore+          862058           3590   \n2253    Rs 73,96,250\\n ~ 73 Lacs+          540104           1994   \n2259  Rs 1,15,35,000\\n ~ 1 Crore+          434066            178   \n\n      TOTAL\\nVOTES  OVER TOTAL ELECTORS \\nIN CONSTITUENCY  \\\n0           377374                              25.330684   \n4           646875                              33.383823   \n7           704660                              37.856533   \n10          749834                              41.384970   \n12          641622                              39.044323   \n...            ...                                    ...   \n2243        578364                              33.176713   \n2247        706367                              51.951012   \n2250        865648                              36.499913   \n2253        542098                              28.290483   \n2259        434244                              28.975369   \n\n      OVER TOTAL VOTES POLLED \\nIN CONSTITUENCY  TOTAL ELECTORS  \n0                                     35.468248         1489790  \n4                                     56.464615         1937690  \n7                                     58.425159         1861396  \n10                                    67.005462         1811851  \n12                                    64.211450         1643317  \n...                                         ...             ...  \n2243                                  53.918820         1743283  \n2247                                  64.640694         1359679  \n2250                                  60.010593         2371644  \n2253                                  46.142912         1916185  \n2259                                  41.574183         1498666  \n\n[539 rows x 19 columns]",
            "text/html": "<div>\n<style scoped>\n    .dataframe tbody tr th:only-of-type {\n        vertical-align: middle;\n    }\n\n    .dataframe tbody tr th {\n        vertical-align: top;\n    }\n\n    .dataframe thead th {\n        text-align: right;\n    }\n</style>\n<table border=\"1\" class=\"dataframe\">\n  <thead>\n    <tr style=\"text-align: right;\">\n      <th></th>\n      <th>STATE</th>\n      <th>CONSTITUENCY</th>\n      <th>NAME</th>\n      <th>WINNER</th>\n      <th>PARTY</th>\n      <th>SYMBOL</th>\n      <th>GENDER</th>\n      <th>CRIMINAL\\nCASES</th>\n      <th>AGE</th>\n      <th>CATEGORY</th>\n      <th>EDUCATION</th>\n      <th>ASSETS</th>\n      <th>LIABILITIES</th>\n      <th>GENERAL\\nVOTES</th>\n      <th>POSTAL\\nVOTES</th>\n      <th>TOTAL\\nVOTES</th>\n      <th>OVER TOTAL ELECTORS \\nIN CONSTITUENCY</th>\n      <th>OVER TOTAL VOTES POLLED \\nIN CONSTITUENCY</th>\n      <th>TOTAL ELECTORS</th>\n    </tr>\n  </thead>\n  <tbody>\n    <tr>\n      <th>0</th>\n      <td>Telangana</td>\n      <td>ADILABAD</td>\n      <td>SOYAM BAPU RAO</td>\n      <td>1</td>\n      <td>BJP</td>\n      <td>Lotus</td>\n      <td>MALE</td>\n      <td>52.0</td>\n      <td>52.0</td>\n      <td>ST</td>\n      <td>12th Pass</td>\n      <td>Rs 30,99,414\\n ~ 30 Lacs+</td>\n      <td>Rs 2,31,450\\n ~ 2 Lacs+</td>\n      <td>376892</td>\n      <td>482</td>\n      <td>377374</td>\n      <td>25.330684</td>\n      <td>35.468248</td>\n      <td>1489790</td>\n    </tr>\n    <tr>\n      <th>4</th>\n      <td>Uttar Pradesh</td>\n      <td>AGRA</td>\n      <td>Satyapal Singh Baghel</td>\n      <td>1</td>\n      <td>BJP</td>\n      <td>Lotus</td>\n      <td>MALE</td>\n      <td>5.0</td>\n      <td>58.0</td>\n      <td>SC</td>\n      <td>Doctorate</td>\n      <td>Rs 7,42,74,036\\n ~ 7 Crore+</td>\n      <td>Rs 86,06,522\\n ~ 86 Lacs+</td>\n      <td>644459</td>\n      <td>2416</td>\n      <td>646875</td>\n      <td>33.383823</td>\n      <td>56.464615</td>\n      <td>1937690</td>\n    </tr>\n    <tr>\n      <th>7</th>\n      <td>Maharashtra</td>\n      <td>AHMADNAGAR</td>\n      <td>Dr. SUJAY RADHAKRISHNA VIKHEPATIL</td>\n      <td>1</td>\n      <td>BJP</td>\n      <td>Lotus</td>\n      <td>MALE</td>\n      <td>0.0</td>\n      <td>37.0</td>\n      <td>GENERAL</td>\n      <td>Doctorate</td>\n      <td>Rs 16,86,64,576\\n ~ 16 Crore+</td>\n      <td>Rs 26,23,964\\n ~ 26 Lacs+</td>\n      <td>696961</td>\n      <td>7699</td>\n      <td>704660</td>\n      <td>37.856533</td>\n      <td>58.425159</td>\n      <td>1861396</td>\n    </tr>\n    <tr>\n      <th>10</th>\n      <td>Gujarat</td>\n      <td>AHMEDABAD EAST</td>\n      <td>Patel Hasmukhbhai Somabhai</td>\n      <td>1</td>\n      <td>BJP</td>\n      <td>Lotus</td>\n      <td>MALE</td>\n      <td>0.0</td>\n      <td>58.0</td>\n      <td>GENERAL</td>\n      <td>Others</td>\n      <td>Rs 7,46,99,690\\n ~ 7 Crore+</td>\n      <td>Rs 62,52,577\\n ~ 62 Lacs+</td>\n      <td>745810</td>\n      <td>4024</td>\n      <td>749834</td>\n      <td>41.384970</td>\n      <td>67.005462</td>\n      <td>1811851</td>\n    </tr>\n    <tr>\n      <th>12</th>\n      <td>Gujarat</td>\n      <td>AHMEDABAD WEST</td>\n      <td>DR. KIRIT P. SOLANKI</td>\n      <td>1</td>\n      <td>BJP</td>\n      <td>Lotus</td>\n      <td>MALE</td>\n      <td>0.0</td>\n      <td>69.0</td>\n      <td>SC</td>\n      <td>Post Graduate</td>\n      <td>Rs 8,94,74,039\\n ~ 8 Crore+</td>\n      <td>Rs 0\\n ~</td>\n      <td>638241</td>\n      <td>3381</td>\n      <td>641622</td>\n      <td>39.044323</td>\n      <td>64.211450</td>\n      <td>1643317</td>\n    </tr>\n    <tr>\n      <th>...</th>\n      <td>...</td>\n      <td>...</td>\n      <td>...</td>\n      <td>...</td>\n      <td>...</td>\n      <td>...</td>\n      <td>...</td>\n      <td>...</td>\n      <td>...</td>\n      <td>...</td>\n      <td>...</td>\n      <td>...</td>\n      <td>...</td>\n      <td>...</td>\n      <td>...</td>\n      <td>...</td>\n      <td>...</td>\n      <td>...</td>\n      <td>...</td>\n    </tr>\n    <tr>\n      <th>2243</th>\n      <td>Maharashtra</td>\n      <td>WARDHA</td>\n      <td>Ramdas Chandrabhanji Tadas</td>\n      <td>1</td>\n      <td>BJP</td>\n      <td>Lotus</td>\n      <td>MALE</td>\n      <td>0.0</td>\n      <td>65.0</td>\n      <td>GENERAL</td>\n      <td>10th Pass</td>\n      <td>Rs 6,58,07,822\\n ~ 6 Crore+</td>\n      <td>Rs 89,61,387\\n ~ 89 Lacs+</td>\n      <td>575488</td>\n      <td>2876</td>\n      <td>578364</td>\n      <td>33.176713</td>\n      <td>53.918820</td>\n      <td>1743283</td>\n    </tr>\n    <tr>\n      <th>2247</th>\n      <td>Kerala</td>\n      <td>WAYANAD</td>\n      <td>Rahul Gandhi</td>\n      <td>1</td>\n      <td>INC</td>\n      <td>Hand</td>\n      <td>MALE</td>\n      <td>5.0</td>\n      <td>48.0</td>\n      <td>GENERAL</td>\n      <td>Post Graduate</td>\n      <td>Rs 15,88,77,063\\n ~ 15 Crore+</td>\n      <td>Rs 72,01,904\\n ~ 72 Lacs+</td>\n      <td>705034</td>\n      <td>1333</td>\n      <td>706367</td>\n      <td>51.951012</td>\n      <td>64.640694</td>\n      <td>1359679</td>\n    </tr>\n    <tr>\n      <th>2250</th>\n      <td>NCT OF Delhi</td>\n      <td>WEST DELHI</td>\n      <td>PARVESH SAHIB SINGH VERMA</td>\n      <td>1</td>\n      <td>BJP</td>\n      <td>Lotus</td>\n      <td>MALE</td>\n      <td>0.0</td>\n      <td>41.0</td>\n      <td>GENERAL</td>\n      <td>Post Graduate</td>\n      <td>Rs 15,51,95,014\\n ~ 15 Crore+</td>\n      <td>Rs 4,00,97,329\\n ~ 4 Crore+</td>\n      <td>862058</td>\n      <td>3590</td>\n      <td>865648</td>\n      <td>36.499913</td>\n      <td>60.010593</td>\n      <td>2371644</td>\n    </tr>\n    <tr>\n      <th>2253</th>\n      <td>Maharashtra</td>\n      <td>YAVATMAL-WASHIM</td>\n      <td>Bhavana Pundlikrao Gawali</td>\n      <td>1</td>\n      <td>SHS</td>\n      <td>Bow and Arrow</td>\n      <td>FEMALE</td>\n      <td>3.0</td>\n      <td>46.0</td>\n      <td>GENERAL</td>\n      <td>Graduate</td>\n      <td>Rs 9,68,73,189\\n ~ 9 Crore+</td>\n      <td>Rs 73,96,250\\n ~ 73 Lacs+</td>\n      <td>540104</td>\n      <td>1994</td>\n      <td>542098</td>\n      <td>28.290483</td>\n      <td>46.142912</td>\n      <td>1916185</td>\n    </tr>\n    <tr>\n      <th>2259</th>\n      <td>Telangana</td>\n      <td>ZAHIRABAD</td>\n      <td>B.B.PATIL</td>\n      <td>1</td>\n      <td>TRS</td>\n      <td>Car</td>\n      <td>MALE</td>\n      <td>18.0</td>\n      <td>63.0</td>\n      <td>GENERAL</td>\n      <td>Graduate</td>\n      <td>Rs 1,28,78,51,556\\n ~ 128 Crore+</td>\n      <td>Rs 1,15,35,000\\n ~ 1 Crore+</td>\n      <td>434066</td>\n      <td>178</td>\n      <td>434244</td>\n      <td>28.975369</td>\n      <td>41.574183</td>\n      <td>1498666</td>\n    </tr>\n  </tbody>\n</table>\n<p>539 rows × 19 columns</p>\n</div>"
          },
          "metadata": {}
        }
      ]
    },
    {
      "cell_type": "code",
      "source": [
        "df2['ASSETS'] = df2['ASSETS'].str.extract(r'Rs\\s*([\\d,]+)')[0].str.replace(',', '', regex=True)"
      ],
      "metadata": {
        "execution": {
          "iopub.status.busy": "2023-08-16T13:37:00.132752Z",
          "iopub.execute_input": "2023-08-16T13:37:00.133168Z",
          "iopub.status.idle": "2023-08-16T13:37:00.145972Z",
          "shell.execute_reply.started": "2023-08-16T13:37:00.133136Z",
          "shell.execute_reply": "2023-08-16T13:37:00.144763Z"
        },
        "trusted": true,
        "id": "UvS7VdAT7eTO",
        "outputId": "72c6c8c3-22d2-494c-b684-49ed593395a7"
      },
      "execution_count": null,
      "outputs": [
        {
          "name": "stderr",
          "text": "/tmp/ipykernel_32/2831033683.py:1: SettingWithCopyWarning: \nA value is trying to be set on a copy of a slice from a DataFrame.\nTry using .loc[row_indexer,col_indexer] = value instead\n\nSee the caveats in the documentation: https://pandas.pydata.org/pandas-docs/stable/user_guide/indexing.html#returning-a-view-versus-a-copy\n  df2['ASSETS'] = df2['ASSETS'].str.extract(r'Rs\\s*([\\d,]+)')[0].str.replace(',', '', regex=True)\n",
          "output_type": "stream"
        }
      ]
    },
    {
      "cell_type": "code",
      "source": [
        "df2['LIABILITIES'] = df2['LIABILITIES'].str.extract(r'Rs\\s*([\\d,]+)')[0].str.replace(',', '', regex=True)"
      ],
      "metadata": {
        "execution": {
          "iopub.status.busy": "2023-08-16T13:37:00.147932Z",
          "iopub.execute_input": "2023-08-16T13:37:00.148743Z",
          "iopub.status.idle": "2023-08-16T13:37:00.160893Z",
          "shell.execute_reply.started": "2023-08-16T13:37:00.148652Z",
          "shell.execute_reply": "2023-08-16T13:37:00.159431Z"
        },
        "trusted": true,
        "id": "4NDtV5D_7eTO",
        "outputId": "05256b0e-6908-479f-9352-315efab5a69e"
      },
      "execution_count": null,
      "outputs": [
        {
          "name": "stderr",
          "text": "/tmp/ipykernel_32/1298907683.py:1: SettingWithCopyWarning: \nA value is trying to be set on a copy of a slice from a DataFrame.\nTry using .loc[row_indexer,col_indexer] = value instead\n\nSee the caveats in the documentation: https://pandas.pydata.org/pandas-docs/stable/user_guide/indexing.html#returning-a-view-versus-a-copy\n  df2['LIABILITIES'] = df2['LIABILITIES'].str.extract(r'Rs\\s*([\\d,]+)')[0].str.replace(',', '', regex=True)\n",
          "output_type": "stream"
        }
      ]
    },
    {
      "cell_type": "code",
      "source": [
        "df2"
      ],
      "metadata": {
        "execution": {
          "iopub.status.busy": "2023-08-16T13:37:00.162846Z",
          "iopub.execute_input": "2023-08-16T13:37:00.163764Z",
          "iopub.status.idle": "2023-08-16T13:37:00.203590Z",
          "shell.execute_reply.started": "2023-08-16T13:37:00.163721Z",
          "shell.execute_reply": "2023-08-16T13:37:00.202266Z"
        },
        "trusted": true,
        "id": "9VPk-nGO7eTO",
        "outputId": "b580cc79-7999-4bff-eae2-59d4a44c822a"
      },
      "execution_count": null,
      "outputs": [
        {
          "execution_count": 35,
          "output_type": "execute_result",
          "data": {
            "text/plain": "              STATE     CONSTITUENCY                               NAME  \\\n0         Telangana         ADILABAD                     SOYAM BAPU RAO   \n4     Uttar Pradesh             AGRA              Satyapal Singh Baghel   \n7       Maharashtra       AHMADNAGAR  Dr. SUJAY RADHAKRISHNA VIKHEPATIL   \n10          Gujarat   AHMEDABAD EAST         Patel Hasmukhbhai Somabhai   \n12          Gujarat   AHMEDABAD WEST               DR. KIRIT P. SOLANKI   \n...             ...              ...                                ...   \n2243    Maharashtra           WARDHA         Ramdas Chandrabhanji Tadas   \n2247         Kerala          WAYANAD                       Rahul Gandhi   \n2250   NCT OF Delhi       WEST DELHI          PARVESH SAHIB SINGH VERMA   \n2253    Maharashtra  YAVATMAL-WASHIM          Bhavana Pundlikrao Gawali   \n2259      Telangana        ZAHIRABAD                          B.B.PATIL   \n\n      WINNER PARTY         SYMBOL  GENDER  CRIMINAL\\nCASES   AGE CATEGORY  \\\n0          1   BJP          Lotus    MALE             52.0  52.0       ST   \n4          1   BJP          Lotus    MALE              5.0  58.0       SC   \n7          1   BJP          Lotus    MALE              0.0  37.0  GENERAL   \n10         1   BJP          Lotus    MALE              0.0  58.0  GENERAL   \n12         1   BJP          Lotus    MALE              0.0  69.0       SC   \n...      ...   ...            ...     ...              ...   ...      ...   \n2243       1   BJP          Lotus    MALE              0.0  65.0  GENERAL   \n2247       1   INC           Hand    MALE              5.0  48.0  GENERAL   \n2250       1   BJP          Lotus    MALE              0.0  41.0  GENERAL   \n2253       1   SHS  Bow and Arrow  FEMALE              3.0  46.0  GENERAL   \n2259       1   TRS            Car    MALE             18.0  63.0  GENERAL   \n\n          EDUCATION      ASSETS LIABILITIES  GENERAL\\nVOTES  POSTAL\\nVOTES  \\\n0         12th Pass     3099414      231450          376892            482   \n4         Doctorate    74274036     8606522          644459           2416   \n7         Doctorate   168664576     2623964          696961           7699   \n10           Others    74699690     6252577          745810           4024   \n12    Post Graduate    89474039           0          638241           3381   \n...             ...         ...         ...             ...            ...   \n2243      10th Pass    65807822     8961387          575488           2876   \n2247  Post Graduate   158877063     7201904          705034           1333   \n2250  Post Graduate   155195014    40097329          862058           3590   \n2253       Graduate    96873189     7396250          540104           1994   \n2259       Graduate  1287851556    11535000          434066            178   \n\n      TOTAL\\nVOTES  OVER TOTAL ELECTORS \\nIN CONSTITUENCY  \\\n0           377374                              25.330684   \n4           646875                              33.383823   \n7           704660                              37.856533   \n10          749834                              41.384970   \n12          641622                              39.044323   \n...            ...                                    ...   \n2243        578364                              33.176713   \n2247        706367                              51.951012   \n2250        865648                              36.499913   \n2253        542098                              28.290483   \n2259        434244                              28.975369   \n\n      OVER TOTAL VOTES POLLED \\nIN CONSTITUENCY  TOTAL ELECTORS  \n0                                     35.468248         1489790  \n4                                     56.464615         1937690  \n7                                     58.425159         1861396  \n10                                    67.005462         1811851  \n12                                    64.211450         1643317  \n...                                         ...             ...  \n2243                                  53.918820         1743283  \n2247                                  64.640694         1359679  \n2250                                  60.010593         2371644  \n2253                                  46.142912         1916185  \n2259                                  41.574183         1498666  \n\n[539 rows x 19 columns]",
            "text/html": "<div>\n<style scoped>\n    .dataframe tbody tr th:only-of-type {\n        vertical-align: middle;\n    }\n\n    .dataframe tbody tr th {\n        vertical-align: top;\n    }\n\n    .dataframe thead th {\n        text-align: right;\n    }\n</style>\n<table border=\"1\" class=\"dataframe\">\n  <thead>\n    <tr style=\"text-align: right;\">\n      <th></th>\n      <th>STATE</th>\n      <th>CONSTITUENCY</th>\n      <th>NAME</th>\n      <th>WINNER</th>\n      <th>PARTY</th>\n      <th>SYMBOL</th>\n      <th>GENDER</th>\n      <th>CRIMINAL\\nCASES</th>\n      <th>AGE</th>\n      <th>CATEGORY</th>\n      <th>EDUCATION</th>\n      <th>ASSETS</th>\n      <th>LIABILITIES</th>\n      <th>GENERAL\\nVOTES</th>\n      <th>POSTAL\\nVOTES</th>\n      <th>TOTAL\\nVOTES</th>\n      <th>OVER TOTAL ELECTORS \\nIN CONSTITUENCY</th>\n      <th>OVER TOTAL VOTES POLLED \\nIN CONSTITUENCY</th>\n      <th>TOTAL ELECTORS</th>\n    </tr>\n  </thead>\n  <tbody>\n    <tr>\n      <th>0</th>\n      <td>Telangana</td>\n      <td>ADILABAD</td>\n      <td>SOYAM BAPU RAO</td>\n      <td>1</td>\n      <td>BJP</td>\n      <td>Lotus</td>\n      <td>MALE</td>\n      <td>52.0</td>\n      <td>52.0</td>\n      <td>ST</td>\n      <td>12th Pass</td>\n      <td>3099414</td>\n      <td>231450</td>\n      <td>376892</td>\n      <td>482</td>\n      <td>377374</td>\n      <td>25.330684</td>\n      <td>35.468248</td>\n      <td>1489790</td>\n    </tr>\n    <tr>\n      <th>4</th>\n      <td>Uttar Pradesh</td>\n      <td>AGRA</td>\n      <td>Satyapal Singh Baghel</td>\n      <td>1</td>\n      <td>BJP</td>\n      <td>Lotus</td>\n      <td>MALE</td>\n      <td>5.0</td>\n      <td>58.0</td>\n      <td>SC</td>\n      <td>Doctorate</td>\n      <td>74274036</td>\n      <td>8606522</td>\n      <td>644459</td>\n      <td>2416</td>\n      <td>646875</td>\n      <td>33.383823</td>\n      <td>56.464615</td>\n      <td>1937690</td>\n    </tr>\n    <tr>\n      <th>7</th>\n      <td>Maharashtra</td>\n      <td>AHMADNAGAR</td>\n      <td>Dr. SUJAY RADHAKRISHNA VIKHEPATIL</td>\n      <td>1</td>\n      <td>BJP</td>\n      <td>Lotus</td>\n      <td>MALE</td>\n      <td>0.0</td>\n      <td>37.0</td>\n      <td>GENERAL</td>\n      <td>Doctorate</td>\n      <td>168664576</td>\n      <td>2623964</td>\n      <td>696961</td>\n      <td>7699</td>\n      <td>704660</td>\n      <td>37.856533</td>\n      <td>58.425159</td>\n      <td>1861396</td>\n    </tr>\n    <tr>\n      <th>10</th>\n      <td>Gujarat</td>\n      <td>AHMEDABAD EAST</td>\n      <td>Patel Hasmukhbhai Somabhai</td>\n      <td>1</td>\n      <td>BJP</td>\n      <td>Lotus</td>\n      <td>MALE</td>\n      <td>0.0</td>\n      <td>58.0</td>\n      <td>GENERAL</td>\n      <td>Others</td>\n      <td>74699690</td>\n      <td>6252577</td>\n      <td>745810</td>\n      <td>4024</td>\n      <td>749834</td>\n      <td>41.384970</td>\n      <td>67.005462</td>\n      <td>1811851</td>\n    </tr>\n    <tr>\n      <th>12</th>\n      <td>Gujarat</td>\n      <td>AHMEDABAD WEST</td>\n      <td>DR. KIRIT P. SOLANKI</td>\n      <td>1</td>\n      <td>BJP</td>\n      <td>Lotus</td>\n      <td>MALE</td>\n      <td>0.0</td>\n      <td>69.0</td>\n      <td>SC</td>\n      <td>Post Graduate</td>\n      <td>89474039</td>\n      <td>0</td>\n      <td>638241</td>\n      <td>3381</td>\n      <td>641622</td>\n      <td>39.044323</td>\n      <td>64.211450</td>\n      <td>1643317</td>\n    </tr>\n    <tr>\n      <th>...</th>\n      <td>...</td>\n      <td>...</td>\n      <td>...</td>\n      <td>...</td>\n      <td>...</td>\n      <td>...</td>\n      <td>...</td>\n      <td>...</td>\n      <td>...</td>\n      <td>...</td>\n      <td>...</td>\n      <td>...</td>\n      <td>...</td>\n      <td>...</td>\n      <td>...</td>\n      <td>...</td>\n      <td>...</td>\n      <td>...</td>\n      <td>...</td>\n    </tr>\n    <tr>\n      <th>2243</th>\n      <td>Maharashtra</td>\n      <td>WARDHA</td>\n      <td>Ramdas Chandrabhanji Tadas</td>\n      <td>1</td>\n      <td>BJP</td>\n      <td>Lotus</td>\n      <td>MALE</td>\n      <td>0.0</td>\n      <td>65.0</td>\n      <td>GENERAL</td>\n      <td>10th Pass</td>\n      <td>65807822</td>\n      <td>8961387</td>\n      <td>575488</td>\n      <td>2876</td>\n      <td>578364</td>\n      <td>33.176713</td>\n      <td>53.918820</td>\n      <td>1743283</td>\n    </tr>\n    <tr>\n      <th>2247</th>\n      <td>Kerala</td>\n      <td>WAYANAD</td>\n      <td>Rahul Gandhi</td>\n      <td>1</td>\n      <td>INC</td>\n      <td>Hand</td>\n      <td>MALE</td>\n      <td>5.0</td>\n      <td>48.0</td>\n      <td>GENERAL</td>\n      <td>Post Graduate</td>\n      <td>158877063</td>\n      <td>7201904</td>\n      <td>705034</td>\n      <td>1333</td>\n      <td>706367</td>\n      <td>51.951012</td>\n      <td>64.640694</td>\n      <td>1359679</td>\n    </tr>\n    <tr>\n      <th>2250</th>\n      <td>NCT OF Delhi</td>\n      <td>WEST DELHI</td>\n      <td>PARVESH SAHIB SINGH VERMA</td>\n      <td>1</td>\n      <td>BJP</td>\n      <td>Lotus</td>\n      <td>MALE</td>\n      <td>0.0</td>\n      <td>41.0</td>\n      <td>GENERAL</td>\n      <td>Post Graduate</td>\n      <td>155195014</td>\n      <td>40097329</td>\n      <td>862058</td>\n      <td>3590</td>\n      <td>865648</td>\n      <td>36.499913</td>\n      <td>60.010593</td>\n      <td>2371644</td>\n    </tr>\n    <tr>\n      <th>2253</th>\n      <td>Maharashtra</td>\n      <td>YAVATMAL-WASHIM</td>\n      <td>Bhavana Pundlikrao Gawali</td>\n      <td>1</td>\n      <td>SHS</td>\n      <td>Bow and Arrow</td>\n      <td>FEMALE</td>\n      <td>3.0</td>\n      <td>46.0</td>\n      <td>GENERAL</td>\n      <td>Graduate</td>\n      <td>96873189</td>\n      <td>7396250</td>\n      <td>540104</td>\n      <td>1994</td>\n      <td>542098</td>\n      <td>28.290483</td>\n      <td>46.142912</td>\n      <td>1916185</td>\n    </tr>\n    <tr>\n      <th>2259</th>\n      <td>Telangana</td>\n      <td>ZAHIRABAD</td>\n      <td>B.B.PATIL</td>\n      <td>1</td>\n      <td>TRS</td>\n      <td>Car</td>\n      <td>MALE</td>\n      <td>18.0</td>\n      <td>63.0</td>\n      <td>GENERAL</td>\n      <td>Graduate</td>\n      <td>1287851556</td>\n      <td>11535000</td>\n      <td>434066</td>\n      <td>178</td>\n      <td>434244</td>\n      <td>28.975369</td>\n      <td>41.574183</td>\n      <td>1498666</td>\n    </tr>\n  </tbody>\n</table>\n<p>539 rows × 19 columns</p>\n</div>"
          },
          "metadata": {}
        }
      ]
    },
    {
      "cell_type": "code",
      "source": [
        "df2['ASSETS'] = pd.to_numeric(df2['ASSETS'])\n",
        "df2['LIABILITIES'] = pd.to_numeric(df2['LIABILITIES'])\n",
        "df2['NET WORTH'] = df2['ASSETS'] - df2['LIABILITIES']\n",
        "df2"
      ],
      "metadata": {
        "execution": {
          "iopub.status.busy": "2023-08-16T13:37:00.205488Z",
          "iopub.execute_input": "2023-08-16T13:37:00.205950Z",
          "iopub.status.idle": "2023-08-16T13:37:00.244048Z",
          "shell.execute_reply.started": "2023-08-16T13:37:00.205900Z",
          "shell.execute_reply": "2023-08-16T13:37:00.242624Z"
        },
        "trusted": true,
        "id": "IiWz5aoY7eTO",
        "outputId": "54f28bfb-007d-4edf-fa7d-d7820ac0d0a7"
      },
      "execution_count": null,
      "outputs": [
        {
          "name": "stderr",
          "text": "/tmp/ipykernel_32/1951884765.py:1: SettingWithCopyWarning: \nA value is trying to be set on a copy of a slice from a DataFrame.\nTry using .loc[row_indexer,col_indexer] = value instead\n\nSee the caveats in the documentation: https://pandas.pydata.org/pandas-docs/stable/user_guide/indexing.html#returning-a-view-versus-a-copy\n  df2['ASSETS'] = pd.to_numeric(df2['ASSETS'])\n/tmp/ipykernel_32/1951884765.py:2: SettingWithCopyWarning: \nA value is trying to be set on a copy of a slice from a DataFrame.\nTry using .loc[row_indexer,col_indexer] = value instead\n\nSee the caveats in the documentation: https://pandas.pydata.org/pandas-docs/stable/user_guide/indexing.html#returning-a-view-versus-a-copy\n  df2['LIABILITIES'] = pd.to_numeric(df2['LIABILITIES'])\n/tmp/ipykernel_32/1951884765.py:3: SettingWithCopyWarning: \nA value is trying to be set on a copy of a slice from a DataFrame.\nTry using .loc[row_indexer,col_indexer] = value instead\n\nSee the caveats in the documentation: https://pandas.pydata.org/pandas-docs/stable/user_guide/indexing.html#returning-a-view-versus-a-copy\n  df2['NET WORTH'] = df2['ASSETS'] - df2['LIABILITIES']\n",
          "output_type": "stream"
        },
        {
          "execution_count": 36,
          "output_type": "execute_result",
          "data": {
            "text/plain": "              STATE     CONSTITUENCY                               NAME  \\\n0         Telangana         ADILABAD                     SOYAM BAPU RAO   \n4     Uttar Pradesh             AGRA              Satyapal Singh Baghel   \n7       Maharashtra       AHMADNAGAR  Dr. SUJAY RADHAKRISHNA VIKHEPATIL   \n10          Gujarat   AHMEDABAD EAST         Patel Hasmukhbhai Somabhai   \n12          Gujarat   AHMEDABAD WEST               DR. KIRIT P. SOLANKI   \n...             ...              ...                                ...   \n2243    Maharashtra           WARDHA         Ramdas Chandrabhanji Tadas   \n2247         Kerala          WAYANAD                       Rahul Gandhi   \n2250   NCT OF Delhi       WEST DELHI          PARVESH SAHIB SINGH VERMA   \n2253    Maharashtra  YAVATMAL-WASHIM          Bhavana Pundlikrao Gawali   \n2259      Telangana        ZAHIRABAD                          B.B.PATIL   \n\n      WINNER PARTY         SYMBOL  GENDER  CRIMINAL\\nCASES   AGE CATEGORY  \\\n0          1   BJP          Lotus    MALE             52.0  52.0       ST   \n4          1   BJP          Lotus    MALE              5.0  58.0       SC   \n7          1   BJP          Lotus    MALE              0.0  37.0  GENERAL   \n10         1   BJP          Lotus    MALE              0.0  58.0  GENERAL   \n12         1   BJP          Lotus    MALE              0.0  69.0       SC   \n...      ...   ...            ...     ...              ...   ...      ...   \n2243       1   BJP          Lotus    MALE              0.0  65.0  GENERAL   \n2247       1   INC           Hand    MALE              5.0  48.0  GENERAL   \n2250       1   BJP          Lotus    MALE              0.0  41.0  GENERAL   \n2253       1   SHS  Bow and Arrow  FEMALE              3.0  46.0  GENERAL   \n2259       1   TRS            Car    MALE             18.0  63.0  GENERAL   \n\n          EDUCATION      ASSETS  LIABILITIES  GENERAL\\nVOTES  POSTAL\\nVOTES  \\\n0         12th Pass     3099414       231450          376892            482   \n4         Doctorate    74274036      8606522          644459           2416   \n7         Doctorate   168664576      2623964          696961           7699   \n10           Others    74699690      6252577          745810           4024   \n12    Post Graduate    89474039            0          638241           3381   \n...             ...         ...          ...             ...            ...   \n2243      10th Pass    65807822      8961387          575488           2876   \n2247  Post Graduate   158877063      7201904          705034           1333   \n2250  Post Graduate   155195014     40097329          862058           3590   \n2253       Graduate    96873189      7396250          540104           1994   \n2259       Graduate  1287851556     11535000          434066            178   \n\n      TOTAL\\nVOTES  OVER TOTAL ELECTORS \\nIN CONSTITUENCY  \\\n0           377374                              25.330684   \n4           646875                              33.383823   \n7           704660                              37.856533   \n10          749834                              41.384970   \n12          641622                              39.044323   \n...            ...                                    ...   \n2243        578364                              33.176713   \n2247        706367                              51.951012   \n2250        865648                              36.499913   \n2253        542098                              28.290483   \n2259        434244                              28.975369   \n\n      OVER TOTAL VOTES POLLED \\nIN CONSTITUENCY  TOTAL ELECTORS   NET WORTH  \n0                                     35.468248         1489790     2867964  \n4                                     56.464615         1937690    65667514  \n7                                     58.425159         1861396   166040612  \n10                                    67.005462         1811851    68447113  \n12                                    64.211450         1643317    89474039  \n...                                         ...             ...         ...  \n2243                                  53.918820         1743283    56846435  \n2247                                  64.640694         1359679   151675159  \n2250                                  60.010593         2371644   115097685  \n2253                                  46.142912         1916185    89476939  \n2259                                  41.574183         1498666  1276316556  \n\n[539 rows x 20 columns]",
            "text/html": "<div>\n<style scoped>\n    .dataframe tbody tr th:only-of-type {\n        vertical-align: middle;\n    }\n\n    .dataframe tbody tr th {\n        vertical-align: top;\n    }\n\n    .dataframe thead th {\n        text-align: right;\n    }\n</style>\n<table border=\"1\" class=\"dataframe\">\n  <thead>\n    <tr style=\"text-align: right;\">\n      <th></th>\n      <th>STATE</th>\n      <th>CONSTITUENCY</th>\n      <th>NAME</th>\n      <th>WINNER</th>\n      <th>PARTY</th>\n      <th>SYMBOL</th>\n      <th>GENDER</th>\n      <th>CRIMINAL\\nCASES</th>\n      <th>AGE</th>\n      <th>CATEGORY</th>\n      <th>EDUCATION</th>\n      <th>ASSETS</th>\n      <th>LIABILITIES</th>\n      <th>GENERAL\\nVOTES</th>\n      <th>POSTAL\\nVOTES</th>\n      <th>TOTAL\\nVOTES</th>\n      <th>OVER TOTAL ELECTORS \\nIN CONSTITUENCY</th>\n      <th>OVER TOTAL VOTES POLLED \\nIN CONSTITUENCY</th>\n      <th>TOTAL ELECTORS</th>\n      <th>NET WORTH</th>\n    </tr>\n  </thead>\n  <tbody>\n    <tr>\n      <th>0</th>\n      <td>Telangana</td>\n      <td>ADILABAD</td>\n      <td>SOYAM BAPU RAO</td>\n      <td>1</td>\n      <td>BJP</td>\n      <td>Lotus</td>\n      <td>MALE</td>\n      <td>52.0</td>\n      <td>52.0</td>\n      <td>ST</td>\n      <td>12th Pass</td>\n      <td>3099414</td>\n      <td>231450</td>\n      <td>376892</td>\n      <td>482</td>\n      <td>377374</td>\n      <td>25.330684</td>\n      <td>35.468248</td>\n      <td>1489790</td>\n      <td>2867964</td>\n    </tr>\n    <tr>\n      <th>4</th>\n      <td>Uttar Pradesh</td>\n      <td>AGRA</td>\n      <td>Satyapal Singh Baghel</td>\n      <td>1</td>\n      <td>BJP</td>\n      <td>Lotus</td>\n      <td>MALE</td>\n      <td>5.0</td>\n      <td>58.0</td>\n      <td>SC</td>\n      <td>Doctorate</td>\n      <td>74274036</td>\n      <td>8606522</td>\n      <td>644459</td>\n      <td>2416</td>\n      <td>646875</td>\n      <td>33.383823</td>\n      <td>56.464615</td>\n      <td>1937690</td>\n      <td>65667514</td>\n    </tr>\n    <tr>\n      <th>7</th>\n      <td>Maharashtra</td>\n      <td>AHMADNAGAR</td>\n      <td>Dr. SUJAY RADHAKRISHNA VIKHEPATIL</td>\n      <td>1</td>\n      <td>BJP</td>\n      <td>Lotus</td>\n      <td>MALE</td>\n      <td>0.0</td>\n      <td>37.0</td>\n      <td>GENERAL</td>\n      <td>Doctorate</td>\n      <td>168664576</td>\n      <td>2623964</td>\n      <td>696961</td>\n      <td>7699</td>\n      <td>704660</td>\n      <td>37.856533</td>\n      <td>58.425159</td>\n      <td>1861396</td>\n      <td>166040612</td>\n    </tr>\n    <tr>\n      <th>10</th>\n      <td>Gujarat</td>\n      <td>AHMEDABAD EAST</td>\n      <td>Patel Hasmukhbhai Somabhai</td>\n      <td>1</td>\n      <td>BJP</td>\n      <td>Lotus</td>\n      <td>MALE</td>\n      <td>0.0</td>\n      <td>58.0</td>\n      <td>GENERAL</td>\n      <td>Others</td>\n      <td>74699690</td>\n      <td>6252577</td>\n      <td>745810</td>\n      <td>4024</td>\n      <td>749834</td>\n      <td>41.384970</td>\n      <td>67.005462</td>\n      <td>1811851</td>\n      <td>68447113</td>\n    </tr>\n    <tr>\n      <th>12</th>\n      <td>Gujarat</td>\n      <td>AHMEDABAD WEST</td>\n      <td>DR. KIRIT P. SOLANKI</td>\n      <td>1</td>\n      <td>BJP</td>\n      <td>Lotus</td>\n      <td>MALE</td>\n      <td>0.0</td>\n      <td>69.0</td>\n      <td>SC</td>\n      <td>Post Graduate</td>\n      <td>89474039</td>\n      <td>0</td>\n      <td>638241</td>\n      <td>3381</td>\n      <td>641622</td>\n      <td>39.044323</td>\n      <td>64.211450</td>\n      <td>1643317</td>\n      <td>89474039</td>\n    </tr>\n    <tr>\n      <th>...</th>\n      <td>...</td>\n      <td>...</td>\n      <td>...</td>\n      <td>...</td>\n      <td>...</td>\n      <td>...</td>\n      <td>...</td>\n      <td>...</td>\n      <td>...</td>\n      <td>...</td>\n      <td>...</td>\n      <td>...</td>\n      <td>...</td>\n      <td>...</td>\n      <td>...</td>\n      <td>...</td>\n      <td>...</td>\n      <td>...</td>\n      <td>...</td>\n      <td>...</td>\n    </tr>\n    <tr>\n      <th>2243</th>\n      <td>Maharashtra</td>\n      <td>WARDHA</td>\n      <td>Ramdas Chandrabhanji Tadas</td>\n      <td>1</td>\n      <td>BJP</td>\n      <td>Lotus</td>\n      <td>MALE</td>\n      <td>0.0</td>\n      <td>65.0</td>\n      <td>GENERAL</td>\n      <td>10th Pass</td>\n      <td>65807822</td>\n      <td>8961387</td>\n      <td>575488</td>\n      <td>2876</td>\n      <td>578364</td>\n      <td>33.176713</td>\n      <td>53.918820</td>\n      <td>1743283</td>\n      <td>56846435</td>\n    </tr>\n    <tr>\n      <th>2247</th>\n      <td>Kerala</td>\n      <td>WAYANAD</td>\n      <td>Rahul Gandhi</td>\n      <td>1</td>\n      <td>INC</td>\n      <td>Hand</td>\n      <td>MALE</td>\n      <td>5.0</td>\n      <td>48.0</td>\n      <td>GENERAL</td>\n      <td>Post Graduate</td>\n      <td>158877063</td>\n      <td>7201904</td>\n      <td>705034</td>\n      <td>1333</td>\n      <td>706367</td>\n      <td>51.951012</td>\n      <td>64.640694</td>\n      <td>1359679</td>\n      <td>151675159</td>\n    </tr>\n    <tr>\n      <th>2250</th>\n      <td>NCT OF Delhi</td>\n      <td>WEST DELHI</td>\n      <td>PARVESH SAHIB SINGH VERMA</td>\n      <td>1</td>\n      <td>BJP</td>\n      <td>Lotus</td>\n      <td>MALE</td>\n      <td>0.0</td>\n      <td>41.0</td>\n      <td>GENERAL</td>\n      <td>Post Graduate</td>\n      <td>155195014</td>\n      <td>40097329</td>\n      <td>862058</td>\n      <td>3590</td>\n      <td>865648</td>\n      <td>36.499913</td>\n      <td>60.010593</td>\n      <td>2371644</td>\n      <td>115097685</td>\n    </tr>\n    <tr>\n      <th>2253</th>\n      <td>Maharashtra</td>\n      <td>YAVATMAL-WASHIM</td>\n      <td>Bhavana Pundlikrao Gawali</td>\n      <td>1</td>\n      <td>SHS</td>\n      <td>Bow and Arrow</td>\n      <td>FEMALE</td>\n      <td>3.0</td>\n      <td>46.0</td>\n      <td>GENERAL</td>\n      <td>Graduate</td>\n      <td>96873189</td>\n      <td>7396250</td>\n      <td>540104</td>\n      <td>1994</td>\n      <td>542098</td>\n      <td>28.290483</td>\n      <td>46.142912</td>\n      <td>1916185</td>\n      <td>89476939</td>\n    </tr>\n    <tr>\n      <th>2259</th>\n      <td>Telangana</td>\n      <td>ZAHIRABAD</td>\n      <td>B.B.PATIL</td>\n      <td>1</td>\n      <td>TRS</td>\n      <td>Car</td>\n      <td>MALE</td>\n      <td>18.0</td>\n      <td>63.0</td>\n      <td>GENERAL</td>\n      <td>Graduate</td>\n      <td>1287851556</td>\n      <td>11535000</td>\n      <td>434066</td>\n      <td>178</td>\n      <td>434244</td>\n      <td>28.975369</td>\n      <td>41.574183</td>\n      <td>1498666</td>\n      <td>1276316556</td>\n    </tr>\n  </tbody>\n</table>\n<p>539 rows × 20 columns</p>\n</div>"
          },
          "metadata": {}
        }
      ]
    },
    {
      "cell_type": "code",
      "source": [
        "df2.columns"
      ],
      "metadata": {
        "execution": {
          "iopub.status.busy": "2023-08-16T13:37:00.245648Z",
          "iopub.execute_input": "2023-08-16T13:37:00.246152Z",
          "iopub.status.idle": "2023-08-16T13:37:00.258479Z",
          "shell.execute_reply.started": "2023-08-16T13:37:00.246088Z",
          "shell.execute_reply": "2023-08-16T13:37:00.257127Z"
        },
        "trusted": true,
        "id": "Bc2kWUtx7eTO",
        "outputId": "a5f5df6f-7b8e-43d7-cbdd-d50acd33f7ca"
      },
      "execution_count": null,
      "outputs": [
        {
          "execution_count": 37,
          "output_type": "execute_result",
          "data": {
            "text/plain": "Index(['STATE', 'CONSTITUENCY', 'NAME', 'WINNER', 'PARTY', 'SYMBOL', 'GENDER',\n       'CRIMINAL\\nCASES', 'AGE', 'CATEGORY', 'EDUCATION', 'ASSETS',\n       'LIABILITIES', 'GENERAL\\nVOTES', 'POSTAL\\nVOTES', 'TOTAL\\nVOTES',\n       'OVER TOTAL ELECTORS \\nIN CONSTITUENCY',\n       'OVER TOTAL VOTES POLLED \\nIN CONSTITUENCY', 'TOTAL ELECTORS',\n       'NET WORTH'],\n      dtype='object')"
          },
          "metadata": {}
        }
      ]
    },
    {
      "cell_type": "code",
      "source": [
        "df2.describe()"
      ],
      "metadata": {
        "execution": {
          "iopub.status.busy": "2023-08-16T13:37:00.260339Z",
          "iopub.execute_input": "2023-08-16T13:37:00.260791Z",
          "iopub.status.idle": "2023-08-16T13:37:00.324652Z",
          "shell.execute_reply.started": "2023-08-16T13:37:00.260745Z",
          "shell.execute_reply": "2023-08-16T13:37:00.323552Z"
        },
        "trusted": true,
        "id": "0Cu9qEMm7eTO",
        "outputId": "ff569cb5-ae52-491d-f298-93d370ec27bd"
      },
      "execution_count": null,
      "outputs": [
        {
          "execution_count": 38,
          "output_type": "execute_result",
          "data": {
            "text/plain": "       WINNER  CRIMINAL\\nCASES         AGE        ASSETS   LIABILITIES  \\\ncount   539.0       539.000000  539.000000  5.390000e+02  5.390000e+02   \nmean      1.0         1.909091   54.441558  2.091357e+08  3.595362e+07   \nstd       0.0         9.505677   11.049644  5.269292e+08  1.422345e+08   \nmin       1.0         0.000000   26.000000  1.411790e+05  0.000000e+00   \n25%       1.0         0.000000   47.000000  1.880511e+07  1.618335e+05   \n50%       1.0         0.000000   55.000000  4.834774e+07  2.431407e+06   \n75%       1.0         2.000000   63.000000  1.549891e+08  1.173540e+07   \nmax       1.0       204.000000   86.000000  6.601947e+09  1.547511e+09   \n\n       GENERAL\\nVOTES  POSTAL\\nVOTES  TOTAL\\nVOTES  \\\ncount    5.390000e+02     539.000000  5.390000e+02   \nmean     5.924608e+05    2481.823748  5.949427e+05   \nstd      1.506692e+05    2352.574813  1.511892e+05   \nmin      2.279600e+04      11.000000  2.285100e+04   \n25%      5.085510e+05     981.500000  5.104630e+05   \n50%      5.839880e+05    1849.000000  5.867830e+05   \n75%      6.860705e+05    3186.500000  6.885505e+05   \nmax      1.066824e+06   19367.000000  1.068569e+06   \n\n       OVER TOTAL ELECTORS \\nIN CONSTITUENCY  \\\ncount                             539.000000   \nmean                               35.582162   \nstd                                 6.884161   \nmin                                 1.937709   \n25%                                30.911865   \n50%                                35.296051   \n75%                                40.136859   \nmax                                51.951012   \n\n       OVER TOTAL VOTES POLLED \\nIN CONSTITUENCY  TOTAL ELECTORS     NET WORTH  \ncount                                 539.000000    5.390000e+02  5.390000e+02  \nmean                                   52.391168    1.679446e+06  1.731820e+08  \nstd                                     8.008977    3.177573e+05  4.515846e+08  \nmin                                     3.610168    5.518900e+04 -2.935584e+08  \n25%                                    47.232225    1.555322e+06  1.637469e+07  \n50%                                    52.270119    1.699678e+06  4.186340e+07  \n75%                                    57.188200    1.839413e+06  1.375289e+08  \nmax                                    74.411856    3.150313e+06  6.593155e+09  ",
            "text/html": "<div>\n<style scoped>\n    .dataframe tbody tr th:only-of-type {\n        vertical-align: middle;\n    }\n\n    .dataframe tbody tr th {\n        vertical-align: top;\n    }\n\n    .dataframe thead th {\n        text-align: right;\n    }\n</style>\n<table border=\"1\" class=\"dataframe\">\n  <thead>\n    <tr style=\"text-align: right;\">\n      <th></th>\n      <th>WINNER</th>\n      <th>CRIMINAL\\nCASES</th>\n      <th>AGE</th>\n      <th>ASSETS</th>\n      <th>LIABILITIES</th>\n      <th>GENERAL\\nVOTES</th>\n      <th>POSTAL\\nVOTES</th>\n      <th>TOTAL\\nVOTES</th>\n      <th>OVER TOTAL ELECTORS \\nIN CONSTITUENCY</th>\n      <th>OVER TOTAL VOTES POLLED \\nIN CONSTITUENCY</th>\n      <th>TOTAL ELECTORS</th>\n      <th>NET WORTH</th>\n    </tr>\n  </thead>\n  <tbody>\n    <tr>\n      <th>count</th>\n      <td>539.0</td>\n      <td>539.000000</td>\n      <td>539.000000</td>\n      <td>5.390000e+02</td>\n      <td>5.390000e+02</td>\n      <td>5.390000e+02</td>\n      <td>539.000000</td>\n      <td>5.390000e+02</td>\n      <td>539.000000</td>\n      <td>539.000000</td>\n      <td>5.390000e+02</td>\n      <td>5.390000e+02</td>\n    </tr>\n    <tr>\n      <th>mean</th>\n      <td>1.0</td>\n      <td>1.909091</td>\n      <td>54.441558</td>\n      <td>2.091357e+08</td>\n      <td>3.595362e+07</td>\n      <td>5.924608e+05</td>\n      <td>2481.823748</td>\n      <td>5.949427e+05</td>\n      <td>35.582162</td>\n      <td>52.391168</td>\n      <td>1.679446e+06</td>\n      <td>1.731820e+08</td>\n    </tr>\n    <tr>\n      <th>std</th>\n      <td>0.0</td>\n      <td>9.505677</td>\n      <td>11.049644</td>\n      <td>5.269292e+08</td>\n      <td>1.422345e+08</td>\n      <td>1.506692e+05</td>\n      <td>2352.574813</td>\n      <td>1.511892e+05</td>\n      <td>6.884161</td>\n      <td>8.008977</td>\n      <td>3.177573e+05</td>\n      <td>4.515846e+08</td>\n    </tr>\n    <tr>\n      <th>min</th>\n      <td>1.0</td>\n      <td>0.000000</td>\n      <td>26.000000</td>\n      <td>1.411790e+05</td>\n      <td>0.000000e+00</td>\n      <td>2.279600e+04</td>\n      <td>11.000000</td>\n      <td>2.285100e+04</td>\n      <td>1.937709</td>\n      <td>3.610168</td>\n      <td>5.518900e+04</td>\n      <td>-2.935584e+08</td>\n    </tr>\n    <tr>\n      <th>25%</th>\n      <td>1.0</td>\n      <td>0.000000</td>\n      <td>47.000000</td>\n      <td>1.880511e+07</td>\n      <td>1.618335e+05</td>\n      <td>5.085510e+05</td>\n      <td>981.500000</td>\n      <td>5.104630e+05</td>\n      <td>30.911865</td>\n      <td>47.232225</td>\n      <td>1.555322e+06</td>\n      <td>1.637469e+07</td>\n    </tr>\n    <tr>\n      <th>50%</th>\n      <td>1.0</td>\n      <td>0.000000</td>\n      <td>55.000000</td>\n      <td>4.834774e+07</td>\n      <td>2.431407e+06</td>\n      <td>5.839880e+05</td>\n      <td>1849.000000</td>\n      <td>5.867830e+05</td>\n      <td>35.296051</td>\n      <td>52.270119</td>\n      <td>1.699678e+06</td>\n      <td>4.186340e+07</td>\n    </tr>\n    <tr>\n      <th>75%</th>\n      <td>1.0</td>\n      <td>2.000000</td>\n      <td>63.000000</td>\n      <td>1.549891e+08</td>\n      <td>1.173540e+07</td>\n      <td>6.860705e+05</td>\n      <td>3186.500000</td>\n      <td>6.885505e+05</td>\n      <td>40.136859</td>\n      <td>57.188200</td>\n      <td>1.839413e+06</td>\n      <td>1.375289e+08</td>\n    </tr>\n    <tr>\n      <th>max</th>\n      <td>1.0</td>\n      <td>204.000000</td>\n      <td>86.000000</td>\n      <td>6.601947e+09</td>\n      <td>1.547511e+09</td>\n      <td>1.066824e+06</td>\n      <td>19367.000000</td>\n      <td>1.068569e+06</td>\n      <td>51.951012</td>\n      <td>74.411856</td>\n      <td>3.150313e+06</td>\n      <td>6.593155e+09</td>\n    </tr>\n  </tbody>\n</table>\n</div>"
          },
          "metadata": {}
        }
      ]
    },
    {
      "cell_type": "code",
      "source": [
        "import matplotlib.pyplot as plt\n",
        "plt.figure(figsize=(10, 6))\n",
        "plt.subplot(2, 2, 1)\n",
        "df2['ASSETS'].plot(kind='hist', bins=20, edgecolor='black')\n",
        "plt.title('Distribution of Assets')\n",
        "\n",
        "plt.subplot(2, 2, 2)\n",
        "df2['LIABILITIES'].plot(kind='hist', bins=20, edgecolor='black')\n",
        "plt.title('Distribution of Liabilities')\n",
        "\n",
        "plt.subplot(2, 2, 3)\n",
        "df2['NET WORTH'].plot(kind='hist', bins=20, edgecolor='black')\n",
        "plt.title('Distribution of Net Worth')\n",
        "\n",
        "# Box Plots\n",
        "plt.subplot(2, 2, 4)\n",
        "df2.boxplot(column=['ASSETS', 'LIABILITIES', 'NET WORTH'])\n",
        "plt.title('Box Plot of Assets, Liabilities, and Net Worth')\n",
        "\n",
        "plt.tight_layout()\n",
        "plt.show()\n",
        "\n"
      ],
      "metadata": {
        "execution": {
          "iopub.status.busy": "2023-08-16T13:37:00.326285Z",
          "iopub.execute_input": "2023-08-16T13:37:00.326621Z",
          "iopub.status.idle": "2023-08-16T13:37:01.944223Z",
          "shell.execute_reply.started": "2023-08-16T13:37:00.326591Z",
          "shell.execute_reply": "2023-08-16T13:37:01.942531Z"
        },
        "trusted": true,
        "id": "nRO30yQ-7eTP",
        "outputId": "7c3bd139-81fe-4645-efc8-a6014c7adeb6"
      },
      "execution_count": null,
      "outputs": [
        {
          "output_type": "display_data",
          "data": {
            "text/plain": "<Figure size 1000x600 with 4 Axes>",
            "image/png": "[encoded data removed]"
          },
          "metadata": {}
        }
      ]
    },
    {
      "cell_type": "code",
      "source": [
        "plt.figure(figsize=(10, 6))\n",
        "plt.scatter(df2['ASSETS'], df2['LIABILITIES'], c='blue', label='Liabilities vs Assets')\n",
        "plt.scatter(df2['ASSETS'], df2['NET WORTH'], c='red', label='Net Worth vs Assets')\n",
        "plt.xlabel('ASSETS')\n",
        "plt.ylabel('Values')\n",
        "plt.title('Scatter Plot of Assets, Liabilities, and Net Worth')\n",
        "plt.legend()\n",
        "plt.show()"
      ],
      "metadata": {
        "execution": {
          "iopub.status.busy": "2023-08-16T13:37:01.946555Z",
          "iopub.execute_input": "2023-08-16T13:37:01.947312Z",
          "iopub.status.idle": "2023-08-16T13:37:02.362137Z",
          "shell.execute_reply.started": "2023-08-16T13:37:01.947278Z",
          "shell.execute_reply": "2023-08-16T13:37:02.360983Z"
        },
        "trusted": true,
        "id": "JOh-qey17eTP",
        "outputId": "e79bff6d-9ae1-4e48-a09b-0e8b29b181ec"
      },
      "execution_count": null,
      "outputs": [
        {
          "output_type": "display_data",
          "data": {
            "text/plain": "<Figure size 1000x600 with 1 Axes>",
            "image/png": "[encoded data removed]"
          },
          "metadata": {}
        }
      ]
    },
    {
      "cell_type": "code",
      "source": [
        "df.columns"
      ],
      "metadata": {
        "execution": {
          "iopub.status.busy": "2023-08-16T13:37:02.363724Z",
          "iopub.execute_input": "2023-08-16T13:37:02.364903Z",
          "iopub.status.idle": "2023-08-16T13:37:02.374184Z",
          "shell.execute_reply.started": "2023-08-16T13:37:02.364828Z",
          "shell.execute_reply": "2023-08-16T13:37:02.372375Z"
        },
        "trusted": true,
        "id": "cenlWd8z7eTP",
        "outputId": "4a74a89b-b23c-4834-cebc-081376e2a819"
      },
      "execution_count": null,
      "outputs": [
        {
          "execution_count": 41,
          "output_type": "execute_result",
          "data": {
            "text/plain": "Index(['STATE', 'CONSTITUENCY', 'NAME', 'WINNER', 'PARTY', 'SYMBOL', 'GENDER',\n       'CRIMINAL\\nCASES', 'AGE', 'CATEGORY', 'EDUCATION', 'ASSETS',\n       'LIABILITIES', 'GENERAL\\nVOTES', 'POSTAL\\nVOTES', 'TOTAL\\nVOTES',\n       'OVER TOTAL ELECTORS \\nIN CONSTITUENCY',\n       'OVER TOTAL VOTES POLLED \\nIN CONSTITUENCY', 'TOTAL ELECTORS'],\n      dtype='object')"
          },
          "metadata": {}
        }
      ]
    },
    {
      "cell_type": "markdown",
      "source": [],
      "metadata": {
        "id": "y2FEU7GM7eTP"
      }
    },
    {
      "cell_type": "code",
      "source": [
        "\n",
        "# Identify the winner and runner-up in each constituency\n",
        "df['Rank'] = df.groupby('CONSTITUENCY')['OVER TOTAL VOTES POLLED \\nIN CONSTITUENCY'].rank(ascending=False)\n",
        "\n",
        "# Filter data to get the winner and runner-up\n",
        "winners = df[df['Rank'] == 1]\n",
        "runners_up = df[df['Rank'] == 2]\n",
        "\n",
        "# Merge winner and runner-up data based on 'Constituency'\n",
        "result = pd.merge(winners, runners_up, on='CONSTITUENCY', suffixes=('_Winner', '_RunnerUp'))\n",
        "\n",
        "# Calculate the difference in percentage between winner and runner-up\n",
        "result['Percentage_Difference'] = abs(result['OVER TOTAL VOTES POLLED \\nIN CONSTITUENCY_Winner'] - result['OVER TOTAL VOTES POLLED \\nIN CONSTITUENCY_RunnerUp'])\n",
        "\n",
        "# Check if the conditions for closest and one-sided victories are met\n",
        "result['Closest_Victory'] = result['Percentage_Difference'] <= 0.2\n",
        "result['One_Sided_Victory'] = (result['OVER TOTAL VOTES POLLED \\nIN CONSTITUENCY_Winner'] >= 50) | (result['OVER TOTAL VOTES POLLED \\nIN CONSTITUENCY_RunnerUp'] >= 50)\n",
        "\n",
        "print(result)"
      ],
      "metadata": {
        "execution": {
          "iopub.status.busy": "2023-08-16T13:37:02.375820Z",
          "iopub.execute_input": "2023-08-16T13:37:02.376582Z",
          "iopub.status.idle": "2023-08-16T13:37:02.429180Z",
          "shell.execute_reply.started": "2023-08-16T13:37:02.376540Z",
          "shell.execute_reply": "2023-08-16T13:37:02.428032Z"
        },
        "trusted": true,
        "id": "i5z1POKR7eTP",
        "outputId": "3fc92aa4-7150-430d-ddce-065c160f4876"
      },
      "execution_count": null,
      "outputs": [
        {
          "name": "stdout",
          "text": "      STATE_Winner     CONSTITUENCY                        NAME_Winner  \\\n0        Telangana         ADILABAD                     SOYAM BAPU RAO   \n1    Uttar Pradesh             AGRA              Satyapal Singh Baghel   \n2      Maharashtra       AHMADNAGAR  Dr. SUJAY RADHAKRISHNA VIKHEPATIL   \n3          Gujarat   AHMEDABAD EAST         Patel Hasmukhbhai Somabhai   \n4          Gujarat   AHMEDABAD WEST               DR. KIRIT P. SOLANKI   \n..             ...              ...                                ...   \n534    Maharashtra           WARDHA         Ramdas Chandrabhanji Tadas   \n535         Kerala          WAYANAD                       Rahul Gandhi   \n536   NCT OF Delhi       WEST DELHI          PARVESH SAHIB SINGH VERMA   \n537    Maharashtra  YAVATMAL-WASHIM          Bhavana Pundlikrao Gawali   \n538      Telangana        ZAHIRABAD                          B.B.PATIL   \n\n     WINNER_Winner PARTY_Winner  SYMBOL_Winner GENDER_Winner  \\\n0                1          BJP          Lotus          MALE   \n1                1          BJP          Lotus          MALE   \n2                1          BJP          Lotus          MALE   \n3                1          BJP          Lotus          MALE   \n4                1          BJP          Lotus          MALE   \n..             ...          ...            ...           ...   \n534              1          BJP          Lotus          MALE   \n535              1          INC           Hand          MALE   \n536              1          BJP          Lotus          MALE   \n537              1          SHS  Bow and Arrow        FEMALE   \n538              1          TRS            Car          MALE   \n\n     CRIMINAL\\nCASES_Winner  AGE_Winner CATEGORY_Winner  ...  \\\n0                      52.0        52.0              ST  ...   \n1                       5.0        58.0              SC  ...   \n2                       0.0        37.0         GENERAL  ...   \n3                       0.0        58.0         GENERAL  ...   \n4                       0.0        69.0              SC  ...   \n..                      ...         ...             ...  ...   \n534                     0.0        65.0         GENERAL  ...   \n535                     5.0        48.0         GENERAL  ...   \n536                     0.0        41.0         GENERAL  ...   \n537                     3.0        46.0         GENERAL  ...   \n538                    18.0        63.0         GENERAL  ...   \n\n    GENERAL\\nVOTES_RunnerUp POSTAL\\nVOTES_RunnerUp TOTAL\\nVOTES_RunnerUp  \\\n0                    318665                    149                318814   \n1                    434199                   1130                435329   \n2                    419364                   3822                423186   \n3                    312883                   2621                315504   \n4                    317797                   2279                320076   \n..                      ...                    ...                   ...   \n534                  389243                   1930                391173   \n535                  273971                    626                274597   \n536                  286745                    417                287162   \n537                  422497                   1662                424159   \n538                  427900                    115                428015   \n\n     OVER TOTAL ELECTORS \\nIN CONSTITUENCY_RunnerUp  \\\n0                                         21.399929   \n1                                         22.466390   \n2                                         22.734872   \n3                                         17.413352   \n4                                         19.477435   \n..                                              ...   \n534                                       22.438870   \n535                                       20.195723   \n536                                       12.108141   \n537                                       22.135598   \n538                                       28.559732   \n\n     OVER TOTAL VOTES POLLED \\nIN CONSTITUENCY_RunnerUp  \\\n0                                            29.964370    \n1                                            37.999125    \n2                                            35.087431    \n3                                            28.193562    \n4                                            32.032169    \n..                                                 ...    \n534                                          36.467669    \n535                                          25.128780    \n536                                          19.907355    \n537                                          36.104046    \n538                                          40.977823    \n\n     TOTAL ELECTORS_RunnerUp  Rank_RunnerUp  Percentage_Difference  \\\n0                    1489790            2.0               5.503878   \n1                    1937690            2.0              18.465489   \n2                    1861396            2.0              23.337728   \n3                    1811851            2.0              38.811900   \n4                    1643317            2.0              32.179282   \n..                       ...            ...                    ...   \n534                  1743283            2.0              17.451152   \n535                  1359679            2.0              39.511914   \n536                  2371644            2.0              40.103238   \n537                  1916185            2.0              10.038865   \n538                  1498666            2.0               0.596360   \n\n     Closest_Victory  One_Sided_Victory  \n0              False              False  \n1              False               True  \n2              False               True  \n3              False               True  \n4              False               True  \n..               ...                ...  \n534            False               True  \n535            False               True  \n536            False               True  \n537            False              False  \n538            False              False  \n\n[539 rows x 42 columns]\n",
          "output_type": "stream"
        }
      ]
    },
    {
      "cell_type": "code",
      "source": [
        "result.columns"
      ],
      "metadata": {
        "execution": {
          "iopub.status.busy": "2023-08-16T13:37:02.430753Z",
          "iopub.execute_input": "2023-08-16T13:37:02.431451Z",
          "iopub.status.idle": "2023-08-16T13:37:02.439937Z",
          "shell.execute_reply.started": "2023-08-16T13:37:02.431408Z",
          "shell.execute_reply": "2023-08-16T13:37:02.438611Z"
        },
        "trusted": true,
        "id": "VIC_qpWM7eTQ",
        "outputId": "f6d58bbd-ba24-4b7f-c085-f0f491eab594"
      },
      "execution_count": null,
      "outputs": [
        {
          "execution_count": 43,
          "output_type": "execute_result",
          "data": {
            "text/plain": "Index(['STATE_Winner', 'CONSTITUENCY', 'NAME_Winner', 'WINNER_Winner',\n       'PARTY_Winner', 'SYMBOL_Winner', 'GENDER_Winner',\n       'CRIMINAL\\nCASES_Winner', 'AGE_Winner', 'CATEGORY_Winner',\n       'EDUCATION_Winner', 'ASSETS_Winner', 'LIABILITIES_Winner',\n       'GENERAL\\nVOTES_Winner', 'POSTAL\\nVOTES_Winner', 'TOTAL\\nVOTES_Winner',\n       'OVER TOTAL ELECTORS \\nIN CONSTITUENCY_Winner',\n       'OVER TOTAL VOTES POLLED \\nIN CONSTITUENCY_Winner',\n       'TOTAL ELECTORS_Winner', 'Rank_Winner', 'STATE_RunnerUp',\n       'NAME_RunnerUp', 'WINNER_RunnerUp', 'PARTY_RunnerUp', 'SYMBOL_RunnerUp',\n       'GENDER_RunnerUp', 'CRIMINAL\\nCASES_RunnerUp', 'AGE_RunnerUp',\n       'CATEGORY_RunnerUp', 'EDUCATION_RunnerUp', 'ASSETS_RunnerUp',\n       'LIABILITIES_RunnerUp', 'GENERAL\\nVOTES_RunnerUp',\n       'POSTAL\\nVOTES_RunnerUp', 'TOTAL\\nVOTES_RunnerUp',\n       'OVER TOTAL ELECTORS \\nIN CONSTITUENCY_RunnerUp',\n       'OVER TOTAL VOTES POLLED \\nIN CONSTITUENCY_RunnerUp',\n       'TOTAL ELECTORS_RunnerUp', 'Rank_RunnerUp', 'Percentage_Difference',\n       'Closest_Victory', 'One_Sided_Victory'],\n      dtype='object')"
          },
          "metadata": {}
        }
      ]
    },
    {
      "cell_type": "code",
      "source": [
        "df.columns"
      ],
      "metadata": {
        "execution": {
          "iopub.status.busy": "2023-08-16T13:37:02.441885Z",
          "iopub.execute_input": "2023-08-16T13:37:02.442309Z",
          "iopub.status.idle": "2023-08-16T13:37:02.454800Z",
          "shell.execute_reply.started": "2023-08-16T13:37:02.442278Z",
          "shell.execute_reply": "2023-08-16T13:37:02.453965Z"
        },
        "trusted": true,
        "id": "7ZSi_H0b7eTQ",
        "outputId": "436146b0-75e1-4607-b345-7a17e30e72c8"
      },
      "execution_count": null,
      "outputs": [
        {
          "execution_count": 44,
          "output_type": "execute_result",
          "data": {
            "text/plain": "Index(['STATE', 'CONSTITUENCY', 'NAME', 'WINNER', 'PARTY', 'SYMBOL', 'GENDER',\n       'CRIMINAL\\nCASES', 'AGE', 'CATEGORY', 'EDUCATION', 'ASSETS',\n       'LIABILITIES', 'GENERAL\\nVOTES', 'POSTAL\\nVOTES', 'TOTAL\\nVOTES',\n       'OVER TOTAL ELECTORS \\nIN CONSTITUENCY',\n       'OVER TOTAL VOTES POLLED \\nIN CONSTITUENCY', 'TOTAL ELECTORS', 'Rank'],\n      dtype='object')"
          },
          "metadata": {}
        }
      ]
    },
    {
      "cell_type": "code",
      "source": [
        "##Q 4 :- Which 10 constituencies saw the Most One-sided and the Closest victories respectively?\n",
        "\n",
        "df['Rank'] = df.groupby('CONSTITUENCY')['OVER TOTAL ELECTORS \\nIN CONSTITUENCY'].rank(ascending=False)\n",
        "\n",
        "# Filter data to get the winner and runner-up\n",
        "winners = df[df['Rank'] == 1]\n",
        "runners_up = df[df['Rank'] == 2]\n",
        "\n",
        "# Merge winner and runner-up data based on 'Constituency'\n",
        "result = pd.merge(winners, runners_up, on='CONSTITUENCY', suffixes=('_Winner', '_RunnerUp'))\n",
        "\n",
        "# Calculate the difference in percentage between winner and runner-up\n",
        "result['Percentage_Difference'] = abs(result['OVER TOTAL ELECTORS \\nIN CONSTITUENCY_Winner'] - result['OVER TOTAL ELECTORS \\nIN CONSTITUENCY_RunnerUp'])\n",
        "\n",
        "# Check if the conditions for closest and one-sided victories are met\n",
        "result['Closest_Victory'] = result['Percentage_Difference'] <= 0.2\n",
        "result['One_Sided_Victory'] = (result['OVER TOTAL ELECTORS \\nIN CONSTITUENCY_Winner'] >= 50) | (result['OVER TOTAL ELECTORS \\nIN CONSTITUENCY_RunnerUp'] >= 50)\n",
        "\n",
        "# Create separate DataFrames for each type of victory\n",
        "closest_victories = result[result['Closest_Victory'] == True]\n",
        "One_Sided_Victories= result[result['One_Sided_Victory'] == True]\n",
        "\n",
        "print(\"Closest Victories:\")\n",
        "print(closest_victories[['CONSTITUENCY', 'Percentage_Difference', 'Closest_Victory']])\n",
        "\n",
        "print(\"One Sided Victories:\")\n",
        "print(One_Sided_Victories[['CONSTITUENCY', 'Percentage_Difference', 'One_Sided_Victory']])"
      ],
      "metadata": {
        "execution": {
          "iopub.status.busy": "2023-08-16T13:37:02.456919Z",
          "iopub.execute_input": "2023-08-16T13:37:02.457848Z",
          "iopub.status.idle": "2023-08-16T13:37:02.491984Z",
          "shell.execute_reply.started": "2023-08-16T13:37:02.457804Z",
          "shell.execute_reply": "2023-08-16T13:37:02.490811Z"
        },
        "trusted": true,
        "id": "_VWfoJNg7eTQ",
        "outputId": "406c823f-4421-4413-9645-6c2733effa06"
      },
      "execution_count": null,
      "outputs": [
        {
          "name": "stdout",
          "text": "Closest Victories:\n           CONSTITUENCY  Percentage_Difference  Closest_Victory\n31             ARAMBAGH               0.064713             True\n69   BARDHAMAN DURGAPUR               0.140692             True\n114      CHAMARAJANAGAR               0.107749             True\n224           JAHANABAD               0.110233             True\n287              KHUNTI               0.120150             True\n315        MACHHLISHAHR               0.009793             True\nOne Sided Victories:\n       CONSTITUENCY  Percentage_Difference  One_Sided_Victory\n157       DIBRUGARH              27.738015               True\n202        HAMIRPUR              17.233307               True\n214     HOSHANGABAD              32.452300               True\n261          KANGRA              33.462502               True\n273           KARUR              30.314297               True\n331           MANDI              31.640345               True\n520  UTTARA KANNADA              30.813909               True\n535         WAYANAD              31.755289               True\n",
          "output_type": "stream"
        }
      ]
    },
    {
      "cell_type": "code",
      "source": [
        "statedf=df[df[\"WINNER\"]==1]\n",
        "statedf"
      ],
      "metadata": {
        "execution": {
          "iopub.status.busy": "2023-08-16T13:37:02.493320Z",
          "iopub.execute_input": "2023-08-16T13:37:02.494565Z",
          "iopub.status.idle": "2023-08-16T13:37:02.529455Z",
          "shell.execute_reply.started": "2023-08-16T13:37:02.494524Z",
          "shell.execute_reply": "2023-08-16T13:37:02.528300Z"
        },
        "trusted": true,
        "id": "oXf5zxDw7eTQ",
        "outputId": "63e84058-0b32-40a1-a3b5-18180dff2917"
      },
      "execution_count": null,
      "outputs": [
        {
          "execution_count": 46,
          "output_type": "execute_result",
          "data": {
            "text/plain": "              STATE     CONSTITUENCY                               NAME  \\\n0         Telangana         ADILABAD                     SOYAM BAPU RAO   \n4     Uttar Pradesh             AGRA              Satyapal Singh Baghel   \n7       Maharashtra       AHMADNAGAR  Dr. SUJAY RADHAKRISHNA VIKHEPATIL   \n10          Gujarat   AHMEDABAD EAST         Patel Hasmukhbhai Somabhai   \n12          Gujarat   AHMEDABAD WEST               DR. KIRIT P. SOLANKI   \n...             ...              ...                                ...   \n2243    Maharashtra           WARDHA         Ramdas Chandrabhanji Tadas   \n2247         Kerala          WAYANAD                       Rahul Gandhi   \n2250   NCT OF Delhi       WEST DELHI          PARVESH SAHIB SINGH VERMA   \n2253    Maharashtra  YAVATMAL-WASHIM          Bhavana Pundlikrao Gawali   \n2259      Telangana        ZAHIRABAD                          B.B.PATIL   \n\n      WINNER PARTY         SYMBOL  GENDER  CRIMINAL\\nCASES   AGE CATEGORY  \\\n0          1   BJP          Lotus    MALE             52.0  52.0       ST   \n4          1   BJP          Lotus    MALE              5.0  58.0       SC   \n7          1   BJP          Lotus    MALE              0.0  37.0  GENERAL   \n10         1   BJP          Lotus    MALE              0.0  58.0  GENERAL   \n12         1   BJP          Lotus    MALE              0.0  69.0       SC   \n...      ...   ...            ...     ...              ...   ...      ...   \n2243       1   BJP          Lotus    MALE              0.0  65.0  GENERAL   \n2247       1   INC           Hand    MALE              5.0  48.0  GENERAL   \n2250       1   BJP          Lotus    MALE              0.0  41.0  GENERAL   \n2253       1   SHS  Bow and Arrow  FEMALE              3.0  46.0  GENERAL   \n2259       1   TRS            Car    MALE             18.0  63.0  GENERAL   \n\n          EDUCATION                            ASSETS  \\\n0         12th Pass         Rs 30,99,414\\n ~ 30 Lacs+   \n4         Doctorate       Rs 7,42,74,036\\n ~ 7 Crore+   \n7         Doctorate     Rs 16,86,64,576\\n ~ 16 Crore+   \n10           Others       Rs 7,46,99,690\\n ~ 7 Crore+   \n12    Post Graduate       Rs 8,94,74,039\\n ~ 8 Crore+   \n...             ...                               ...   \n2243      10th Pass       Rs 6,58,07,822\\n ~ 6 Crore+   \n2247  Post Graduate     Rs 15,88,77,063\\n ~ 15 Crore+   \n2250  Post Graduate     Rs 15,51,95,014\\n ~ 15 Crore+   \n2253       Graduate       Rs 9,68,73,189\\n ~ 9 Crore+   \n2259       Graduate  Rs 1,28,78,51,556\\n ~ 128 Crore+   \n\n                      LIABILITIES  GENERAL\\nVOTES  POSTAL\\nVOTES  \\\n0         Rs 2,31,450\\n ~ 2 Lacs+          376892            482   \n4       Rs 86,06,522\\n ~ 86 Lacs+          644459           2416   \n7       Rs 26,23,964\\n ~ 26 Lacs+          696961           7699   \n10      Rs 62,52,577\\n ~ 62 Lacs+          745810           4024   \n12                       Rs 0\\n ~          638241           3381   \n...                           ...             ...            ...   \n2243    Rs 89,61,387\\n ~ 89 Lacs+          575488           2876   \n2247    Rs 72,01,904\\n ~ 72 Lacs+          705034           1333   \n2250  Rs 4,00,97,329\\n ~ 4 Crore+          862058           3590   \n2253    Rs 73,96,250\\n ~ 73 Lacs+          540104           1994   \n2259  Rs 1,15,35,000\\n ~ 1 Crore+          434066            178   \n\n      TOTAL\\nVOTES  OVER TOTAL ELECTORS \\nIN CONSTITUENCY  \\\n0           377374                              25.330684   \n4           646875                              33.383823   \n7           704660                              37.856533   \n10          749834                              41.384970   \n12          641622                              39.044323   \n...            ...                                    ...   \n2243        578364                              33.176713   \n2247        706367                              51.951012   \n2250        865648                              36.499913   \n2253        542098                              28.290483   \n2259        434244                              28.975369   \n\n      OVER TOTAL VOTES POLLED \\nIN CONSTITUENCY  TOTAL ELECTORS  Rank  \n0                                     35.468248         1489790   1.0  \n4                                     56.464615         1937690   1.0  \n7                                     58.425159         1861396   1.0  \n10                                    67.005462         1811851   1.0  \n12                                    64.211450         1643317   1.0  \n...                                         ...             ...   ...  \n2243                                  53.918820         1743283   1.0  \n2247                                  64.640694         1359679   1.0  \n2250                                  60.010593         2371644   1.0  \n2253                                  46.142912         1916185   1.0  \n2259                                  41.574183         1498666   1.0  \n\n[539 rows x 20 columns]",
            "text/html": "<div>\n<style scoped>\n    .dataframe tbody tr th:only-of-type {\n        vertical-align: middle;\n    }\n\n    .dataframe tbody tr th {\n        vertical-align: top;\n    }\n\n    .dataframe thead th {\n        text-align: right;\n    }\n</style>\n<table border=\"1\" class=\"dataframe\">\n  <thead>\n    <tr style=\"text-align: right;\">\n      <th></th>\n      <th>STATE</th>\n      <th>CONSTITUENCY</th>\n      <th>NAME</th>\n      <th>WINNER</th>\n      <th>PARTY</th>\n      <th>SYMBOL</th>\n      <th>GENDER</th>\n      <th>CRIMINAL\\nCASES</th>\n      <th>AGE</th>\n      <th>CATEGORY</th>\n      <th>EDUCATION</th>\n      <th>ASSETS</th>\n      <th>LIABILITIES</th>\n      <th>GENERAL\\nVOTES</th>\n      <th>POSTAL\\nVOTES</th>\n      <th>TOTAL\\nVOTES</th>\n      <th>OVER TOTAL ELECTORS \\nIN CONSTITUENCY</th>\n      <th>OVER TOTAL VOTES POLLED \\nIN CONSTITUENCY</th>\n      <th>TOTAL ELECTORS</th>\n      <th>Rank</th>\n    </tr>\n  </thead>\n  <tbody>\n    <tr>\n      <th>0</th>\n      <td>Telangana</td>\n      <td>ADILABAD</td>\n      <td>SOYAM BAPU RAO</td>\n      <td>1</td>\n      <td>BJP</td>\n      <td>Lotus</td>\n      <td>MALE</td>\n      <td>52.0</td>\n      <td>52.0</td>\n      <td>ST</td>\n      <td>12th Pass</td>\n      <td>Rs 30,99,414\\n ~ 30 Lacs+</td>\n      <td>Rs 2,31,450\\n ~ 2 Lacs+</td>\n      <td>376892</td>\n      <td>482</td>\n      <td>377374</td>\n      <td>25.330684</td>\n      <td>35.468248</td>\n      <td>1489790</td>\n      <td>1.0</td>\n    </tr>\n    <tr>\n      <th>4</th>\n      <td>Uttar Pradesh</td>\n      <td>AGRA</td>\n      <td>Satyapal Singh Baghel</td>\n      <td>1</td>\n      <td>BJP</td>\n      <td>Lotus</td>\n      <td>MALE</td>\n      <td>5.0</td>\n      <td>58.0</td>\n      <td>SC</td>\n      <td>Doctorate</td>\n      <td>Rs 7,42,74,036\\n ~ 7 Crore+</td>\n      <td>Rs 86,06,522\\n ~ 86 Lacs+</td>\n      <td>644459</td>\n      <td>2416</td>\n      <td>646875</td>\n      <td>33.383823</td>\n      <td>56.464615</td>\n      <td>1937690</td>\n      <td>1.0</td>\n    </tr>\n    <tr>\n      <th>7</th>\n      <td>Maharashtra</td>\n      <td>AHMADNAGAR</td>\n      <td>Dr. SUJAY RADHAKRISHNA VIKHEPATIL</td>\n      <td>1</td>\n      <td>BJP</td>\n      <td>Lotus</td>\n      <td>MALE</td>\n      <td>0.0</td>\n      <td>37.0</td>\n      <td>GENERAL</td>\n      <td>Doctorate</td>\n      <td>Rs 16,86,64,576\\n ~ 16 Crore+</td>\n      <td>Rs 26,23,964\\n ~ 26 Lacs+</td>\n      <td>696961</td>\n      <td>7699</td>\n      <td>704660</td>\n      <td>37.856533</td>\n      <td>58.425159</td>\n      <td>1861396</td>\n      <td>1.0</td>\n    </tr>\n    <tr>\n      <th>10</th>\n      <td>Gujarat</td>\n      <td>AHMEDABAD EAST</td>\n      <td>Patel Hasmukhbhai Somabhai</td>\n      <td>1</td>\n      <td>BJP</td>\n      <td>Lotus</td>\n      <td>MALE</td>\n      <td>0.0</td>\n      <td>58.0</td>\n      <td>GENERAL</td>\n      <td>Others</td>\n      <td>Rs 7,46,99,690\\n ~ 7 Crore+</td>\n      <td>Rs 62,52,577\\n ~ 62 Lacs+</td>\n      <td>745810</td>\n      <td>4024</td>\n      <td>749834</td>\n      <td>41.384970</td>\n      <td>67.005462</td>\n      <td>1811851</td>\n      <td>1.0</td>\n    </tr>\n    <tr>\n      <th>12</th>\n      <td>Gujarat</td>\n      <td>AHMEDABAD WEST</td>\n      <td>DR. KIRIT P. SOLANKI</td>\n      <td>1</td>\n      <td>BJP</td>\n      <td>Lotus</td>\n      <td>MALE</td>\n      <td>0.0</td>\n      <td>69.0</td>\n      <td>SC</td>\n      <td>Post Graduate</td>\n      <td>Rs 8,94,74,039\\n ~ 8 Crore+</td>\n      <td>Rs 0\\n ~</td>\n      <td>638241</td>\n      <td>3381</td>\n      <td>641622</td>\n      <td>39.044323</td>\n      <td>64.211450</td>\n      <td>1643317</td>\n      <td>1.0</td>\n    </tr>\n    <tr>\n      <th>...</th>\n      <td>...</td>\n      <td>...</td>\n      <td>...</td>\n      <td>...</td>\n      <td>...</td>\n      <td>...</td>\n      <td>...</td>\n      <td>...</td>\n      <td>...</td>\n      <td>...</td>\n      <td>...</td>\n      <td>...</td>\n      <td>...</td>\n      <td>...</td>\n      <td>...</td>\n      <td>...</td>\n      <td>...</td>\n      <td>...</td>\n      <td>...</td>\n      <td>...</td>\n    </tr>\n    <tr>\n      <th>2243</th>\n      <td>Maharashtra</td>\n      <td>WARDHA</td>\n      <td>Ramdas Chandrabhanji Tadas</td>\n      <td>1</td>\n      <td>BJP</td>\n      <td>Lotus</td>\n      <td>MALE</td>\n      <td>0.0</td>\n      <td>65.0</td>\n      <td>GENERAL</td>\n      <td>10th Pass</td>\n      <td>Rs 6,58,07,822\\n ~ 6 Crore+</td>\n      <td>Rs 89,61,387\\n ~ 89 Lacs+</td>\n      <td>575488</td>\n      <td>2876</td>\n      <td>578364</td>\n      <td>33.176713</td>\n      <td>53.918820</td>\n      <td>1743283</td>\n      <td>1.0</td>\n    </tr>\n    <tr>\n      <th>2247</th>\n      <td>Kerala</td>\n      <td>WAYANAD</td>\n      <td>Rahul Gandhi</td>\n      <td>1</td>\n      <td>INC</td>\n      <td>Hand</td>\n      <td>MALE</td>\n      <td>5.0</td>\n      <td>48.0</td>\n      <td>GENERAL</td>\n      <td>Post Graduate</td>\n      <td>Rs 15,88,77,063\\n ~ 15 Crore+</td>\n      <td>Rs 72,01,904\\n ~ 72 Lacs+</td>\n      <td>705034</td>\n      <td>1333</td>\n      <td>706367</td>\n      <td>51.951012</td>\n      <td>64.640694</td>\n      <td>1359679</td>\n      <td>1.0</td>\n    </tr>\n    <tr>\n      <th>2250</th>\n      <td>NCT OF Delhi</td>\n      <td>WEST DELHI</td>\n      <td>PARVESH SAHIB SINGH VERMA</td>\n      <td>1</td>\n      <td>BJP</td>\n      <td>Lotus</td>\n      <td>MALE</td>\n      <td>0.0</td>\n      <td>41.0</td>\n      <td>GENERAL</td>\n      <td>Post Graduate</td>\n      <td>Rs 15,51,95,014\\n ~ 15 Crore+</td>\n      <td>Rs 4,00,97,329\\n ~ 4 Crore+</td>\n      <td>862058</td>\n      <td>3590</td>\n      <td>865648</td>\n      <td>36.499913</td>\n      <td>60.010593</td>\n      <td>2371644</td>\n      <td>1.0</td>\n    </tr>\n    <tr>\n      <th>2253</th>\n      <td>Maharashtra</td>\n      <td>YAVATMAL-WASHIM</td>\n      <td>Bhavana Pundlikrao Gawali</td>\n      <td>1</td>\n      <td>SHS</td>\n      <td>Bow and Arrow</td>\n      <td>FEMALE</td>\n      <td>3.0</td>\n      <td>46.0</td>\n      <td>GENERAL</td>\n      <td>Graduate</td>\n      <td>Rs 9,68,73,189\\n ~ 9 Crore+</td>\n      <td>Rs 73,96,250\\n ~ 73 Lacs+</td>\n      <td>540104</td>\n      <td>1994</td>\n      <td>542098</td>\n      <td>28.290483</td>\n      <td>46.142912</td>\n      <td>1916185</td>\n      <td>1.0</td>\n    </tr>\n    <tr>\n      <th>2259</th>\n      <td>Telangana</td>\n      <td>ZAHIRABAD</td>\n      <td>B.B.PATIL</td>\n      <td>1</td>\n      <td>TRS</td>\n      <td>Car</td>\n      <td>MALE</td>\n      <td>18.0</td>\n      <td>63.0</td>\n      <td>GENERAL</td>\n      <td>Graduate</td>\n      <td>Rs 1,28,78,51,556\\n ~ 128 Crore+</td>\n      <td>Rs 1,15,35,000\\n ~ 1 Crore+</td>\n      <td>434066</td>\n      <td>178</td>\n      <td>434244</td>\n      <td>28.975369</td>\n      <td>41.574183</td>\n      <td>1498666</td>\n      <td>1.0</td>\n    </tr>\n  </tbody>\n</table>\n<p>539 rows × 20 columns</p>\n</div>"
          },
          "metadata": {}
        }
      ]
    },
    {
      "cell_type": "code",
      "source": [
        "statedf.columns"
      ],
      "metadata": {
        "execution": {
          "iopub.status.busy": "2023-08-16T13:37:02.545844Z",
          "iopub.execute_input": "2023-08-16T13:37:02.546895Z",
          "iopub.status.idle": "2023-08-16T13:37:02.562982Z",
          "shell.execute_reply.started": "2023-08-16T13:37:02.546838Z",
          "shell.execute_reply": "2023-08-16T13:37:02.561720Z"
        },
        "trusted": true,
        "id": "vUoOsfi-7eTQ",
        "outputId": "81a5c41c-cdf9-4816-8bd4-3586151e24b2"
      },
      "execution_count": null,
      "outputs": [
        {
          "execution_count": 48,
          "output_type": "execute_result",
          "data": {
            "text/plain": "Index(['STATE', 'CONSTITUENCY', 'NAME', 'WINNER', 'PARTY', 'SYMBOL', 'GENDER',\n       'CRIMINAL\\nCASES', 'AGE', 'CATEGORY', 'EDUCATION', 'ASSETS',\n       'LIABILITIES', 'GENERAL\\nVOTES', 'POSTAL\\nVOTES', 'TOTAL\\nVOTES',\n       'OVER TOTAL ELECTORS \\nIN CONSTITUENCY',\n       'OVER TOTAL VOTES POLLED \\nIN CONSTITUENCY', 'TOTAL ELECTORS', 'Rank',\n       'Region'],\n      dtype='object')"
          },
          "metadata": {}
        }
      ]
    },
    {
      "cell_type": "code",
      "source": [
        "f=statedf.groupby(['STATE','PARTY'])['WINNER'].sum()\n",
        "f.sort_values(ascending=False)"
      ],
      "metadata": {
        "execution": {
          "iopub.status.busy": "2023-08-16T13:37:02.564474Z",
          "iopub.execute_input": "2023-08-16T13:37:02.565240Z",
          "iopub.status.idle": "2023-08-16T13:37:02.583079Z",
          "shell.execute_reply.started": "2023-08-16T13:37:02.565198Z",
          "shell.execute_reply": "2023-08-16T13:37:02.581772Z"
        },
        "trusted": true,
        "id": "P9afXNrR7eTQ",
        "outputId": "47540543-e762-4e8e-8312-60a8e6ba1bb2"
      },
      "execution_count": null,
      "outputs": [
        {
          "execution_count": 49,
          "output_type": "execute_result",
          "data": {
            "text/plain": "STATE                      PARTY \nUttar Pradesh              BJP       60\nMadhya Pradesh             BJP       28\nGujarat                    BJP       26\nKarnataka                  BJP       25\nRajasthan                  BJP       24\n                                     ..\nPunjab                     AAP        1\nKerala                     CPI(M)     1\nKarnataka                  JD(S)      1\n                           IND        1\nAndaman & Nicobar Islands  INC        1\nName: WINNER, Length: 85, dtype: int64"
          },
          "metadata": {}
        }
      ]
    },
    {
      "cell_type": "code",
      "source": [
        "\n",
        "n=statedf.groupby('STATE')['WINNER'].sum()\n",
        "n.sort_values(ascending=False)"
      ],
      "metadata": {
        "execution": {
          "iopub.status.busy": "2023-08-16T13:37:02.586385Z",
          "iopub.execute_input": "2023-08-16T13:37:02.586818Z",
          "iopub.status.idle": "2023-08-16T13:37:02.596944Z",
          "shell.execute_reply.started": "2023-08-16T13:37:02.586785Z",
          "shell.execute_reply": "2023-08-16T13:37:02.596123Z"
        },
        "trusted": true,
        "id": "tPWJxXFU7eTQ",
        "outputId": "db1c3b96-302e-4796-f2a7-3c819c7294b3"
      },
      "execution_count": null,
      "outputs": [
        {
          "execution_count": 50,
          "output_type": "execute_result",
          "data": {
            "text/plain": "STATE\nUttar Pradesh                78\nMaharashtra                  47\nWest Bengal                  42\nBihar                        41\nTamil Nadu                   38\nMadhya Pradesh               29\nKarnataka                    28\nGujarat                      26\nRajasthan                    25\nAndhra Pradesh               25\nKerala                       20\nOdisha                       20\nTelangana                    17\nAssam                        14\nJharkhand                    14\nPunjab                       13\nChhattisgarh                 11\nHaryana                      10\nNCT OF Delhi                  7\nJammu & Kashmir               6\nUttarakhand                   5\nHimachal Pradesh              4\nTripura                       2\nArunachal Pradesh             2\nMeghalaya                     2\nManipur                       2\nGoa                           2\nNagaland                      1\nPuducherry                    1\nMizoram                       1\nDadra & Nagar Haveli          1\nSikkim                        1\nChandigarh                    1\nLakshadweep                   1\nDaman & Diu                   1\nAndaman & Nicobar Islands     1\nName: WINNER, dtype: int64"
          },
          "metadata": {}
        }
      ]
    },
    {
      "cell_type": "code",
      "source": [
        "def set_new_column_value(row):\n",
        "    if row['STATE'] == 'Jammu & Kashmir':\n",
        "        return 'NORTH INDIA'\n",
        "    elif row['STATE'] == 'Himachal Pradesh':\n",
        "        return 'NORTH INDIA'\n",
        "    elif row['STATE'] == 'Punjab':\n",
        "        return 'NORTH INDIA'\n",
        "    elif row['STATE'] == 'Haryana':\n",
        "        return 'NORTH INDIA'\n",
        "    elif row['STATE'] == 'Uttarakhand':\n",
        "        return 'NORTH INDIA'\n",
        "    elif row['STATE'] == 'NCT OF Delhi':\n",
        "        return 'NORTH INDIA'\n",
        "    elif row['STATE'] == 'Chandigarh':\n",
        "        return 'NORTH INDIA'\n",
        "    elif row['STATE'] == 'Uttar Pradesh':\n",
        "        return 'CENTRAL INDIA'\n",
        "    elif row['STATE'] == 'Madhya Pradesh':\n",
        "        return 'CENTRAL INDIA'\n",
        "    elif row['STATE'] == 'Chhattisgarh':\n",
        "        return 'CENTRAL INDIA'\n",
        "    elif row['STATE'] == 'Gujarat':\n",
        "        return 'WEST INDIA'\n",
        "    elif row['STATE'] == 'Rajasthan':\n",
        "        return 'WEST INDIA'\n",
        "    elif row['STATE'] == 'Maharashtra':\n",
        "        return 'WEST INDIA'\n",
        "    elif row['STATE'] == 'Goa':\n",
        "        return 'WEST INDIA'\n",
        "    elif row['STATE'] == 'Dadra & Nagar Haveli\"':\n",
        "        return 'WEST INDIA'\n",
        "    elif row['STATE'] == 'Daman & Diu':\n",
        "        return 'WEST INDIA'\n",
        "    elif row['STATE'] == 'Karnataka':\n",
        "        return 'SOUTH INDIA'\n",
        "    elif row['STATE'] == 'Andhra Pradesh':\n",
        "        return 'SOUTH INDIA'\n",
        "    elif row['STATE'] == 'Telangana':\n",
        "        return 'SOUTH INDIA'\n",
        "    elif row['STATE'] == 'Kerala':\n",
        "        return 'SOUTH INDIA'\n",
        "    elif row['STATE'] == 'Tamil Nadu':\n",
        "        return 'SOUTH INDIA'\n",
        "    elif row['STATE'] == 'Puducherry':\n",
        "        return 'SOUTH INDIA'\n",
        "    elif row['STATE'] == 'Lakshadweep':\n",
        "        return 'SOUTH INDIA'\n",
        "    elif row['STATE'] == 'Bihar':\n",
        "        return 'EAST INDIA'\n",
        "    elif row['STATE'] == 'Jharkhand':\n",
        "        return 'EAST INDIA'\n",
        "    elif row['STATE'] == 'West Bengal':\n",
        "        return 'EAST INDIA'\n",
        "    elif row['STATE'] == 'Odisha':\n",
        "        return 'EAST INDIA'\n",
        "    elif row['STATE'] == 'Andaman & Nicobar Islands':\n",
        "        return 'EAST INDIA'\n",
        "    elif row['STATE'] == 'Assam':\n",
        "        return 'NORTH-EAST INDIA'\n",
        "    elif row['STATE'] == 'Arunachal Pradesh':\n",
        "        return 'NORTH-EAST INDIA'\n",
        "    elif row['STATE'] == 'Manipur':\n",
        "        return 'NORTH-EAST INDIA'\n",
        "    elif row['STATE'] == 'Meghalaya':\n",
        "        return 'NORTH-EAST INDIA'\n",
        "    elif row['STATE'] == 'Mizoram':\n",
        "        return 'NORTH-EAST INDIA'\n",
        "    elif row['STATE'] == 'Nagaland':\n",
        "        return 'NORTH-EAST INDIA'\n",
        "    elif row['STATE'] == 'Sikkim':\n",
        "        return 'NORTH-EAST INDIA'\n",
        "    elif row['STATE'] == 'Tripura':\n",
        "        return 'NORTH-EAST INDIA'\n",
        "    else:\n",
        "        return 'Null'\n",
        "\n",
        "\n",
        "statedf['Region'] = statedf.apply(set_new_column_value, axis=1)"
      ],
      "metadata": {
        "trusted": true,
        "id": "WGiCi21I7eTQ"
      },
      "execution_count": null,
      "outputs": []
    },
    {
      "cell_type": "code",
      "source": [
        "statedf"
      ],
      "metadata": {
        "execution": {
          "iopub.status.busy": "2023-08-16T13:58:38.167660Z",
          "iopub.execute_input": "2023-08-16T13:58:38.168664Z",
          "iopub.status.idle": "2023-08-16T13:58:38.206023Z",
          "shell.execute_reply.started": "2023-08-16T13:58:38.168627Z",
          "shell.execute_reply": "2023-08-16T13:58:38.204931Z"
        },
        "trusted": true,
        "id": "PSyZE_gm7eTR",
        "outputId": "c9474187-1d82-47ba-df62-b2d913a1869d"
      },
      "execution_count": null,
      "outputs": [
        {
          "execution_count": 53,
          "output_type": "execute_result",
          "data": {
            "text/plain": "              STATE     CONSTITUENCY                               NAME  \\\n0         Telangana         ADILABAD                     SOYAM BAPU RAO   \n4     Uttar Pradesh             AGRA              Satyapal Singh Baghel   \n7       Maharashtra       AHMADNAGAR  Dr. SUJAY RADHAKRISHNA VIKHEPATIL   \n10          Gujarat   AHMEDABAD EAST         Patel Hasmukhbhai Somabhai   \n12          Gujarat   AHMEDABAD WEST               DR. KIRIT P. SOLANKI   \n...             ...              ...                                ...   \n2243    Maharashtra           WARDHA         Ramdas Chandrabhanji Tadas   \n2247         Kerala          WAYANAD                       Rahul Gandhi   \n2250   NCT OF Delhi       WEST DELHI          PARVESH SAHIB SINGH VERMA   \n2253    Maharashtra  YAVATMAL-WASHIM          Bhavana Pundlikrao Gawali   \n2259      Telangana        ZAHIRABAD                          B.B.PATIL   \n\n      WINNER PARTY         SYMBOL  GENDER  CRIMINAL\\nCASES   AGE CATEGORY  \\\n0          1   BJP          Lotus    MALE             52.0  52.0       ST   \n4          1   BJP          Lotus    MALE              5.0  58.0       SC   \n7          1   BJP          Lotus    MALE              0.0  37.0  GENERAL   \n10         1   BJP          Lotus    MALE              0.0  58.0  GENERAL   \n12         1   BJP          Lotus    MALE              0.0  69.0       SC   \n...      ...   ...            ...     ...              ...   ...      ...   \n2243       1   BJP          Lotus    MALE              0.0  65.0  GENERAL   \n2247       1   INC           Hand    MALE              5.0  48.0  GENERAL   \n2250       1   BJP          Lotus    MALE              0.0  41.0  GENERAL   \n2253       1   SHS  Bow and Arrow  FEMALE              3.0  46.0  GENERAL   \n2259       1   TRS            Car    MALE             18.0  63.0  GENERAL   \n\n      ...                            ASSETS                  LIABILITIES  \\\n0     ...         Rs 30,99,414\\n ~ 30 Lacs+      Rs 2,31,450\\n ~ 2 Lacs+   \n4     ...       Rs 7,42,74,036\\n ~ 7 Crore+    Rs 86,06,522\\n ~ 86 Lacs+   \n7     ...     Rs 16,86,64,576\\n ~ 16 Crore+    Rs 26,23,964\\n ~ 26 Lacs+   \n10    ...       Rs 7,46,99,690\\n ~ 7 Crore+    Rs 62,52,577\\n ~ 62 Lacs+   \n12    ...       Rs 8,94,74,039\\n ~ 8 Crore+                     Rs 0\\n ~   \n...   ...                               ...                          ...   \n2243  ...       Rs 6,58,07,822\\n ~ 6 Crore+    Rs 89,61,387\\n ~ 89 Lacs+   \n2247  ...     Rs 15,88,77,063\\n ~ 15 Crore+    Rs 72,01,904\\n ~ 72 Lacs+   \n2250  ...     Rs 15,51,95,014\\n ~ 15 Crore+  Rs 4,00,97,329\\n ~ 4 Crore+   \n2253  ...       Rs 9,68,73,189\\n ~ 9 Crore+    Rs 73,96,250\\n ~ 73 Lacs+   \n2259  ...  Rs 1,28,78,51,556\\n ~ 128 Crore+  Rs 1,15,35,000\\n ~ 1 Crore+   \n\n     GENERAL\\nVOTES  POSTAL\\nVOTES  TOTAL\\nVOTES  \\\n0            376892            482        377374   \n4            644459           2416        646875   \n7            696961           7699        704660   \n10           745810           4024        749834   \n12           638241           3381        641622   \n...             ...            ...           ...   \n2243         575488           2876        578364   \n2247         705034           1333        706367   \n2250         862058           3590        865648   \n2253         540104           1994        542098   \n2259         434066            178        434244   \n\n      OVER TOTAL ELECTORS \\nIN CONSTITUENCY  \\\n0                                 25.330684   \n4                                 33.383823   \n7                                 37.856533   \n10                                41.384970   \n12                                39.044323   \n...                                     ...   \n2243                              33.176713   \n2247                              51.951012   \n2250                              36.499913   \n2253                              28.290483   \n2259                              28.975369   \n\n      OVER TOTAL VOTES POLLED \\nIN CONSTITUENCY  TOTAL ELECTORS  Rank  \\\n0                                     35.468248         1489790   1.0   \n4                                     56.464615         1937690   1.0   \n7                                     58.425159         1861396   1.0   \n10                                    67.005462         1811851   1.0   \n12                                    64.211450         1643317   1.0   \n...                                         ...             ...   ...   \n2243                                  53.918820         1743283   1.0   \n2247                                  64.640694         1359679   1.0   \n2250                                  60.010593         2371644   1.0   \n2253                                  46.142912         1916185   1.0   \n2259                                  41.574183         1498666   1.0   \n\n             Region  \n0       SOUTH INDIA  \n4     CENTRAL INDIA  \n7        WEST INDIA  \n10       WEST INDIA  \n12       WEST INDIA  \n...             ...  \n2243     WEST INDIA  \n2247    SOUTH INDIA  \n2250    NORTH INDIA  \n2253     WEST INDIA  \n2259    SOUTH INDIA  \n\n[539 rows x 21 columns]",
            "text/html": "<div>\n<style scoped>\n    .dataframe tbody tr th:only-of-type {\n        vertical-align: middle;\n    }\n\n    .dataframe tbody tr th {\n        vertical-align: top;\n    }\n\n    .dataframe thead th {\n        text-align: right;\n    }\n</style>\n<table border=\"1\" class=\"dataframe\">\n  <thead>\n    <tr style=\"text-align: right;\">\n      <th></th>\n      <th>STATE</th>\n      <th>CONSTITUENCY</th>\n      <th>NAME</th>\n      <th>WINNER</th>\n      <th>PARTY</th>\n      <th>SYMBOL</th>\n      <th>GENDER</th>\n      <th>CRIMINAL\\nCASES</th>\n      <th>AGE</th>\n      <th>CATEGORY</th>\n      <th>...</th>\n      <th>ASSETS</th>\n      <th>LIABILITIES</th>\n      <th>GENERAL\\nVOTES</th>\n      <th>POSTAL\\nVOTES</th>\n      <th>TOTAL\\nVOTES</th>\n      <th>OVER TOTAL ELECTORS \\nIN CONSTITUENCY</th>\n      <th>OVER TOTAL VOTES POLLED \\nIN CONSTITUENCY</th>\n      <th>TOTAL ELECTORS</th>\n      <th>Rank</th>\n      <th>Region</th>\n    </tr>\n  </thead>\n  <tbody>\n    <tr>\n      <th>0</th>\n      <td>Telangana</td>\n      <td>ADILABAD</td>\n      <td>SOYAM BAPU RAO</td>\n      <td>1</td>\n      <td>BJP</td>\n      <td>Lotus</td>\n      <td>MALE</td>\n      <td>52.0</td>\n      <td>52.0</td>\n      <td>ST</td>\n      <td>...</td>\n      <td>Rs 30,99,414\\n ~ 30 Lacs+</td>\n      <td>Rs 2,31,450\\n ~ 2 Lacs+</td>\n      <td>376892</td>\n      <td>482</td>\n      <td>377374</td>\n      <td>25.330684</td>\n      <td>35.468248</td>\n      <td>1489790</td>\n      <td>1.0</td>\n      <td>SOUTH INDIA</td>\n    </tr>\n    <tr>\n      <th>4</th>\n      <td>Uttar Pradesh</td>\n      <td>AGRA</td>\n      <td>Satyapal Singh Baghel</td>\n      <td>1</td>\n      <td>BJP</td>\n      <td>Lotus</td>\n      <td>MALE</td>\n      <td>5.0</td>\n      <td>58.0</td>\n      <td>SC</td>\n      <td>...</td>\n      <td>Rs 7,42,74,036\\n ~ 7 Crore+</td>\n      <td>Rs 86,06,522\\n ~ 86 Lacs+</td>\n      <td>644459</td>\n      <td>2416</td>\n      <td>646875</td>\n      <td>33.383823</td>\n      <td>56.464615</td>\n      <td>1937690</td>\n      <td>1.0</td>\n      <td>CENTRAL INDIA</td>\n    </tr>\n    <tr>\n      <th>7</th>\n      <td>Maharashtra</td>\n      <td>AHMADNAGAR</td>\n      <td>Dr. SUJAY RADHAKRISHNA VIKHEPATIL</td>\n      <td>1</td>\n      <td>BJP</td>\n      <td>Lotus</td>\n      <td>MALE</td>\n      <td>0.0</td>\n      <td>37.0</td>\n      <td>GENERAL</td>\n      <td>...</td>\n      <td>Rs 16,86,64,576\\n ~ 16 Crore+</td>\n      <td>Rs 26,23,964\\n ~ 26 Lacs+</td>\n      <td>696961</td>\n      <td>7699</td>\n      <td>704660</td>\n      <td>37.856533</td>\n      <td>58.425159</td>\n      <td>1861396</td>\n      <td>1.0</td>\n      <td>WEST INDIA</td>\n    </tr>\n    <tr>\n      <th>10</th>\n      <td>Gujarat</td>\n      <td>AHMEDABAD EAST</td>\n      <td>Patel Hasmukhbhai Somabhai</td>\n      <td>1</td>\n      <td>BJP</td>\n      <td>Lotus</td>\n      <td>MALE</td>\n      <td>0.0</td>\n      <td>58.0</td>\n      <td>GENERAL</td>\n      <td>...</td>\n      <td>Rs 7,46,99,690\\n ~ 7 Crore+</td>\n      <td>Rs 62,52,577\\n ~ 62 Lacs+</td>\n      <td>745810</td>\n      <td>4024</td>\n      <td>749834</td>\n      <td>41.384970</td>\n      <td>67.005462</td>\n      <td>1811851</td>\n      <td>1.0</td>\n      <td>WEST INDIA</td>\n    </tr>\n    <tr>\n      <th>12</th>\n      <td>Gujarat</td>\n      <td>AHMEDABAD WEST</td>\n      <td>DR. KIRIT P. SOLANKI</td>\n      <td>1</td>\n      <td>BJP</td>\n      <td>Lotus</td>\n      <td>MALE</td>\n      <td>0.0</td>\n      <td>69.0</td>\n      <td>SC</td>\n      <td>...</td>\n      <td>Rs 8,94,74,039\\n ~ 8 Crore+</td>\n      <td>Rs 0\\n ~</td>\n      <td>638241</td>\n      <td>3381</td>\n      <td>641622</td>\n      <td>39.044323</td>\n      <td>64.211450</td>\n      <td>1643317</td>\n      <td>1.0</td>\n      <td>WEST INDIA</td>\n    </tr>\n    <tr>\n      <th>...</th>\n      <td>...</td>\n      <td>...</td>\n      <td>...</td>\n      <td>...</td>\n      <td>...</td>\n      <td>...</td>\n      <td>...</td>\n      <td>...</td>\n      <td>...</td>\n      <td>...</td>\n      <td>...</td>\n      <td>...</td>\n      <td>...</td>\n      <td>...</td>\n      <td>...</td>\n      <td>...</td>\n      <td>...</td>\n      <td>...</td>\n      <td>...</td>\n      <td>...</td>\n      <td>...</td>\n    </tr>\n    <tr>\n      <th>2243</th>\n      <td>Maharashtra</td>\n      <td>WARDHA</td>\n      <td>Ramdas Chandrabhanji Tadas</td>\n      <td>1</td>\n      <td>BJP</td>\n      <td>Lotus</td>\n      <td>MALE</td>\n      <td>0.0</td>\n      <td>65.0</td>\n      <td>GENERAL</td>\n      <td>...</td>\n      <td>Rs 6,58,07,822\\n ~ 6 Crore+</td>\n      <td>Rs 89,61,387\\n ~ 89 Lacs+</td>\n      <td>575488</td>\n      <td>2876</td>\n      <td>578364</td>\n      <td>33.176713</td>\n      <td>53.918820</td>\n      <td>1743283</td>\n      <td>1.0</td>\n      <td>WEST INDIA</td>\n    </tr>\n    <tr>\n      <th>2247</th>\n      <td>Kerala</td>\n      <td>WAYANAD</td>\n      <td>Rahul Gandhi</td>\n      <td>1</td>\n      <td>INC</td>\n      <td>Hand</td>\n      <td>MALE</td>\n      <td>5.0</td>\n      <td>48.0</td>\n      <td>GENERAL</td>\n      <td>...</td>\n      <td>Rs 15,88,77,063\\n ~ 15 Crore+</td>\n      <td>Rs 72,01,904\\n ~ 72 Lacs+</td>\n      <td>705034</td>\n      <td>1333</td>\n      <td>706367</td>\n      <td>51.951012</td>\n      <td>64.640694</td>\n      <td>1359679</td>\n      <td>1.0</td>\n      <td>SOUTH INDIA</td>\n    </tr>\n    <tr>\n      <th>2250</th>\n      <td>NCT OF Delhi</td>\n      <td>WEST DELHI</td>\n      <td>PARVESH SAHIB SINGH VERMA</td>\n      <td>1</td>\n      <td>BJP</td>\n      <td>Lotus</td>\n      <td>MALE</td>\n      <td>0.0</td>\n      <td>41.0</td>\n      <td>GENERAL</td>\n      <td>...</td>\n      <td>Rs 15,51,95,014\\n ~ 15 Crore+</td>\n      <td>Rs 4,00,97,329\\n ~ 4 Crore+</td>\n      <td>862058</td>\n      <td>3590</td>\n      <td>865648</td>\n      <td>36.499913</td>\n      <td>60.010593</td>\n      <td>2371644</td>\n      <td>1.0</td>\n      <td>NORTH INDIA</td>\n    </tr>\n    <tr>\n      <th>2253</th>\n      <td>Maharashtra</td>\n      <td>YAVATMAL-WASHIM</td>\n      <td>Bhavana Pundlikrao Gawali</td>\n      <td>1</td>\n      <td>SHS</td>\n      <td>Bow and Arrow</td>\n      <td>FEMALE</td>\n      <td>3.0</td>\n      <td>46.0</td>\n      <td>GENERAL</td>\n      <td>...</td>\n      <td>Rs 9,68,73,189\\n ~ 9 Crore+</td>\n      <td>Rs 73,96,250\\n ~ 73 Lacs+</td>\n      <td>540104</td>\n      <td>1994</td>\n      <td>542098</td>\n      <td>28.290483</td>\n      <td>46.142912</td>\n      <td>1916185</td>\n      <td>1.0</td>\n      <td>WEST INDIA</td>\n    </tr>\n    <tr>\n      <th>2259</th>\n      <td>Telangana</td>\n      <td>ZAHIRABAD</td>\n      <td>B.B.PATIL</td>\n      <td>1</td>\n      <td>TRS</td>\n      <td>Car</td>\n      <td>MALE</td>\n      <td>18.0</td>\n      <td>63.0</td>\n      <td>GENERAL</td>\n      <td>...</td>\n      <td>Rs 1,28,78,51,556\\n ~ 128 Crore+</td>\n      <td>Rs 1,15,35,000\\n ~ 1 Crore+</td>\n      <td>434066</td>\n      <td>178</td>\n      <td>434244</td>\n      <td>28.975369</td>\n      <td>41.574183</td>\n      <td>1498666</td>\n      <td>1.0</td>\n      <td>SOUTH INDIA</td>\n    </tr>\n  </tbody>\n</table>\n<p>539 rows × 21 columns</p>\n</div>"
          },
          "metadata": {}
        }
      ]
    },
    {
      "cell_type": "code",
      "source": [
        "#Q 5 :- What is the region-wise distribution of seats across the country?\n",
        "statedf.groupby(\"Region\")['WINNER'].sum()"
      ],
      "metadata": {
        "execution": {
          "iopub.status.busy": "2023-08-16T14:00:38.250240Z",
          "iopub.execute_input": "2023-08-16T14:00:38.250716Z",
          "iopub.status.idle": "2023-08-16T14:00:38.260564Z",
          "shell.execute_reply.started": "2023-08-16T14:00:38.250679Z",
          "shell.execute_reply": "2023-08-16T14:00:38.259744Z"
        },
        "trusted": true,
        "id": "EoB3tLZ37eTR",
        "outputId": "ad6599ca-248d-4e08-edf3-dd016edfe857"
      },
      "execution_count": null,
      "outputs": [
        {
          "execution_count": 54,
          "output_type": "execute_result",
          "data": {
            "text/plain": "Region\nCENTRAL INDIA       118\nEAST INDIA          118\nNORTH INDIA          46\nNORTH-EAST INDIA     25\nSOUTH INDIA         130\nWEST INDIA          102\nName: WINNER, dtype: int64"
          },
          "metadata": {}
        }
      ]
    }
  ]
}